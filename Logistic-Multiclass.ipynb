{
  "cells": [
    {
      "cell_type": "markdown",
      "metadata": {
        "id": "view-in-github",
        "colab_type": "text"
      },
      "source": [
        "<a href=\"https://colab.research.google.com/github/Enzo2806/Logistic-Multiclass/blob/main/Logistic-Multiclass.ipynb\" target=\"_parent\"><img src=\"https://colab.research.google.com/assets/colab-badge.svg\" alt=\"Open In Colab\"/></a>"
      ]
    },
    {
      "cell_type": "markdown",
      "metadata": {
        "id": "yfqccxH0GV2g"
      },
      "source": [
        " # Task 1: Data preprocessing"
      ]
    },
    {
      "cell_type": "code",
      "execution_count": null,
      "metadata": {
        "id": "SNW5Fz4lGnYM"
      },
      "outputs": [],
      "source": [
        "# Suppress std_out\n",
        "%%capture\n",
        "\n",
        "# Instal packages\n",
        "!pip install matplotlib numpy pandas # Plotting\n",
        "!pip install scipy sklearn # Result analysis and data splitting\n",
        "!pip install seaborn # Heatmaps\n",
        "!pip install -U scikit-learn # Scikit learn for pre-processing"
      ]
    },
    {
      "cell_type": "code",
      "execution_count": null,
      "metadata": {
        "id": "iTtmh9PKGuy7"
      },
      "outputs": [],
      "source": [
        "# Imports\n",
        "import os.path\n",
        "from os import path # Check if the dataset exists in the local environment\n",
        "import pandas as pd # Pre-processing\n",
        "import numpy as np # Data manipulation\n",
        "import matplotlib.pyplot as plt # Visualization\n",
        "from sklearn.datasets import fetch_20newsgroups # Import the dataset from sklearn\n",
        "from sklearn.feature_extraction.text import CountVectorizer # Import for text preprocessing and filtering stopwords.\n",
        "from sklearn.feature_extraction.text import TfidfTransformer # Import to go from occurences to frequencies when processing text data\n",
        "from sklearn.datasets import load_svmlight_file # To pre-process the Imdb reviews (Instead of read_csv since the inputs are not in csv format)\n",
        "from sklearn.utils import shuffle # To shuffle the inputs\n",
        "from numpy.linalg.linalg import sqrt # Square root function\n",
        "from sklearn.metrics import mutual_info_score # Import MI to select features \n",
        "from scipy.sparse import diags # To create diagonal matrices\n",
        "from sklearn.preprocessing import StandardScaler # To standardize data\n",
        "from scipy.sparse import vstack # To verticlly stack sparse matrices\n",
        "from sklearn.model_selection import train_test_split # For splitting into training and validation sets\n",
        "from sklearn.model_selection import GridSearchCV # Sklearn hyperparameter optimization tool used for KNN \n",
        "from sklearn.neighbors import KNeighborsClassifier # Sklearn KNN Classifier\n",
        "from sklearn.metrics import accuracy_score # Sklearn accuracy function\n",
        "from sklearn.metrics import roc_curve, roc_auc_score # ROC curve plotting\n",
        "from math import sqrt # To compute the z-scores\n",
        "import seaborn as sns # Heatmaps\n",
        "\n",
        "\n",
        "%matplotlib inline\n",
        "pd.options.mode.chained_assignment = None # Disable chained assignment warnings"
      ]
    },
    {
      "cell_type": "markdown",
      "metadata": {
        "id": "hmiuQSvdsh-D"
      },
      "source": [
        "We will start by setting a seed for all mp.random processes to ensure reproducibility."
      ]
    },
    {
      "cell_type": "code",
      "execution_count": null,
      "metadata": {
        "id": "O2mjFXMKsqAa"
      },
      "outputs": [],
      "source": [
        "np.random.seed(1)"
      ]
    },
    {
      "cell_type": "markdown",
      "metadata": {
        "id": "kAiJOlmmGitn"
      },
      "source": [
        "## 1.1 IMDB Reviews"
      ]
    },
    {
      "cell_type": "markdown",
      "metadata": {
        "id": "n1HHrm_kPwuV"
      },
      "source": [
        "We'll start by downloading the dataset [1] if it wasn't done already:"
      ]
    },
    {
      "cell_type": "code",
      "execution_count": null,
      "metadata": {
        "id": "jYi8Dj3by4IA"
      },
      "outputs": [],
      "source": [
        "# Suppress std_out\n",
        "%%capture\n",
        "\n",
        "# Download and untar the file if it wasn't done already\n",
        "if not path.exists(\"aclImdb\"):\n",
        "  !wget https://ai.stanford.edu/~amaas/data/sentiment/aclImdb_v1.tar.gz # type: ignore\n",
        "  !tar -xvf /content/aclImdb_v1.tar.gz # type: ignore"
      ]
    },
    {
      "cell_type": "markdown",
      "metadata": {
        "id": "eToQtaQ4P01Z"
      },
      "source": [
        "The Imdb dataset above is composed as follows:\n",
        "- There are two folders in the dataset, one for the training and one for the testing data.\n",
        "- In each folder, we can find one folder for the positive reviews, another for the negative reviews, with each document in either folder representing one review.\n",
        "- The name of a review document is its `id` in the folder followed by the review value associated with it (0-10).\n",
        "- In the main dataset folder, we can also find `imdb.vocab` which holds every word that will represent each of our ~ 83000 features (The value of the feature will be the frequency of that word in the input review), and the index of the feature will be the row in which it appears in the file\n",
        "- Finally, the `labeledBow` file in both the train and test folders holds the frequencies of every word from `imdb.vocab` for each input, along with that input's review value, in the following format (on every new line): \n",
        "`REVIEW_VALUE [<FeatureWordIndex>: <Frequency of that word>]`.\n",
        "- For the above, since `labeledBow` lines are not numbered, and thus we cannot know which one is for which input review, it is good to note that all the positive reviews are included first, followed by all the negative reviews."
      ]
    },
    {
      "cell_type": "markdown",
      "metadata": {
        "id": "pxvgWlJoXYQu"
      },
      "source": [
        "We will start by using `load_svmlight_file` to convert the input data into a sparse `Scipy` matrix, before visualizing the first resulting entry and understanding its composition."
      ]
    },
    {
      "cell_type": "code",
      "execution_count": null,
      "metadata": {
        "id": "-iEy_WQbXYBL",
        "colab": {
          "base_uri": "https://localhost:8080/"
        },
        "outputId": "b8262994-6894-4427-8bc0-11525a8a8f10"
      },
      "outputs": [
        {
          "output_type": "stream",
          "name": "stdout",
          "text": [
            "Shape of the training set inputs: (25000, 89527)\n",
            "First input of the training set: \n",
            "   (0, 0)\t9.0\n",
            "  (0, 1)\t1.0\n",
            "  (0, 2)\t4.0\n",
            "  (0, 3)\t4.0\n",
            "  (0, 4)\t6.0\n",
            "  (0, 5)\t4.0\n",
            "  (0, 6)\t2.0\n",
            "  (0, 7)\t2.0\n",
            "  (0, 8)\t4.0\n",
            "  (0, 10)\t4.0\n",
            "  (0, 12)\t2.0\n",
            "  (0, 26)\t1.0\n",
            "  (0, 27)\t1.0\n",
            "  (0, 28)\t1.0\n",
            "  (0, 29)\t2.0\n",
            "  (0, 32)\t1.0\n",
            "  (0, 41)\t1.0\n",
            "  (0, 45)\t1.0\n",
            "  (0, 47)\t1.0\n",
            "  (0, 50)\t1.0\n",
            "  (0, 54)\t2.0\n",
            "  (0, 57)\t1.0\n",
            "  (0, 59)\t1.0\n",
            "  (0, 63)\t2.0\n",
            "  (0, 64)\t1.0\n",
            "  :\t:\n",
            "  (0, 1477)\t2.0\n",
            "  (0, 1940)\t1.0\n",
            "  (0, 1941)\t1.0\n",
            "  (0, 2096)\t1.0\n",
            "  (0, 2243)\t1.0\n",
            "  (0, 2285)\t1.0\n",
            "  (0, 2379)\t1.0\n",
            "  (0, 2934)\t1.0\n",
            "  (0, 2938)\t1.0\n",
            "  (0, 3520)\t1.0\n",
            "  (0, 3647)\t1.0\n",
            "  (0, 4938)\t1.0\n",
            "  (0, 5138)\t4.0\n",
            "  (0, 5715)\t1.0\n",
            "  (0, 5726)\t1.0\n",
            "  (0, 5731)\t1.0\n",
            "  (0, 5812)\t1.0\n",
            "  (0, 8319)\t1.0\n",
            "  (0, 8567)\t1.0\n",
            "  (0, 10480)\t1.0\n",
            "  (0, 14239)\t1.0\n",
            "  (0, 20604)\t1.0\n",
            "  (0, 22409)\t4.0\n",
            "  (0, 24551)\t1.0\n",
            "  (0, 47304)\t1.0\n",
            "Shape of the training set labels: (25000,)\n",
            "Label of the first input of the training set: 9.0\n"
          ]
        }
      ],
      "source": [
        "# Extracting labeledBow of the training and testing data as a pandas dataframe\n",
        "X_train_imdb, y_train_imdb = load_svmlight_file(\"aclImdb/train/labeledBow.feat\")\n",
        "print(f\"Shape of the training set inputs: {X_train_imdb.shape}\")\n",
        "print(f\"First input of the training set: \\n {X_train_imdb[0]}\")\n",
        "print(f\"Shape of the training set labels: {y_train_imdb.shape}\")\n",
        "print(f\"Label of the first input of the training set: {y_train_imdb[0]}\")"
      ]
    },
    {
      "cell_type": "markdown",
      "metadata": {
        "id": "LIkZw6VGfzVM"
      },
      "source": [
        "As we can see, `X_train[0]` (1st input review) has 2 columns:\n",
        "- Column 1 is a tuple in the format (`index_of_training_example`, `index_of_feature_word`)\n",
        "- Column 2 is a number which represents the number of occurences of the word repreented by `index_of_feature_word`in the `index_of_training_example`th input review"
      ]
    },
    {
      "cell_type": "markdown",
      "metadata": {
        "id": "JoBPiCgjiH0b"
      },
      "source": [
        "Now that we have our training dataset ready, we move on to similarly extracting the testing dataset's features and labels:"
      ]
    },
    {
      "cell_type": "code",
      "execution_count": null,
      "metadata": {
        "id": "3xulcGJSiS2a",
        "colab": {
          "base_uri": "https://localhost:8080/"
        },
        "outputId": "20d64128-cb23-4a33-84f6-412af1eb89a0"
      },
      "outputs": [
        {
          "output_type": "stream",
          "name": "stdout",
          "text": [
            "Shape of the testing set inputs: (25000, 89523)\n",
            "First input of the testing set: \n",
            "   (0, 0)\t7.0\n",
            "  (0, 1)\t4.0\n",
            "  (0, 2)\t2.0\n",
            "  (0, 3)\t5.0\n",
            "  (0, 4)\t5.0\n",
            "  (0, 5)\t1.0\n",
            "  (0, 6)\t3.0\n",
            "  (0, 7)\t1.0\n",
            "  (0, 8)\t6.0\n",
            "  (0, 9)\t3.0\n",
            "  (0, 10)\t4.0\n",
            "  (0, 11)\t6.0\n",
            "  (0, 12)\t1.0\n",
            "  (0, 14)\t2.0\n",
            "  (0, 15)\t4.0\n",
            "  (0, 16)\t1.0\n",
            "  (0, 19)\t2.0\n",
            "  (0, 20)\t2.0\n",
            "  (0, 21)\t1.0\n",
            "  (0, 26)\t1.0\n",
            "  (0, 30)\t2.0\n",
            "  (0, 34)\t1.0\n",
            "  (0, 44)\t1.0\n",
            "  (0, 45)\t1.0\n",
            "  (0, 48)\t1.0\n",
            "  :\t:\n",
            "  (0, 1383)\t1.0\n",
            "  (0, 1409)\t1.0\n",
            "  (0, 1615)\t2.0\n",
            "  (0, 1619)\t1.0\n",
            "  (0, 1773)\t1.0\n",
            "  (0, 1818)\t1.0\n",
            "  (0, 1867)\t1.0\n",
            "  (0, 1868)\t1.0\n",
            "  (0, 2081)\t1.0\n",
            "  (0, 2300)\t1.0\n",
            "  (0, 2510)\t1.0\n",
            "  (0, 2653)\t1.0\n",
            "  (0, 2909)\t1.0\n",
            "  (0, 2956)\t1.0\n",
            "  (0, 2984)\t1.0\n",
            "  (0, 3009)\t1.0\n",
            "  (0, 5447)\t1.0\n",
            "  (0, 7282)\t1.0\n",
            "  (0, 9702)\t1.0\n",
            "  (0, 12605)\t1.0\n",
            "  (0, 12803)\t1.0\n",
            "  (0, 13914)\t1.0\n",
            "  (0, 14176)\t1.0\n",
            "  (0, 15612)\t2.0\n",
            "  (0, 26903)\t1.0\n",
            "Shape of the testing set labels: (25000,)\n",
            "Label of the first input of the testing set: 10.0\n"
          ]
        }
      ],
      "source": [
        "# Extract the inputs and labels of the testing dataset\n",
        "X_test_imdb, y_test_imdb = load_svmlight_file(\"aclImdb/test/labeledBow.feat\")\n",
        "\n",
        "# Visualize the first input of the testing set\n",
        "print(f\"Shape of the testing set inputs: {X_test_imdb.shape}\")\n",
        "print(f\"First input of the testing set: \\n {X_test_imdb[0]}\")\n",
        "print(f\"Shape of the testing set labels: {y_test_imdb.shape}\")\n",
        "print(f\"Label of the first input of the testing set: {y_test_imdb[0]}\")"
      ]
    },
    {
      "cell_type": "markdown",
      "metadata": {
        "id": "Bp2nU4UlFyCV"
      },
      "source": [
        "We can see above that, for `X_test`, we only have `89523` features, meaning that feature words with indices `89523` to `89527`, inclusive, were not used at all in the testing dataset reviews, and thus were omitted from the sparse matrix."
      ]
    },
    {
      "cell_type": "markdown",
      "metadata": {
        "id": "f2eVyqZFgoqM"
      },
      "source": [
        "We thus have `25000` training inputs, `25000` testing inputs, and a total of `89527` features, with only a few being non-zero for every input since there are only so many words you can have in one review (Definitely not `89527`). Furthermore, it must be noted that, for each of `training` and `testing` datasets:\n",
        "- Inputs with indices `0` to `12499` (Inclusive) represent the corresponding sentences from the pos folder of the dataset with corresponding indices `0` to `12499`.\n",
        "- Inputs with indices `15000` to `24999` (Inclusive) represent the corresponding sentences from the neg folder of the dataset with corresponding indices `0` to `12499`.\n",
        "\n",
        "<br><br>We can thus derive the following formula for finding the textual review corresponding to a particular input (Will be useful for inspecting the results of z-score feature selection later on in the notebook):\n",
        "\n",
        "Given the index i (Row index) of any input from `X_train` or `X_test`\n",
        "- If i <= 12499, the corresponding review is located in the `pos` folder of the dataset with name `i_rating.txt`\n",
        "- If i >= 12500, the corresponding review is located in the `neg` folder of the dataset with name `(i-12500)_rating.txt`"
      ]
    },
    {
      "cell_type": "markdown",
      "metadata": {
        "id": "cy1IWqxsjbjp"
      },
      "source": [
        "We will now proceed to extracting the word corresponding to every feature into a pandas dataframe, for future use (When we need to know what each feature represents):"
      ]
    },
    {
      "cell_type": "code",
      "execution_count": null,
      "metadata": {
        "id": "VXciOMg-jv4S",
        "colab": {
          "base_uri": "https://localhost:8080/",
          "height": 206
        },
        "outputId": "1dfe3011-39f7-4e1b-e044-4c5ea59ea710"
      },
      "outputs": [
        {
          "output_type": "execute_result",
          "data": {
            "text/plain": [
              "  Word\n",
              "0  the\n",
              "1  and\n",
              "2    a\n",
              "3   of\n",
              "4   to"
            ],
            "text/html": [
              "\n",
              "  <div id=\"df-aa1934c6-57d4-41b0-a83e-c3783175d926\">\n",
              "    <div class=\"colab-df-container\">\n",
              "      <div>\n",
              "<style scoped>\n",
              "    .dataframe tbody tr th:only-of-type {\n",
              "        vertical-align: middle;\n",
              "    }\n",
              "\n",
              "    .dataframe tbody tr th {\n",
              "        vertical-align: top;\n",
              "    }\n",
              "\n",
              "    .dataframe thead th {\n",
              "        text-align: right;\n",
              "    }\n",
              "</style>\n",
              "<table border=\"1\" class=\"dataframe\">\n",
              "  <thead>\n",
              "    <tr style=\"text-align: right;\">\n",
              "      <th></th>\n",
              "      <th>Word</th>\n",
              "    </tr>\n",
              "  </thead>\n",
              "  <tbody>\n",
              "    <tr>\n",
              "      <th>0</th>\n",
              "      <td>the</td>\n",
              "    </tr>\n",
              "    <tr>\n",
              "      <th>1</th>\n",
              "      <td>and</td>\n",
              "    </tr>\n",
              "    <tr>\n",
              "      <th>2</th>\n",
              "      <td>a</td>\n",
              "    </tr>\n",
              "    <tr>\n",
              "      <th>3</th>\n",
              "      <td>of</td>\n",
              "    </tr>\n",
              "    <tr>\n",
              "      <th>4</th>\n",
              "      <td>to</td>\n",
              "    </tr>\n",
              "  </tbody>\n",
              "</table>\n",
              "</div>\n",
              "      <button class=\"colab-df-convert\" onclick=\"convertToInteractive('df-aa1934c6-57d4-41b0-a83e-c3783175d926')\"\n",
              "              title=\"Convert this dataframe to an interactive table.\"\n",
              "              style=\"display:none;\">\n",
              "        \n",
              "  <svg xmlns=\"http://www.w3.org/2000/svg\" height=\"24px\"viewBox=\"0 0 24 24\"\n",
              "       width=\"24px\">\n",
              "    <path d=\"M0 0h24v24H0V0z\" fill=\"none\"/>\n",
              "    <path d=\"M18.56 5.44l.94 2.06.94-2.06 2.06-.94-2.06-.94-.94-2.06-.94 2.06-2.06.94zm-11 1L8.5 8.5l.94-2.06 2.06-.94-2.06-.94L8.5 2.5l-.94 2.06-2.06.94zm10 10l.94 2.06.94-2.06 2.06-.94-2.06-.94-.94-2.06-.94 2.06-2.06.94z\"/><path d=\"M17.41 7.96l-1.37-1.37c-.4-.4-.92-.59-1.43-.59-.52 0-1.04.2-1.43.59L10.3 9.45l-7.72 7.72c-.78.78-.78 2.05 0 2.83L4 21.41c.39.39.9.59 1.41.59.51 0 1.02-.2 1.41-.59l7.78-7.78 2.81-2.81c.8-.78.8-2.07 0-2.86zM5.41 20L4 18.59l7.72-7.72 1.47 1.35L5.41 20z\"/>\n",
              "  </svg>\n",
              "      </button>\n",
              "      \n",
              "  <style>\n",
              "    .colab-df-container {\n",
              "      display:flex;\n",
              "      flex-wrap:wrap;\n",
              "      gap: 12px;\n",
              "    }\n",
              "\n",
              "    .colab-df-convert {\n",
              "      background-color: #E8F0FE;\n",
              "      border: none;\n",
              "      border-radius: 50%;\n",
              "      cursor: pointer;\n",
              "      display: none;\n",
              "      fill: #1967D2;\n",
              "      height: 32px;\n",
              "      padding: 0 0 0 0;\n",
              "      width: 32px;\n",
              "    }\n",
              "\n",
              "    .colab-df-convert:hover {\n",
              "      background-color: #E2EBFA;\n",
              "      box-shadow: 0px 1px 2px rgba(60, 64, 67, 0.3), 0px 1px 3px 1px rgba(60, 64, 67, 0.15);\n",
              "      fill: #174EA6;\n",
              "    }\n",
              "\n",
              "    [theme=dark] .colab-df-convert {\n",
              "      background-color: #3B4455;\n",
              "      fill: #D2E3FC;\n",
              "    }\n",
              "\n",
              "    [theme=dark] .colab-df-convert:hover {\n",
              "      background-color: #434B5C;\n",
              "      box-shadow: 0px 1px 3px 1px rgba(0, 0, 0, 0.15);\n",
              "      filter: drop-shadow(0px 1px 2px rgba(0, 0, 0, 0.3));\n",
              "      fill: #FFFFFF;\n",
              "    }\n",
              "  </style>\n",
              "\n",
              "      <script>\n",
              "        const buttonEl =\n",
              "          document.querySelector('#df-aa1934c6-57d4-41b0-a83e-c3783175d926 button.colab-df-convert');\n",
              "        buttonEl.style.display =\n",
              "          google.colab.kernel.accessAllowed ? 'block' : 'none';\n",
              "\n",
              "        async function convertToInteractive(key) {\n",
              "          const element = document.querySelector('#df-aa1934c6-57d4-41b0-a83e-c3783175d926');\n",
              "          const dataTable =\n",
              "            await google.colab.kernel.invokeFunction('convertToInteractive',\n",
              "                                                     [key], {});\n",
              "          if (!dataTable) return;\n",
              "\n",
              "          const docLinkHtml = 'Like what you see? Visit the ' +\n",
              "            '<a target=\"_blank\" href=https://colab.research.google.com/notebooks/data_table.ipynb>data table notebook</a>'\n",
              "            + ' to learn more about interactive tables.';\n",
              "          element.innerHTML = '';\n",
              "          dataTable['output_type'] = 'display_data';\n",
              "          await google.colab.output.renderOutput(dataTable, element);\n",
              "          const docLink = document.createElement('div');\n",
              "          docLink.innerHTML = docLinkHtml;\n",
              "          element.appendChild(docLink);\n",
              "        }\n",
              "      </script>\n",
              "    </div>\n",
              "  </div>\n",
              "  "
            ]
          },
          "metadata": {},
          "execution_count": 7
        }
      ],
      "source": [
        "# Extract the data\n",
        "imdb_feature_words = pd.read_csv(\"aclImdb/imdb.vocab\", header=None)\n",
        "\n",
        "# Rename the only column\n",
        "imdb_feature_words.columns = [\"Word\"]\n",
        "\n",
        "# Show the first 5 entries\n",
        "imdb_feature_words.head()"
      ]
    },
    {
      "cell_type": "markdown",
      "metadata": {
        "id": "6KqQG_u3kwq-"
      },
      "source": [
        "Note that the row index of each word is the number used to represent the feature's number of occurences in `X_train` and `X_test`."
      ]
    },
    {
      "cell_type": "markdown",
      "metadata": {
        "id": "HC98YLc7pOh6"
      },
      "source": [
        "The next step now consists of eliminating words that appear less than 1% of the documents, as well as words that appear in more than 50% of the documents because they are \"rare words\" and \"stopwords\" respectively. To accomplish this goal, we will start by computing `imdb_word_usage`, where entry with index `i` corresponds to the number of documents word with index `i` is used in. The `bincount` method of doing things is inspired by [2]."
      ]
    },
    {
      "cell_type": "code",
      "execution_count": null,
      "metadata": {
        "id": "p3sAcyiYsj6O"
      },
      "outputs": [],
      "source": [
        "# Array that will hold in how many documents each word is used\n",
        "imdb_word_usage = np.zeros(imdb_feature_words.shape[0])\n",
        "\n",
        "# Iterate through both X_train and X_test\n",
        "for dataset in (X_train_imdb, X_test_imdb):\n",
        "  # Iterate through every input in either X_train or X_test\n",
        "  for input in dataset:\n",
        "    # used_words will have 89527 entries (1 for each word) where index i will be 0 if word with index \n",
        "    # i wasn't used, and 1 if word with index i was used in the input\n",
        "    # Note: input.indices returns the indices of the words from imdb_feature_words used in the input\n",
        "    used_words = np.bincount(input.indices, minlength=89527)\n",
        "    imdb_word_usage += used_words"
      ]
    },
    {
      "cell_type": "markdown",
      "metadata": {
        "id": "yu-4rm3b3Jzr"
      },
      "source": [
        "We then proceed to dividing the resulting number of occurences by `50000` since our training and testing datasets combined contain `50000` reviews, in order to get the frequency representing the proportion of reviews it appears in."
      ]
    },
    {
      "cell_type": "code",
      "execution_count": null,
      "metadata": {
        "id": "TVgP0Dci0QvH",
        "colab": {
          "base_uri": "https://localhost:8080/"
        },
        "outputId": "fb086c5e-7435-42a1-cd34-04228a87d5ce"
      },
      "outputs": [
        {
          "output_type": "execute_result",
          "data": {
            "text/plain": [
              "array([9.9118e-01, 9.6594e-01, 9.6648e-01, ..., 2.0000e-05, 2.0000e-05,\n",
              "       2.0000e-05])"
            ]
          },
          "metadata": {},
          "execution_count": 9
        }
      ],
      "source": [
        "# Convert counts to frequencies\n",
        "imdb_word_usage /= 50000\n",
        "\n",
        "# Visualize the results as a sanity check\n",
        "imdb_word_usage"
      ]
    },
    {
      "cell_type": "markdown",
      "metadata": {
        "id": "8vA1FCTM4qUm"
      },
      "source": [
        "Since the results above look like the correct frequencies (all between 0 and 1), we now move on to filtering out \"rare words\" and \"stopwords\":"
      ]
    },
    {
      "cell_type": "code",
      "execution_count": null,
      "metadata": {
        "id": "868KfDrm0kSS",
        "colab": {
          "base_uri": "https://localhost:8080/"
        },
        "outputId": "7a42bdf9-8288-49e0-a9fd-bd68328439d4"
      },
      "outputs": [
        {
          "output_type": "stream",
          "name": "stdout",
          "text": [
            "Removed words: \n",
            "                    Word\n",
            "0                    the\n",
            "1                    and\n",
            "2                      a\n",
            "3                     of\n",
            "4                     to\n",
            "...                  ...\n",
            "89522          copywrite\n",
            "89523             artbox\n",
            "89524          kinky-sex\n",
            "89525           urrrghhh\n",
            "89526  investigator-like\n",
            "\n",
            "[87791 rows x 1 columns]\n",
            "Remaining words: \n",
            "            Word\n",
            "21            he\n",
            "23           his\n",
            "27             !\n",
            "30            by\n",
            "31            an\n",
            "...          ...\n",
            "2012  references\n",
            "2014       stock\n",
            "2039       board\n",
            "2047      leader\n",
            "2051       plots\n",
            "\n",
            "[1736 rows x 1 columns]\n"
          ]
        }
      ],
      "source": [
        "# Compute boolean array to locate rare words and stop words in imdb_feature_words\n",
        "words_to_remove = np.logical_or(imdb_word_usage < 0.01, imdb_word_usage > 0.5)\n",
        "\n",
        "# Filter out the above words\n",
        "removed_feature_words = imdb_feature_words[words_to_remove]\n",
        "imdb_feature_words = imdb_feature_words[np.logical_not(words_to_remove)]\n",
        "\n",
        "# Visualize removed words\n",
        "print(\"Removed words: \")\n",
        "print(removed_feature_words)\n",
        "\n",
        "# Visualize remaining words\n",
        "print(\"Remaining words: \")\n",
        "print(imdb_feature_words)"
      ]
    },
    {
      "cell_type": "markdown",
      "metadata": {
        "id": "ToQE82O26KCL"
      },
      "source": [
        "The removed words correctly look like stopwords (e.g. \"The\", \"And\",\n",
        "\"a\", \"of\", \"to\", etc.) and rare words (e.g. \"copywrite\", \"urrrghhh\", \"investigator-like\", etc.) which confirms our results, and we are left with `1736` features."
      ]
    },
    {
      "cell_type": "markdown",
      "metadata": {
        "id": "fA1dxoGKwXTQ"
      },
      "source": [
        "We then re-index the above remaining word dataframe to start from 0 again, since we don't need the old indices anymore."
      ]
    },
    {
      "cell_type": "code",
      "execution_count": null,
      "metadata": {
        "id": "Q0xEAtI7whSm",
        "colab": {
          "base_uri": "https://localhost:8080/",
          "height": 223
        },
        "outputId": "428adec7-ffd7-4f09-fced-aedefdbd4201"
      },
      "outputs": [
        {
          "output_type": "stream",
          "name": "stdout",
          "text": [
            "Remaining number of features: 1736\n"
          ]
        },
        {
          "output_type": "execute_result",
          "data": {
            "text/plain": [
              "  Word\n",
              "0   he\n",
              "1  his\n",
              "2    !\n",
              "3   by\n",
              "4   an"
            ],
            "text/html": [
              "\n",
              "  <div id=\"df-d833d17e-ba30-4066-a59b-7097dc47e560\">\n",
              "    <div class=\"colab-df-container\">\n",
              "      <div>\n",
              "<style scoped>\n",
              "    .dataframe tbody tr th:only-of-type {\n",
              "        vertical-align: middle;\n",
              "    }\n",
              "\n",
              "    .dataframe tbody tr th {\n",
              "        vertical-align: top;\n",
              "    }\n",
              "\n",
              "    .dataframe thead th {\n",
              "        text-align: right;\n",
              "    }\n",
              "</style>\n",
              "<table border=\"1\" class=\"dataframe\">\n",
              "  <thead>\n",
              "    <tr style=\"text-align: right;\">\n",
              "      <th></th>\n",
              "      <th>Word</th>\n",
              "    </tr>\n",
              "  </thead>\n",
              "  <tbody>\n",
              "    <tr>\n",
              "      <th>0</th>\n",
              "      <td>he</td>\n",
              "    </tr>\n",
              "    <tr>\n",
              "      <th>1</th>\n",
              "      <td>his</td>\n",
              "    </tr>\n",
              "    <tr>\n",
              "      <th>2</th>\n",
              "      <td>!</td>\n",
              "    </tr>\n",
              "    <tr>\n",
              "      <th>3</th>\n",
              "      <td>by</td>\n",
              "    </tr>\n",
              "    <tr>\n",
              "      <th>4</th>\n",
              "      <td>an</td>\n",
              "    </tr>\n",
              "  </tbody>\n",
              "</table>\n",
              "</div>\n",
              "      <button class=\"colab-df-convert\" onclick=\"convertToInteractive('df-d833d17e-ba30-4066-a59b-7097dc47e560')\"\n",
              "              title=\"Convert this dataframe to an interactive table.\"\n",
              "              style=\"display:none;\">\n",
              "        \n",
              "  <svg xmlns=\"http://www.w3.org/2000/svg\" height=\"24px\"viewBox=\"0 0 24 24\"\n",
              "       width=\"24px\">\n",
              "    <path d=\"M0 0h24v24H0V0z\" fill=\"none\"/>\n",
              "    <path d=\"M18.56 5.44l.94 2.06.94-2.06 2.06-.94-2.06-.94-.94-2.06-.94 2.06-2.06.94zm-11 1L8.5 8.5l.94-2.06 2.06-.94-2.06-.94L8.5 2.5l-.94 2.06-2.06.94zm10 10l.94 2.06.94-2.06 2.06-.94-2.06-.94-.94-2.06-.94 2.06-2.06.94z\"/><path d=\"M17.41 7.96l-1.37-1.37c-.4-.4-.92-.59-1.43-.59-.52 0-1.04.2-1.43.59L10.3 9.45l-7.72 7.72c-.78.78-.78 2.05 0 2.83L4 21.41c.39.39.9.59 1.41.59.51 0 1.02-.2 1.41-.59l7.78-7.78 2.81-2.81c.8-.78.8-2.07 0-2.86zM5.41 20L4 18.59l7.72-7.72 1.47 1.35L5.41 20z\"/>\n",
              "  </svg>\n",
              "      </button>\n",
              "      \n",
              "  <style>\n",
              "    .colab-df-container {\n",
              "      display:flex;\n",
              "      flex-wrap:wrap;\n",
              "      gap: 12px;\n",
              "    }\n",
              "\n",
              "    .colab-df-convert {\n",
              "      background-color: #E8F0FE;\n",
              "      border: none;\n",
              "      border-radius: 50%;\n",
              "      cursor: pointer;\n",
              "      display: none;\n",
              "      fill: #1967D2;\n",
              "      height: 32px;\n",
              "      padding: 0 0 0 0;\n",
              "      width: 32px;\n",
              "    }\n",
              "\n",
              "    .colab-df-convert:hover {\n",
              "      background-color: #E2EBFA;\n",
              "      box-shadow: 0px 1px 2px rgba(60, 64, 67, 0.3), 0px 1px 3px 1px rgba(60, 64, 67, 0.15);\n",
              "      fill: #174EA6;\n",
              "    }\n",
              "\n",
              "    [theme=dark] .colab-df-convert {\n",
              "      background-color: #3B4455;\n",
              "      fill: #D2E3FC;\n",
              "    }\n",
              "\n",
              "    [theme=dark] .colab-df-convert:hover {\n",
              "      background-color: #434B5C;\n",
              "      box-shadow: 0px 1px 3px 1px rgba(0, 0, 0, 0.15);\n",
              "      filter: drop-shadow(0px 1px 2px rgba(0, 0, 0, 0.3));\n",
              "      fill: #FFFFFF;\n",
              "    }\n",
              "  </style>\n",
              "\n",
              "      <script>\n",
              "        const buttonEl =\n",
              "          document.querySelector('#df-d833d17e-ba30-4066-a59b-7097dc47e560 button.colab-df-convert');\n",
              "        buttonEl.style.display =\n",
              "          google.colab.kernel.accessAllowed ? 'block' : 'none';\n",
              "\n",
              "        async function convertToInteractive(key) {\n",
              "          const element = document.querySelector('#df-d833d17e-ba30-4066-a59b-7097dc47e560');\n",
              "          const dataTable =\n",
              "            await google.colab.kernel.invokeFunction('convertToInteractive',\n",
              "                                                     [key], {});\n",
              "          if (!dataTable) return;\n",
              "\n",
              "          const docLinkHtml = 'Like what you see? Visit the ' +\n",
              "            '<a target=\"_blank\" href=https://colab.research.google.com/notebooks/data_table.ipynb>data table notebook</a>'\n",
              "            + ' to learn more about interactive tables.';\n",
              "          element.innerHTML = '';\n",
              "          dataTable['output_type'] = 'display_data';\n",
              "          await google.colab.output.renderOutput(dataTable, element);\n",
              "          const docLink = document.createElement('div');\n",
              "          docLink.innerHTML = docLinkHtml;\n",
              "          element.appendChild(docLink);\n",
              "        }\n",
              "      </script>\n",
              "    </div>\n",
              "  </div>\n",
              "  "
            ]
          },
          "metadata": {},
          "execution_count": 11
        }
      ],
      "source": [
        "# Re-index, dropping old indices\n",
        "imdb_feature_words.reset_index(inplace=True, drop=True)\n",
        "\n",
        "# Sanity check\n",
        "print(f\"Remaining number of features: {imdb_feature_words.shape[0]}\")\n",
        "imdb_feature_words.head()"
      ]
    },
    {
      "cell_type": "markdown",
      "metadata": {
        "id": "ePLLZIgUwuj4"
      },
      "source": [
        "We can see that the re-indexing was successful, and we are left with `1736` features, which we'll further trim later using hypothesis testing and z-scores."
      ]
    },
    {
      "cell_type": "markdown",
      "metadata": {
        "id": "K1M-C4dE7UYG"
      },
      "source": [
        "We will now proceed to remove the columns corresponding to the above filtered words from the `X_train` and `X_test` sparse input matrices by using a method involving matrix multiplication for efficiency [3], as explained in the comments accompanying the code:"
      ]
    },
    {
      "cell_type": "code",
      "execution_count": null,
      "metadata": {
        "id": "q1Fwdeuh7gdZ",
        "colab": {
          "base_uri": "https://localhost:8080/"
        },
        "outputId": "1c482f40-4a65-4c55-c14c-7a1a64082c35"
      },
      "outputs": [
        {
          "output_type": "stream",
          "name": "stdout",
          "text": [
            "The first entry of the training dataset is now \n",
            "   (0, 1718)\t1.0\n",
            "  (0, 1430)\t2.0\n",
            "  (0, 1373)\t1.0\n",
            "  (0, 1360)\t2.0\n",
            "  (0, 1163)\t1.0\n",
            "  (0, 1150)\t1.0\n",
            "  (0, 1030)\t1.0\n",
            "  (0, 850)\t1.0\n",
            "  (0, 739)\t1.0\n",
            "  (0, 644)\t1.0\n",
            "  (0, 592)\t1.0\n",
            "  (0, 544)\t1.0\n",
            "  (0, 487)\t1.0\n",
            "  (0, 441)\t1.0\n",
            "  (0, 363)\t2.0\n",
            "  (0, 343)\t1.0\n",
            "  (0, 330)\t1.0\n",
            "  (0, 316)\t1.0\n",
            "  (0, 294)\t5.0\n",
            "  (0, 228)\t1.0\n",
            "  (0, 203)\t1.0\n",
            "  (0, 190)\t1.0\n",
            "  (0, 186)\t1.0\n",
            "  (0, 181)\t1.0\n",
            "  (0, 180)\t1.0\n",
            "  :\t:\n",
            "  (0, 123)\t1.0\n",
            "  (0, 115)\t1.0\n",
            "  (0, 113)\t1.0\n",
            "  (0, 109)\t1.0\n",
            "  (0, 98)\t1.0\n",
            "  (0, 95)\t1.0\n",
            "  (0, 89)\t1.0\n",
            "  (0, 79)\t1.0\n",
            "  (0, 73)\t1.0\n",
            "  (0, 51)\t1.0\n",
            "  (0, 45)\t1.0\n",
            "  (0, 43)\t1.0\n",
            "  (0, 41)\t2.0\n",
            "  (0, 39)\t1.0\n",
            "  (0, 37)\t1.0\n",
            "  (0, 36)\t2.0\n",
            "  (0, 32)\t1.0\n",
            "  (0, 30)\t1.0\n",
            "  (0, 27)\t2.0\n",
            "  (0, 23)\t1.0\n",
            "  (0, 20)\t1.0\n",
            "  (0, 18)\t1.0\n",
            "  (0, 14)\t1.0\n",
            "  (0, 5)\t1.0\n",
            "  (0, 2)\t1.0\n"
          ]
        }
      ],
      "source": [
        "# np.logical_not(words_to_remove).astype(int) is an array where boolean at index i is 1 if word i should be kept, 0 otherwise\n",
        "# diags(np.logical_not(words_to_remove).astype(int)) is thus a diagonal matrix where element (i,i) is 1 if word i should be kept, 0 otherwise\n",
        "# By performing matrix multiplication between X_train_imdb and the diagonal matrix, we are only keeping the columns of valid words (Not stop / rare words)\n",
        "# Stop word and rare word columns are set to all zeros, and will be removed in the next step below\n",
        "X_train_imdb = X_train_imdb@diags(np.logical_not(words_to_remove).astype(int))\n",
        "\n",
        "# The next step is now to remove columns that have all zeros\n",
        "indices = np.nonzero(X_train_imdb) # A tuple of two elements: First has indices of non-all zero rows, second non-all zero columns\n",
        "columns_to_keep_non_unique = indices[1] # Extract a list of indices of the non-all zero columns\n",
        "columns_to_keep_unique = sorted(set(columns_to_keep_non_unique)) # Make the list unique\n",
        "X_train_imdb = X_train_imdb[:,columns_to_keep_unique] # Make a sparse matrix of the columns to keep (Not all zero)\n",
        "\n",
        "# The same applies to X_test with one difference\n",
        "# Since only the first 89523 features were used in the testing dataset as seen before,\n",
        "# we cannot perform the below matrix multiplication because of a size mismatch\n",
        "# Therefore, our diagonal matrix here must be composed using words_to_remove without its 5 last elements (Since those are not even features due not appearing at all in the testing set)\n",
        "X_test_imdb = X_test_imdb@diags(np.logical_not(words_to_remove[:-4]).astype(int))\n",
        "\n",
        "# Now we delete the columns with all zeros\n",
        "indices = np.nonzero(X_test_imdb) # A tuple of two elements: First has indices of non-all zero rows, second non-all zero columns\n",
        "columns_to_keep_non_unique = indices[1] # Extract a list of indices of the non-all zero columns\n",
        "columns_to_keep_unique = sorted(set(columns_to_keep_non_unique)) # Make the list unique\n",
        "X_test_imdb = X_test_imdb[:,columns_to_keep_unique] # Make a sparse matrix of the columns to keep (Not all zero)\n",
        "\n",
        "# Sanity check, visualize the first entry of X_train after filtering out unused words\n",
        "print(f\"The first entry of the training dataset is now \\n {X_train_imdb[0]}\")"
      ]
    },
    {
      "cell_type": "markdown",
      "metadata": {
        "id": "1iBzPOMV6tWy"
      },
      "source": [
        "The above results show that the most common stopwords (\"The\" with index 0, \"And\" with index 1) have been removed, confirming the effectiveness of the procedure."
      ]
    },
    {
      "cell_type": "markdown",
      "metadata": {
        "id": "NjPAnkbrwHGg"
      },
      "source": [
        "We'll now proceed to filter further by computing the z-scores of each feature with respect to the output variable. The process will go as follows:\n",
        "\n",
        "- We will start by standardizing the inputs and their corresponding outputs\n",
        "\n",
        "- The next step then consists of emitting the following null hypothesis for every feature d out of the 1736 we have left:\n",
        ">> *H0 = \"Weight of feature d in a simple regression follows N(0,1)\", or in other words, \"Feature d is not correlated to the output because its corresponding weight is too small\".*\n",
        "\n",
        "- We will the proceed to compute the z-score of the weight of that feature using the formula seen in class, which is equivalent to fitting a simple regression between feature d and the response variable:\n",
        ">> $z_d = \\frac{1}{\\sqrt{N}}*\\overrightarrow{\\tilde{\\dot{{x_d^T}}}}*\\overrightarrow{\\tilde{\\dot{{y}}}}$\n",
        "\n",
        "- In a normal p-value test, the next step would then be to compute the probability of observing more extreme results that contradict  *H0* assuming N(0,1), and only keep the features with with such a probability that is smaller than $\\alpha$, usually 0.05. However, for this assignment, we will instead sort the features by their absolute z-score, and keep only the 400 features with the highest absolute results.\n",
        "\n",
        "- Finally, since we have the data split between training and testing, we will need to first join the two sets together before standardizing it."
      ]
    },
    {
      "cell_type": "markdown",
      "metadata": {
        "id": "NFDkq1Wp7gdD"
      },
      "source": [
        "To effectively complete the above, we will start by standardizing the data after joining together the train and test sets."
      ]
    },
    {
      "cell_type": "code",
      "execution_count": null,
      "metadata": {
        "id": "pDw_pydM4el3",
        "colab": {
          "base_uri": "https://localhost:8080/"
        },
        "outputId": "89b0deef-ffeb-4563-a912-3d2354d2428e"
      },
      "outputs": [
        {
          "output_type": "stream",
          "name": "stdout",
          "text": [
            "(50000, 1)\n"
          ]
        }
      ],
      "source": [
        "# Merge the y's into a single vertical output vector\n",
        "all_y = np.concatenate((y_train_imdb, y_test_imdb)).reshape(-1, 1)\n",
        "\n",
        "# Standardize the output vector\n",
        "standardized_y = StandardScaler().fit_transform(all_y)\n",
        "\n",
        "# Visualize the result's shape as a sanity check\n",
        "print(standardized_y.shape)"
      ]
    },
    {
      "cell_type": "markdown",
      "metadata": {
        "id": "L9whCRCM-tlf"
      },
      "source": [
        "The resulting array has 50000 rows and 1 column, which mean the process was successful. We now move on to standardizing the inputs in similar fashion."
      ]
    },
    {
      "cell_type": "code",
      "execution_count": null,
      "metadata": {
        "id": "IaXP47TT9TtT",
        "colab": {
          "base_uri": "https://localhost:8080/"
        },
        "outputId": "7fc07cf5-ce58-4447-bd47-e8eb0d3adad8"
      },
      "outputs": [
        {
          "output_type": "stream",
          "name": "stdout",
          "text": [
            "(50000, 1736)\n"
          ]
        }
      ],
      "source": [
        "# Merge the X's into a single matrix\n",
        "all_X = vstack((X_train_imdb, X_test_imdb)).toarray() # We convert to a numpy array because the number of features is now small enough\n",
        "\n",
        "# Standardize the output vector\n",
        "standardized_X = StandardScaler().fit_transform(all_X)\n",
        "\n",
        "# Visualize the result's shape as a sanity check\n",
        "print(standardized_X.shape)"
      ]
    },
    {
      "cell_type": "markdown",
      "metadata": {
        "id": "RmJhnvXQ-zKT"
      },
      "source": [
        "Again, the output has 50000 rows (1 for every input) and 1736 columns (1 for every feature). Now that both our inputs and outputs are standardized, we proceed to compute the z-score of every feature."
      ]
    },
    {
      "cell_type": "code",
      "execution_count": null,
      "metadata": {
        "id": "Mi85WV53_Ucd",
        "colab": {
          "base_uri": "https://localhost:8080/",
          "height": 296
        },
        "outputId": "fe263965-51e1-434b-c8fc-29be599ba876"
      },
      "outputs": [
        {
          "output_type": "execute_result",
          "data": {
            "text/plain": [
              "Text(0, 0.5, 'z-score')"
            ]
          },
          "metadata": {},
          "execution_count": 15
        },
        {
          "output_type": "display_data",
          "data": {
            "text/plain": [
              "<Figure size 432x288 with 1 Axes>"
            ],
            "image/png": "[encoded data removed]"
          },
          "metadata": {
            "needs_background": "light"
          }
        }
      ],
      "source": [
        "# Create a list to hold the zscores, where zscore at index i is zscore of feature i\n",
        "zscores = np.zeros(standardized_X.shape[1])\n",
        "\n",
        "# Iterate over the coluns of standardized_X\n",
        "for i in range(standardized_X.shape[1]):\n",
        "  zscores[i] = (np.dot(standardized_X[:, i], standardized_y)/sqrt(standardized_X.shape[0]))\n",
        "\n",
        "# We can now visualize the features wrt their absolute zscore\n",
        "plt.bar(np.arange(standardized_X.shape[1]), zscores)\n",
        "plt.xlabel(\"Feature word index\")\n",
        "plt.ylabel(\"z-score\")"
      ]
    },
    {
      "cell_type": "markdown",
      "metadata": {
        "id": "qzsk0SO3J7hE"
      },
      "source": [
        "We can now inspect the feature words with the most positive z-scores to see if they really correlated with having a positive review:"
      ]
    },
    {
      "cell_type": "code",
      "execution_count": null,
      "metadata": {
        "id": "PSIrRRKVKGiw",
        "colab": {
          "base_uri": "https://localhost:8080/",
          "height": 363
        },
        "outputId": "84f97455-2b32-4db1-dca0-9ad37afd499f"
      },
      "outputs": [
        {
          "output_type": "execute_result",
          "data": {
            "text/plain": [
              "          Word    z-score\n",
              "56       great  46.806802\n",
              "282  excellent  36.995621\n",
              "88        best  35.231665\n",
              "342  wonderful  34.588314\n",
              "87        love  29.790638\n",
              "410      loved  28.008016\n",
              "432    amazing  27.716057\n",
              "365    perfect  26.721903\n",
              "466   favorite  26.402529\n",
              "843     superb  26.072888"
            ],
            "text/html": [
              "\n",
              "  <div id=\"df-905c7caa-4f85-42af-a1d5-7a5cd99ad4ac\">\n",
              "    <div class=\"colab-df-container\">\n",
              "      <div>\n",
              "<style scoped>\n",
              "    .dataframe tbody tr th:only-of-type {\n",
              "        vertical-align: middle;\n",
              "    }\n",
              "\n",
              "    .dataframe tbody tr th {\n",
              "        vertical-align: top;\n",
              "    }\n",
              "\n",
              "    .dataframe thead th {\n",
              "        text-align: right;\n",
              "    }\n",
              "</style>\n",
              "<table border=\"1\" class=\"dataframe\">\n",
              "  <thead>\n",
              "    <tr style=\"text-align: right;\">\n",
              "      <th></th>\n",
              "      <th>Word</th>\n",
              "      <th>z-score</th>\n",
              "    </tr>\n",
              "  </thead>\n",
              "  <tbody>\n",
              "    <tr>\n",
              "      <th>56</th>\n",
              "      <td>great</td>\n",
              "      <td>46.806802</td>\n",
              "    </tr>\n",
              "    <tr>\n",
              "      <th>282</th>\n",
              "      <td>excellent</td>\n",
              "      <td>36.995621</td>\n",
              "    </tr>\n",
              "    <tr>\n",
              "      <th>88</th>\n",
              "      <td>best</td>\n",
              "      <td>35.231665</td>\n",
              "    </tr>\n",
              "    <tr>\n",
              "      <th>342</th>\n",
              "      <td>wonderful</td>\n",
              "      <td>34.588314</td>\n",
              "    </tr>\n",
              "    <tr>\n",
              "      <th>87</th>\n",
              "      <td>love</td>\n",
              "      <td>29.790638</td>\n",
              "    </tr>\n",
              "    <tr>\n",
              "      <th>410</th>\n",
              "      <td>loved</td>\n",
              "      <td>28.008016</td>\n",
              "    </tr>\n",
              "    <tr>\n",
              "      <th>432</th>\n",
              "      <td>amazing</td>\n",
              "      <td>27.716057</td>\n",
              "    </tr>\n",
              "    <tr>\n",
              "      <th>365</th>\n",
              "      <td>perfect</td>\n",
              "      <td>26.721903</td>\n",
              "    </tr>\n",
              "    <tr>\n",
              "      <th>466</th>\n",
              "      <td>favorite</td>\n",
              "      <td>26.402529</td>\n",
              "    </tr>\n",
              "    <tr>\n",
              "      <th>843</th>\n",
              "      <td>superb</td>\n",
              "      <td>26.072888</td>\n",
              "    </tr>\n",
              "  </tbody>\n",
              "</table>\n",
              "</div>\n",
              "      <button class=\"colab-df-convert\" onclick=\"convertToInteractive('df-905c7caa-4f85-42af-a1d5-7a5cd99ad4ac')\"\n",
              "              title=\"Convert this dataframe to an interactive table.\"\n",
              "              style=\"display:none;\">\n",
              "        \n",
              "  <svg xmlns=\"http://www.w3.org/2000/svg\" height=\"24px\"viewBox=\"0 0 24 24\"\n",
              "       width=\"24px\">\n",
              "    <path d=\"M0 0h24v24H0V0z\" fill=\"none\"/>\n",
              "    <path d=\"M18.56 5.44l.94 2.06.94-2.06 2.06-.94-2.06-.94-.94-2.06-.94 2.06-2.06.94zm-11 1L8.5 8.5l.94-2.06 2.06-.94-2.06-.94L8.5 2.5l-.94 2.06-2.06.94zm10 10l.94 2.06.94-2.06 2.06-.94-2.06-.94-.94-2.06-.94 2.06-2.06.94z\"/><path d=\"M17.41 7.96l-1.37-1.37c-.4-.4-.92-.59-1.43-.59-.52 0-1.04.2-1.43.59L10.3 9.45l-7.72 7.72c-.78.78-.78 2.05 0 2.83L4 21.41c.39.39.9.59 1.41.59.51 0 1.02-.2 1.41-.59l7.78-7.78 2.81-2.81c.8-.78.8-2.07 0-2.86zM5.41 20L4 18.59l7.72-7.72 1.47 1.35L5.41 20z\"/>\n",
              "  </svg>\n",
              "      </button>\n",
              "      \n",
              "  <style>\n",
              "    .colab-df-container {\n",
              "      display:flex;\n",
              "      flex-wrap:wrap;\n",
              "      gap: 12px;\n",
              "    }\n",
              "\n",
              "    .colab-df-convert {\n",
              "      background-color: #E8F0FE;\n",
              "      border: none;\n",
              "      border-radius: 50%;\n",
              "      cursor: pointer;\n",
              "      display: none;\n",
              "      fill: #1967D2;\n",
              "      height: 32px;\n",
              "      padding: 0 0 0 0;\n",
              "      width: 32px;\n",
              "    }\n",
              "\n",
              "    .colab-df-convert:hover {\n",
              "      background-color: #E2EBFA;\n",
              "      box-shadow: 0px 1px 2px rgba(60, 64, 67, 0.3), 0px 1px 3px 1px rgba(60, 64, 67, 0.15);\n",
              "      fill: #174EA6;\n",
              "    }\n",
              "\n",
              "    [theme=dark] .colab-df-convert {\n",
              "      background-color: #3B4455;\n",
              "      fill: #D2E3FC;\n",
              "    }\n",
              "\n",
              "    [theme=dark] .colab-df-convert:hover {\n",
              "      background-color: #434B5C;\n",
              "      box-shadow: 0px 1px 3px 1px rgba(0, 0, 0, 0.15);\n",
              "      filter: drop-shadow(0px 1px 2px rgba(0, 0, 0, 0.3));\n",
              "      fill: #FFFFFF;\n",
              "    }\n",
              "  </style>\n",
              "\n",
              "      <script>\n",
              "        const buttonEl =\n",
              "          document.querySelector('#df-905c7caa-4f85-42af-a1d5-7a5cd99ad4ac button.colab-df-convert');\n",
              "        buttonEl.style.display =\n",
              "          google.colab.kernel.accessAllowed ? 'block' : 'none';\n",
              "\n",
              "        async function convertToInteractive(key) {\n",
              "          const element = document.querySelector('#df-905c7caa-4f85-42af-a1d5-7a5cd99ad4ac');\n",
              "          const dataTable =\n",
              "            await google.colab.kernel.invokeFunction('convertToInteractive',\n",
              "                                                     [key], {});\n",
              "          if (!dataTable) return;\n",
              "\n",
              "          const docLinkHtml = 'Like what you see? Visit the ' +\n",
              "            '<a target=\"_blank\" href=https://colab.research.google.com/notebooks/data_table.ipynb>data table notebook</a>'\n",
              "            + ' to learn more about interactive tables.';\n",
              "          element.innerHTML = '';\n",
              "          dataTable['output_type'] = 'display_data';\n",
              "          await google.colab.output.renderOutput(dataTable, element);\n",
              "          const docLink = document.createElement('div');\n",
              "          docLink.innerHTML = docLinkHtml;\n",
              "          element.appendChild(docLink);\n",
              "        }\n",
              "      </script>\n",
              "    </div>\n",
              "  </div>\n",
              "  "
            ]
          },
          "metadata": {},
          "execution_count": 16
        }
      ],
      "source": [
        "# Extract the 10 words with the most postive z-scores\n",
        "most_positive_word_indices = np.argsort(-zscores) # We use - so that the most positive become the most negative and appear first\n",
        "most_positive_words = imdb_feature_words.iloc[most_positive_word_indices[:10]]\n",
        "\n",
        "# Append their corresponding z-scores to the dataframe as a column\n",
        "most_positive_words[\"z-score\"] = (-np.sort(-zscores)[:10]).tolist()\n",
        "most_positive_words"
      ]
    },
    {
      "cell_type": "markdown",
      "metadata": {
        "id": "yxznfgsILXCU"
      },
      "source": [
        "As can be seen above, all the words above are very much characteristic of a good review, and all have a very positive connotation."
      ]
    },
    {
      "cell_type": "markdown",
      "metadata": {
        "id": "00IfNJMgLg2j"
      },
      "source": [
        "We can now do the same to words with a strongly negative z-score:"
      ]
    },
    {
      "cell_type": "code",
      "execution_count": null,
      "metadata": {
        "id": "LG7z2r-RLm2c",
        "colab": {
          "base_uri": "https://localhost:8080/",
          "height": 363
        },
        "outputId": "2832d6f5-93bc-4053-e1a8-ce91b4952f11"
      },
      "outputs": [
        {
          "output_type": "execute_result",
          "data": {
            "text/plain": [
              "         Word    z-score\n",
              "50        bad -61.229505\n",
              "213     worst -59.187551\n",
              "400     waste -46.945639\n",
              "341     awful -43.687852\n",
              "19          ? -39.073873\n",
              "346  terrible -38.854331\n",
              "395     worse -35.599683\n",
              "476  horrible -34.275638\n",
              "336    stupid -33.807844\n",
              "28         no -33.284108"
            ],
            "text/html": [
              "\n",
              "  <div id=\"df-c84abb1d-cd3c-4700-a54f-a255f423d58e\">\n",
              "    <div class=\"colab-df-container\">\n",
              "      <div>\n",
              "<style scoped>\n",
              "    .dataframe tbody tr th:only-of-type {\n",
              "        vertical-align: middle;\n",
              "    }\n",
              "\n",
              "    .dataframe tbody tr th {\n",
              "        vertical-align: top;\n",
              "    }\n",
              "\n",
              "    .dataframe thead th {\n",
              "        text-align: right;\n",
              "    }\n",
              "</style>\n",
              "<table border=\"1\" class=\"dataframe\">\n",
              "  <thead>\n",
              "    <tr style=\"text-align: right;\">\n",
              "      <th></th>\n",
              "      <th>Word</th>\n",
              "      <th>z-score</th>\n",
              "    </tr>\n",
              "  </thead>\n",
              "  <tbody>\n",
              "    <tr>\n",
              "      <th>50</th>\n",
              "      <td>bad</td>\n",
              "      <td>-61.229505</td>\n",
              "    </tr>\n",
              "    <tr>\n",
              "      <th>213</th>\n",
              "      <td>worst</td>\n",
              "      <td>-59.187551</td>\n",
              "    </tr>\n",
              "    <tr>\n",
              "      <th>400</th>\n",
              "      <td>waste</td>\n",
              "      <td>-46.945639</td>\n",
              "    </tr>\n",
              "    <tr>\n",
              "      <th>341</th>\n",
              "      <td>awful</td>\n",
              "      <td>-43.687852</td>\n",
              "    </tr>\n",
              "    <tr>\n",
              "      <th>19</th>\n",
              "      <td>?</td>\n",
              "      <td>-39.073873</td>\n",
              "    </tr>\n",
              "    <tr>\n",
              "      <th>346</th>\n",
              "      <td>terrible</td>\n",
              "      <td>-38.854331</td>\n",
              "    </tr>\n",
              "    <tr>\n",
              "      <th>395</th>\n",
              "      <td>worse</td>\n",
              "      <td>-35.599683</td>\n",
              "    </tr>\n",
              "    <tr>\n",
              "      <th>476</th>\n",
              "      <td>horrible</td>\n",
              "      <td>-34.275638</td>\n",
              "    </tr>\n",
              "    <tr>\n",
              "      <th>336</th>\n",
              "      <td>stupid</td>\n",
              "      <td>-33.807844</td>\n",
              "    </tr>\n",
              "    <tr>\n",
              "      <th>28</th>\n",
              "      <td>no</td>\n",
              "      <td>-33.284108</td>\n",
              "    </tr>\n",
              "  </tbody>\n",
              "</table>\n",
              "</div>\n",
              "      <button class=\"colab-df-convert\" onclick=\"convertToInteractive('df-c84abb1d-cd3c-4700-a54f-a255f423d58e')\"\n",
              "              title=\"Convert this dataframe to an interactive table.\"\n",
              "              style=\"display:none;\">\n",
              "        \n",
              "  <svg xmlns=\"http://www.w3.org/2000/svg\" height=\"24px\"viewBox=\"0 0 24 24\"\n",
              "       width=\"24px\">\n",
              "    <path d=\"M0 0h24v24H0V0z\" fill=\"none\"/>\n",
              "    <path d=\"M18.56 5.44l.94 2.06.94-2.06 2.06-.94-2.06-.94-.94-2.06-.94 2.06-2.06.94zm-11 1L8.5 8.5l.94-2.06 2.06-.94-2.06-.94L8.5 2.5l-.94 2.06-2.06.94zm10 10l.94 2.06.94-2.06 2.06-.94-2.06-.94-.94-2.06-.94 2.06-2.06.94z\"/><path d=\"M17.41 7.96l-1.37-1.37c-.4-.4-.92-.59-1.43-.59-.52 0-1.04.2-1.43.59L10.3 9.45l-7.72 7.72c-.78.78-.78 2.05 0 2.83L4 21.41c.39.39.9.59 1.41.59.51 0 1.02-.2 1.41-.59l7.78-7.78 2.81-2.81c.8-.78.8-2.07 0-2.86zM5.41 20L4 18.59l7.72-7.72 1.47 1.35L5.41 20z\"/>\n",
              "  </svg>\n",
              "      </button>\n",
              "      \n",
              "  <style>\n",
              "    .colab-df-container {\n",
              "      display:flex;\n",
              "      flex-wrap:wrap;\n",
              "      gap: 12px;\n",
              "    }\n",
              "\n",
              "    .colab-df-convert {\n",
              "      background-color: #E8F0FE;\n",
              "      border: none;\n",
              "      border-radius: 50%;\n",
              "      cursor: pointer;\n",
              "      display: none;\n",
              "      fill: #1967D2;\n",
              "      height: 32px;\n",
              "      padding: 0 0 0 0;\n",
              "      width: 32px;\n",
              "    }\n",
              "\n",
              "    .colab-df-convert:hover {\n",
              "      background-color: #E2EBFA;\n",
              "      box-shadow: 0px 1px 2px rgba(60, 64, 67, 0.3), 0px 1px 3px 1px rgba(60, 64, 67, 0.15);\n",
              "      fill: #174EA6;\n",
              "    }\n",
              "\n",
              "    [theme=dark] .colab-df-convert {\n",
              "      background-color: #3B4455;\n",
              "      fill: #D2E3FC;\n",
              "    }\n",
              "\n",
              "    [theme=dark] .colab-df-convert:hover {\n",
              "      background-color: #434B5C;\n",
              "      box-shadow: 0px 1px 3px 1px rgba(0, 0, 0, 0.15);\n",
              "      filter: drop-shadow(0px 1px 2px rgba(0, 0, 0, 0.3));\n",
              "      fill: #FFFFFF;\n",
              "    }\n",
              "  </style>\n",
              "\n",
              "      <script>\n",
              "        const buttonEl =\n",
              "          document.querySelector('#df-c84abb1d-cd3c-4700-a54f-a255f423d58e button.colab-df-convert');\n",
              "        buttonEl.style.display =\n",
              "          google.colab.kernel.accessAllowed ? 'block' : 'none';\n",
              "\n",
              "        async function convertToInteractive(key) {\n",
              "          const element = document.querySelector('#df-c84abb1d-cd3c-4700-a54f-a255f423d58e');\n",
              "          const dataTable =\n",
              "            await google.colab.kernel.invokeFunction('convertToInteractive',\n",
              "                                                     [key], {});\n",
              "          if (!dataTable) return;\n",
              "\n",
              "          const docLinkHtml = 'Like what you see? Visit the ' +\n",
              "            '<a target=\"_blank\" href=https://colab.research.google.com/notebooks/data_table.ipynb>data table notebook</a>'\n",
              "            + ' to learn more about interactive tables.';\n",
              "          element.innerHTML = '';\n",
              "          dataTable['output_type'] = 'display_data';\n",
              "          await google.colab.output.renderOutput(dataTable, element);\n",
              "          const docLink = document.createElement('div');\n",
              "          docLink.innerHTML = docLinkHtml;\n",
              "          element.appendChild(docLink);\n",
              "        }\n",
              "      </script>\n",
              "    </div>\n",
              "  </div>\n",
              "  "
            ]
          },
          "metadata": {},
          "execution_count": 17
        }
      ],
      "source": [
        "# Extract the 10 words with the most negative z-scores\n",
        "most_negative_word_indices = np.argsort(zscores)\n",
        "most_negative_words = imdb_feature_words.iloc[most_negative_word_indices[:10]]\n",
        "\n",
        "# Append their corresponding z-scores to the dataframe as a column\n",
        "most_negative_words[\"z-score\"] = np.sort(zscores)[:10].tolist()\n",
        "\n",
        "# Print the results\n",
        "most_negative_words"
      ]
    },
    {
      "cell_type": "markdown",
      "metadata": {
        "id": "6cWIQm22LzBV"
      },
      "source": [
        "Again, all the words listed above are very harsh, and hold a negative connotation, validating the results. It is to be noted that \"?\" is here, because in general negative reviews question the movie sarcastically."
      ]
    },
    {
      "cell_type": "markdown",
      "metadata": {
        "id": "bOmGoQHbAoK9"
      },
      "source": [
        "We can now proceed to only keep to 400 features with the highest absolute z-scores."
      ]
    },
    {
      "cell_type": "code",
      "execution_count": null,
      "metadata": {
        "id": "U4io70GABUSj",
        "colab": {
          "base_uri": "https://localhost:8080/"
        },
        "outputId": "c97f3459-34f7-4571-9ac2-db839a980c9a"
      },
      "outputs": [
        {
          "output_type": "stream",
          "name": "stdout",
          "text": [
            "X_train has shape (25000, 500) and X_test has shape (25000, 500)\n"
          ]
        }
      ],
      "source": [
        "# Sort features in descending order of ABSOLUTE zscore\n",
        "features_descending_order = np.argsort(-np.absolute(zscores)) # Negative of the absolute array so that the smallest element for argsort is actually the biggest zscore\n",
        "\n",
        "# The indices of the features to keep\n",
        "feature_indices_to_keep = features_descending_order[:500]\n",
        "\n",
        "# Only keep those features in the Imdb words array and reset the indexing\n",
        "imdb_feature_words = imdb_feature_words.iloc[feature_indices_to_keep]\n",
        "imdb_feature_words.reset_index(inplace = True, drop=True)\n",
        "\n",
        "# Convert X_train and X_test to numpy arrays\n",
        "X_train_imdb = X_train_imdb.toarray()\n",
        "X_test_imdb = X_test_imdb.toarray()\n",
        "\n",
        "# Only keep the columns corresponding to the feature indices to keep\n",
        "X_train_imdb = X_train_imdb[:, feature_indices_to_keep]\n",
        "X_test_imdb = X_test_imdb[:, feature_indices_to_keep]\n",
        "\n",
        "# Print the shapes of X_train and X_test\n",
        "print(f\"X_train has shape {X_train_imdb.shape} and X_test has shape {X_test_imdb.shape}\")"
      ]
    },
    {
      "cell_type": "markdown",
      "metadata": {
        "id": "PoUNYrNvQj33"
      },
      "source": [
        "The above dimensions corresponding to what we were expecting, which confirms the correctness of the process."
      ]
    },
    {
      "cell_type": "markdown",
      "metadata": {
        "id": "96qjQsD2mCLt"
      },
      "source": [
        "We can now finally move on to shuffling both the training and testing inputs, as well as their corresponding labels, since all the positive reviews are placed at the start followed by all negative reviews (not random):"
      ]
    },
    {
      "cell_type": "code",
      "execution_count": null,
      "metadata": {
        "id": "dHJHQ7TeXWLc"
      },
      "outputs": [],
      "source": [
        "# Shuffle both datasets with a seed for reproducibility\n",
        "X_train_imdb, y_train_imdb = shuffle(X_train_imdb, y_train_imdb, random_state=2)\n",
        "X_test_imdb, y_test_imdb = shuffle(X_test_imdb, y_test_imdb, random_state=2)"
      ]
    },
    {
      "cell_type": "markdown",
      "metadata": {
        "id": "_7TGxgxGCtay"
      },
      "source": [
        "Since we are doing binary classification, we need to convert ratings that are greater or equal to 7 into a `1` to signify a `positive` review, and ratings that are smaller than or equal to 4 into a `0` to signify a `negative` review, as specified in the readme.md of the dataset:"
      ]
    },
    {
      "cell_type": "code",
      "execution_count": null,
      "metadata": {
        "id": "ix60aRWVCub5",
        "colab": {
          "base_uri": "https://localhost:8080/"
        },
        "outputId": "f879b2ab-202e-49ca-d10a-ce0f61242921"
      },
      "outputs": [
        {
          "output_type": "stream",
          "name": "stdout",
          "text": [
            "[0. 1. 1. ... 1. 1. 0.]\n"
          ]
        }
      ],
      "source": [
        "# Transform negative reviews\n",
        "# Note: Important to start with negative reviews, otherwise positive are sent to 1\n",
        "# and can't be differentiated from negative anymore for the second step\n",
        "y_train_imdb[y_train_imdb <= 4] = 0\n",
        "\n",
        "# Transform positive reviews\n",
        "y_train_imdb[y_train_imdb >= 7] = 1\n",
        "\n",
        "# Visualize the labels\n",
        "print(y_train_imdb)"
      ]
    },
    {
      "cell_type": "markdown",
      "metadata": {
        "id": "7keZymAYDE3Y"
      },
      "source": [
        "We can do the same for the testing dataset, as shown below:"
      ]
    },
    {
      "cell_type": "code",
      "execution_count": null,
      "metadata": {
        "id": "UCR4PxD5DFxX"
      },
      "outputs": [],
      "source": [
        "# Convert the labels to be binary\n",
        "y_test_imdb[y_test_imdb <= 4] = 0\n",
        "y_test_imdb[y_test_imdb >= 7] = 1"
      ]
    },
    {
      "cell_type": "markdown",
      "metadata": {
        "id": "533fV_FoqfQP"
      },
      "source": [
        "The last step in pre-processing the IMDB reviews is to separate the training dataset into training and validation. We will also print the shape of all datasets as a verification step."
      ]
    },
    {
      "cell_type": "code",
      "execution_count": null,
      "metadata": {
        "id": "p9L2XVURq6E4",
        "colab": {
          "base_uri": "https://localhost:8080/"
        },
        "outputId": "bd378fec-1e52-4c2f-fdac-393b256a03a4"
      },
      "outputs": [
        {
          "output_type": "stream",
          "name": "stdout",
          "text": [
            "Training data has:  17500  documents and  500  words (features).\n",
            "Training label has:  17500  documents.\n",
            "Validation data has:  7500  documents and  500  words (features).\n",
            "Validation label has:  7500  documents\n",
            "Testing data has:  25000  documents and  500  words (features).\n",
            "Testing data has:  25000  documents.\n"
          ]
        }
      ],
      "source": [
        "X_train_imdb, X_validate_imdb, y_train_imdb, y_validate_imdb = train_test_split(X_train_imdb, y_train_imdb, test_size = 0.3, random_state=5, shuffle = True)\n",
        "\n",
        "print(\"Training data has: \", X_train_imdb.shape[0], \" documents and \", X_train_imdb.shape[1], \" words (features).\")\n",
        "print(\"Training label has: \", y_train_imdb.shape[0], \" documents.\")\n",
        "\n",
        "print(\"Validation data has: \", X_validate_imdb.shape[0], \" documents and \", X_validate_imdb.shape[1], \" words (features).\")\n",
        "print(\"Validation label has: \", y_validate_imdb.shape[0], \" documents\")\n",
        "\n",
        "print(\"Testing data has: \", X_test_imdb.shape[0], \" documents and \", X_test_imdb.shape[1], \" words (features).\")\n",
        "print(\"Testing data has: \", y_test_imdb.shape[0], \" documents.\")"
      ]
    },
    {
      "cell_type": "markdown",
      "metadata": {
        "id": "2xGua1JmWZpA"
      },
      "source": [
        "Finally, we conclude by visualizing the proportions of the data within the testing set to infer whether it is balanced or not."
      ]
    },
    {
      "cell_type": "code",
      "execution_count": null,
      "metadata": {
        "id": "o5GrJp8CWicD",
        "colab": {
          "base_uri": "https://localhost:8080/",
          "height": 312
        },
        "outputId": "91502bfc-8657-4618-9fd7-14b382059ab0"
      },
      "outputs": [
        {
          "output_type": "execute_result",
          "data": {
            "text/plain": [
              "Text(0.5, 1.0, 'Distribution of the data for the IMdB reviews dataset')"
            ]
          },
          "metadata": {},
          "execution_count": 23
        },
        {
          "output_type": "display_data",
          "data": {
            "text/plain": [
              "<Figure size 432x288 with 1 Axes>"
            ],
            "image/png": "[encoded data removed]"
          },
          "metadata": {
            "needs_background": "light"
          }
        }
      ],
      "source": [
        "# Extract the prercentages of each of the two classes\n",
        "_ , counts = np.unique(y_test_imdb, return_counts=True)\n",
        "counts = (counts / y_test_imdb.shape[0]) * 100\n",
        "\n",
        "# Plot the results\n",
        "plt.bar([\"Negative\", \"Positive\"], counts)\n",
        "plt.ylabel(\"Percentage\")\n",
        "plt.xlabel(\"Sentiment\")\n",
        "plt.title(\"Distribution of the data for the IMdB reviews dataset\")"
      ]
    },
    {
      "cell_type": "markdown",
      "metadata": {
        "id": "tQV6O3ieDhth"
      },
      "source": [
        "This concludes the pre-processing section for the Imdb reviews dataset.\n",
        "\n",
        "Here are the names of the variables to use in order to run experiments on the IMDB reviews data:\n",
        "\n",
        "`X_train_imdb`, `y_train_imdb`, `X_validate_imdb`, `y_validate_imdb`, `X_test_imdb`, `y_test_imdb`"
      ]
    },
    {
      "cell_type": "markdown",
      "metadata": {
        "id": "A3J-WdCYG1b6"
      },
      "source": [
        "## 1.2  20 News Groups"
      ]
    },
    {
      "cell_type": "markdown",
      "metadata": {
        "id": "jcJp-fHdGn_N"
      },
      "source": [
        "### 1.2.1 Training pre-processing "
      ]
    },
    {
      "cell_type": "markdown",
      "metadata": {
        "id": "_5eLW7ZwpwUL"
      },
      "source": [
        "We will first extract the raw data from the training twenty news dataset in [4], and create a list to keep track of our four selected categories. We will also print the first loaded document and its category to check if the importation was successful. The following pre-processing steps are taken from the scikit learn tutorial mentionned in the assignemnt directives [4]."
      ]
    },
    {
      "cell_type": "code",
      "execution_count": null,
      "metadata": {
        "colab": {
          "base_uri": "https://localhost:8080/"
        },
        "id": "WcbghjfvG-_s",
        "outputId": "2d66bfa9-aa09-4e81-ed78-c894148192ef"
      },
      "outputs": [
        {
          "output_type": "stream",
          "name": "stdout",
          "text": [
            "The length of the data is the number of documents which is:  2377 \n",
            "\n",
            "It is not true that dermatologists gave not reached the laser age, in\n",
            "fact, lasers in dermatological surgery is a very new and exciting field.\n",
            "\n",
            "It probably won't be effective in tinea pedis because the laser is\n",
            "usually a superficial burn (to avoid any deeper damage). Limited tinea\n",
            "pedis can be cured albeit sometimes slowly by topical antifungals as\n",
            "well as systemic medication i.e. tablets. Finally, a self-diagnosis is\n",
            "not always reliable, lichen simplex chronicus can look like a fungal\n",
            "infection and requires very different treatment.\n",
            "\n",
            "The category of the first file is: sci.med\n",
            "\n",
            "The labels are:\n",
            " [2 3 0 ... 2 1 3]\n"
          ]
        }
      ],
      "source": [
        "# As recommended by the assignment directives, we split the dataset by keeping our 4 favorite categories\n",
        "# List to keep track of the selected categories\n",
        "# The list is in alphabetical order because when we get the samples from sklearn, \n",
        "# Each category is converted to an index depending on alphabetical order. \n",
        "# Thus, 'comp.graphis' corresponds to 0 in the y_train_twenty matrix, \n",
        "# 'rec.sport.hockey' corresponds to 1 etc... \n",
        "categories_twenty = ['comp.graphics','rec.sport.hockey', 'sci.med', 'soc.religion.christian']\n",
        "\n",
        "# We shuffle randomly to select only a subset of samples to quickly train the model and get a first idea of the results before re-training on the complete dataset later\n",
        "df_train_twenty = fetch_20newsgroups(subset='train', categories=categories_twenty, shuffle=True, random_state=42, remove=(['headers', 'footers', 'quotes']))\n",
        "\n",
        "y_train_twenty = df_train_twenty.target\n",
        "\n",
        "# Print the shape of the data.\n",
        "# The files themselves are loaded in memory in the data attribute\n",
        "print(\"The length of the data is the number of documents which is: \",len(df_train_twenty.data), \"\\n\")\n",
        "\n",
        "# Print the first loaded file\n",
        "print(\"\\n\".join(df_train_twenty.data[0].split(\"\\n\")))\n",
        "\n",
        "# Print the category of the first loaded file\n",
        "print(\"\\nThe category of the first file is:\", df_train_twenty.target_names[df_train_twenty.target[0]])\n",
        "\n",
        "# Print the target vector\n",
        "print(\"\\nThe labels are:\\n\", y_train_twenty)"
      ]
    },
    {
      "cell_type": "markdown",
      "metadata": {
        "id": "pfO-FSoczVmi"
      },
      "source": [
        "After a successful import, we will visiualize if the proportion of training examples in each of the four classes we chose is equivalently divided. To do so, we will visualize a pie chart of the class distribution. The following function will also be used for the testing dataset later in the code."
      ]
    },
    {
      "cell_type": "code",
      "execution_count": null,
      "metadata": {
        "id": "-2EhZsxCzYK3"
      },
      "outputs": [],
      "source": [
        "# Visualizing class Distribution\n",
        "from collections import Counter\n",
        "\n",
        "def get_distribution (dataset):\n",
        "  if dataset == \"training\":\n",
        "    # Counter counts the proportions of training examples for each categories\n",
        "    _, values = zip(*Counter(df_train_twenty.target).items())\n",
        "\n",
        "    label_twenty = df_train_twenty.target_names\n",
        "  elif dataset == \"test\":\n",
        "    # Counter counts the proportions of training examples for each categories\n",
        "    _, values = zip(*Counter(df_test_twenty.target).items())\n",
        "\n",
        "    label_twenty = df_test_twenty.target_names\n",
        "\n",
        "  # plot the labels\n",
        "  colors = ['aquamarine', 'cyan', 'azure', 'blue'] # One color for each category\n",
        "\n",
        "  patches = plt.pie(values, colors=colors, startangle=90, autopct='%1.1f%%')\n",
        "\n",
        "  plt.legend(label_twenty, loc=\"best\")\n",
        "\n",
        "  plt.axis('equal')\n",
        "  plt.tight_layout()\n",
        "\n",
        "  plt.title('Class distribution for the four different categories.')\n",
        "  plt.show()"
      ]
    },
    {
      "cell_type": "code",
      "execution_count": null,
      "metadata": {
        "colab": {
          "base_uri": "https://localhost:8080/",
          "height": 313
        },
        "id": "qFduQDG7ZcHe",
        "outputId": "ab678f7b-cccb-40f7-885e-e3c33e970faf"
      },
      "outputs": [
        {
          "output_type": "display_data",
          "data": {
            "text/plain": [
              "<Figure size 432x288 with 1 Axes>"
            ],
            "image/png": "[encoded data removed]"
          },
          "metadata": {}
        }
      ],
      "source": [
        "get_distribution(\"training\")"
      ]
    },
    {
      "cell_type": "markdown",
      "metadata": {
        "id": "LiGaNxxKwwgh"
      },
      "source": [
        "We notice how well distributed the training examples are between the four categories. \n",
        "\n",
        "Since we have text data, we need to convert it to feature vectors in order to perform machine learning on it. We will use the bag of words representation which consists of the following:\n",
        "\n",
        "- We first assign a fixed integer id to each word occurring in all documents of the training set.\n",
        "\n",
        "- Then, for each document `i`, we count the number of occurrences of each word w and store it in a matrix `X` at `X[i, j]` as the value of feature `j` where `j` is the index of word w in the dictionary.\n",
        "\n",
        "This representation means that the number of features equals the number of total words, which can be typically larger than 100,000. Therefore, storing the feature matrix could take few gigabytes if the number of samples is very high (10 000 or more) [4].\n",
        "\n",
        "However, most values in the matrix `X` will be zeros since less than a few thousand distinct words will be used for each given document. Thus, bags of words are high-dimensional sparse datasets. We can save a lot of memory by only storing the non-zero parts of the feature vectors in memory.`scipy.sparse` matrices are data structures that do exactly this, and `scikit-learn` has built-in support for these structures.\n",
        "\n",
        "We will now use the sklearn `CountVectorizer` [5] which builds a dictionary of features and transforms documents to feature vectors. More specifically, it converts a collection of text documents to a matrix of token counts and does so by lowercasing all words and ignoring single characters by default.\n",
        "\n",
        "When creating the `CountVectorizer` object, we specify two parameters `max_df` and `min_df` that do the following:\n",
        "- `max_df`: ignore terms that have a document frequency strictly higher than the given threshold (50%) when building the vocabulary.\n",
        "- `min_df`: ignore terms that have a document frequency strictly lower than the given threshold (1%) when building the vocabulary."
      ]
    },
    {
      "cell_type": "code",
      "execution_count": null,
      "metadata": {
        "colab": {
          "base_uri": "https://localhost:8080/"
        },
        "id": "xh7R5ZSsVVwJ",
        "outputId": "3a5329c5-edc7-4c36-90d1-e0c7eda0a5f1"
      },
      "outputs": [
        {
          "output_type": "stream",
          "name": "stdout",
          "text": [
            "Shape of the matrix containing the token counts is:  (2377, 1586)\n",
            "This is interpreted as the following:  2377  docs and  1586  unique words.\n",
            "\n",
            "First element of the list is:\n",
            "   (0, 944)\t3\n",
            "  (0, 1451)\t1\n",
            "  (0, 599)\t1\n",
            "  (0, 105)\t1\n",
            "  (0, 531)\t1\n",
            "  (0, 1363)\t1\n",
            "  (0, 1494)\t2\n",
            "  (0, 927)\t1\n",
            "  (0, 552)\t1\n",
            "  (0, 1084)\t1\n",
            "  (0, 1554)\t1\n",
            "  (0, 199)\t2\n",
            "  (0, 477)\t1\n",
            "  (0, 202)\t1\n",
            "  (0, 1485)\t1\n",
            "  (0, 185)\t1\n",
            "  (0, 140)\t1\n",
            "  (0, 800)\t1\n",
            "  (0, 264)\t2\n",
            "  (0, 1292)\t1\n",
            "  (0, 256)\t1\n",
            "  (0, 168)\t2\n",
            "  (0, 1521)\t1\n",
            "  (0, 557)\t1\n",
            "  (0, 1236)\t1\n",
            "  (0, 123)\t1\n",
            "  (0, 816)\t1\n",
            "  (0, 798)\t1\n",
            "  (0, 1171)\t1\n",
            "  (0, 421)\t1\n",
            "  (0, 1448)\t1\n"
          ]
        }
      ],
      "source": [
        "count_vect = CountVectorizer(min_df = 0.01, max_df = 0.5) # Create the object and sets the min/max frequency of the words to ignore.\n",
        "X_train_twenty_count = count_vect.fit_transform(df_train_twenty.data) # Use the object and fit it on the twenty newsgroup data.\n",
        "\n",
        "print(\"Shape of the matrix containing the token counts is: \", X_train_twenty_count.shape)\n",
        "print(\"This is interpreted as the following: \", X_train_twenty_count.shape[0], \" docs and \", X_train_twenty_count.shape[1], \" unique words.\")\n",
        "print(\"\\nFirst element of the list is:\\n\", X_train_twenty_count[0])"
      ]
    },
    {
      "cell_type": "markdown",
      "metadata": {
        "id": "YuY1MjgD38tT"
      },
      "source": [
        "Thus, by removing stopwords and rare words using the given thresholds in the assignment directives, we are left with a total of 1586 words as features. We will now visualize the 40 words with the most occurrences in the first document in a table. \n",
        "\n",
        "We note here that the elements in the first column that appear when we print `X_train_twenty_count[0]` correspond to (index of the document in the slice, word id). If we print `X_train_twenty_count[1:2]`, the left element in the parentheses will be 0 for all the words in document 1, and then 1 for all words in document 2.\n",
        "\n",
        "We do not save the result of the countvectorizer in the `X_train_twenty` variable but in `X_train_twenty_count` because we need it in a separate variable for the coputation of mutual information.\n",
        "\n"
      ]
    },
    {
      "cell_type": "code",
      "execution_count": null,
      "metadata": {
        "colab": {
          "base_uri": "https://localhost:8080/",
          "height": 1000
        },
        "id": "0PE7Tgka3_pK",
        "outputId": "f00b22b0-dcd1-49ea-f94e-9801ca0ad3a7"
      },
      "outputs": [
        {
          "output_type": "execute_result",
          "data": {
            "text/plain": [
              "           Occurences\n",
              "not                 3\n",
              "as                  2\n",
              "very                2\n",
              "be                  2\n",
              "can                 2\n",
              "limited             1\n",
              "avoid               1\n",
              "by                  1\n",
              "self                1\n",
              "sometimes           1\n",
              "field               1\n",
              "well                1\n",
              "effective           1\n",
              "surgery             1\n",
              "treatment           1\n",
              "any                 1\n",
              "true                1\n",
              "new                 1\n",
              "fact                1\n",
              "always              1\n",
              "usually             1\n",
              "age                 1\n",
              "won                 1\n",
              "finally             1\n",
              "probably            1\n",
              "different           1\n",
              "because             1\n",
              "gave                1\n",
              "requires            1\n",
              "like                1\n",
              "look                1\n",
              "past                0\n",
              "posting             0\n",
              "poster              0\n",
              "pass                0\n",
              "posted              0\n",
              "post                0\n",
              "passed              0\n",
              "possible            0\n",
              "possibly            0"
            ],
            "text/html": [
              "\n",
              "  <div id=\"df-9d28d485-46b5-40f0-968d-612aa76f43d9\">\n",
              "    <div class=\"colab-df-container\">\n",
              "      <div>\n",
              "<style scoped>\n",
              "    .dataframe tbody tr th:only-of-type {\n",
              "        vertical-align: middle;\n",
              "    }\n",
              "\n",
              "    .dataframe tbody tr th {\n",
              "        vertical-align: top;\n",
              "    }\n",
              "\n",
              "    .dataframe thead th {\n",
              "        text-align: right;\n",
              "    }\n",
              "</style>\n",
              "<table border=\"1\" class=\"dataframe\">\n",
              "  <thead>\n",
              "    <tr style=\"text-align: right;\">\n",
              "      <th></th>\n",
              "      <th>Occurences</th>\n",
              "    </tr>\n",
              "  </thead>\n",
              "  <tbody>\n",
              "    <tr>\n",
              "      <th>not</th>\n",
              "      <td>3</td>\n",
              "    </tr>\n",
              "    <tr>\n",
              "      <th>as</th>\n",
              "      <td>2</td>\n",
              "    </tr>\n",
              "    <tr>\n",
              "      <th>very</th>\n",
              "      <td>2</td>\n",
              "    </tr>\n",
              "    <tr>\n",
              "      <th>be</th>\n",
              "      <td>2</td>\n",
              "    </tr>\n",
              "    <tr>\n",
              "      <th>can</th>\n",
              "      <td>2</td>\n",
              "    </tr>\n",
              "    <tr>\n",
              "      <th>limited</th>\n",
              "      <td>1</td>\n",
              "    </tr>\n",
              "    <tr>\n",
              "      <th>avoid</th>\n",
              "      <td>1</td>\n",
              "    </tr>\n",
              "    <tr>\n",
              "      <th>by</th>\n",
              "      <td>1</td>\n",
              "    </tr>\n",
              "    <tr>\n",
              "      <th>self</th>\n",
              "      <td>1</td>\n",
              "    </tr>\n",
              "    <tr>\n",
              "      <th>sometimes</th>\n",
              "      <td>1</td>\n",
              "    </tr>\n",
              "    <tr>\n",
              "      <th>field</th>\n",
              "      <td>1</td>\n",
              "    </tr>\n",
              "    <tr>\n",
              "      <th>well</th>\n",
              "      <td>1</td>\n",
              "    </tr>\n",
              "    <tr>\n",
              "      <th>effective</th>\n",
              "      <td>1</td>\n",
              "    </tr>\n",
              "    <tr>\n",
              "      <th>surgery</th>\n",
              "      <td>1</td>\n",
              "    </tr>\n",
              "    <tr>\n",
              "      <th>treatment</th>\n",
              "      <td>1</td>\n",
              "    </tr>\n",
              "    <tr>\n",
              "      <th>any</th>\n",
              "      <td>1</td>\n",
              "    </tr>\n",
              "    <tr>\n",
              "      <th>true</th>\n",
              "      <td>1</td>\n",
              "    </tr>\n",
              "    <tr>\n",
              "      <th>new</th>\n",
              "      <td>1</td>\n",
              "    </tr>\n",
              "    <tr>\n",
              "      <th>fact</th>\n",
              "      <td>1</td>\n",
              "    </tr>\n",
              "    <tr>\n",
              "      <th>always</th>\n",
              "      <td>1</td>\n",
              "    </tr>\n",
              "    <tr>\n",
              "      <th>usually</th>\n",
              "      <td>1</td>\n",
              "    </tr>\n",
              "    <tr>\n",
              "      <th>age</th>\n",
              "      <td>1</td>\n",
              "    </tr>\n",
              "    <tr>\n",
              "      <th>won</th>\n",
              "      <td>1</td>\n",
              "    </tr>\n",
              "    <tr>\n",
              "      <th>finally</th>\n",
              "      <td>1</td>\n",
              "    </tr>\n",
              "    <tr>\n",
              "      <th>probably</th>\n",
              "      <td>1</td>\n",
              "    </tr>\n",
              "    <tr>\n",
              "      <th>different</th>\n",
              "      <td>1</td>\n",
              "    </tr>\n",
              "    <tr>\n",
              "      <th>because</th>\n",
              "      <td>1</td>\n",
              "    </tr>\n",
              "    <tr>\n",
              "      <th>gave</th>\n",
              "      <td>1</td>\n",
              "    </tr>\n",
              "    <tr>\n",
              "      <th>requires</th>\n",
              "      <td>1</td>\n",
              "    </tr>\n",
              "    <tr>\n",
              "      <th>like</th>\n",
              "      <td>1</td>\n",
              "    </tr>\n",
              "    <tr>\n",
              "      <th>look</th>\n",
              "      <td>1</td>\n",
              "    </tr>\n",
              "    <tr>\n",
              "      <th>past</th>\n",
              "      <td>0</td>\n",
              "    </tr>\n",
              "    <tr>\n",
              "      <th>posting</th>\n",
              "      <td>0</td>\n",
              "    </tr>\n",
              "    <tr>\n",
              "      <th>poster</th>\n",
              "      <td>0</td>\n",
              "    </tr>\n",
              "    <tr>\n",
              "      <th>pass</th>\n",
              "      <td>0</td>\n",
              "    </tr>\n",
              "    <tr>\n",
              "      <th>posted</th>\n",
              "      <td>0</td>\n",
              "    </tr>\n",
              "    <tr>\n",
              "      <th>post</th>\n",
              "      <td>0</td>\n",
              "    </tr>\n",
              "    <tr>\n",
              "      <th>passed</th>\n",
              "      <td>0</td>\n",
              "    </tr>\n",
              "    <tr>\n",
              "      <th>possible</th>\n",
              "      <td>0</td>\n",
              "    </tr>\n",
              "    <tr>\n",
              "      <th>possibly</th>\n",
              "      <td>0</td>\n",
              "    </tr>\n",
              "  </tbody>\n",
              "</table>\n",
              "</div>\n",
              "      <button class=\"colab-df-convert\" onclick=\"convertToInteractive('df-9d28d485-46b5-40f0-968d-612aa76f43d9')\"\n",
              "              title=\"Convert this dataframe to an interactive table.\"\n",
              "              style=\"display:none;\">\n",
              "        \n",
              "  <svg xmlns=\"http://www.w3.org/2000/svg\" height=\"24px\"viewBox=\"0 0 24 24\"\n",
              "       width=\"24px\">\n",
              "    <path d=\"M0 0h24v24H0V0z\" fill=\"none\"/>\n",
              "    <path d=\"M18.56 5.44l.94 2.06.94-2.06 2.06-.94-2.06-.94-.94-2.06-.94 2.06-2.06.94zm-11 1L8.5 8.5l.94-2.06 2.06-.94-2.06-.94L8.5 2.5l-.94 2.06-2.06.94zm10 10l.94 2.06.94-2.06 2.06-.94-2.06-.94-.94-2.06-.94 2.06-2.06.94z\"/><path d=\"M17.41 7.96l-1.37-1.37c-.4-.4-.92-.59-1.43-.59-.52 0-1.04.2-1.43.59L10.3 9.45l-7.72 7.72c-.78.78-.78 2.05 0 2.83L4 21.41c.39.39.9.59 1.41.59.51 0 1.02-.2 1.41-.59l7.78-7.78 2.81-2.81c.8-.78.8-2.07 0-2.86zM5.41 20L4 18.59l7.72-7.72 1.47 1.35L5.41 20z\"/>\n",
              "  </svg>\n",
              "      </button>\n",
              "      \n",
              "  <style>\n",
              "    .colab-df-container {\n",
              "      display:flex;\n",
              "      flex-wrap:wrap;\n",
              "      gap: 12px;\n",
              "    }\n",
              "\n",
              "    .colab-df-convert {\n",
              "      background-color: #E8F0FE;\n",
              "      border: none;\n",
              "      border-radius: 50%;\n",
              "      cursor: pointer;\n",
              "      display: none;\n",
              "      fill: #1967D2;\n",
              "      height: 32px;\n",
              "      padding: 0 0 0 0;\n",
              "      width: 32px;\n",
              "    }\n",
              "\n",
              "    .colab-df-convert:hover {\n",
              "      background-color: #E2EBFA;\n",
              "      box-shadow: 0px 1px 2px rgba(60, 64, 67, 0.3), 0px 1px 3px 1px rgba(60, 64, 67, 0.15);\n",
              "      fill: #174EA6;\n",
              "    }\n",
              "\n",
              "    [theme=dark] .colab-df-convert {\n",
              "      background-color: #3B4455;\n",
              "      fill: #D2E3FC;\n",
              "    }\n",
              "\n",
              "    [theme=dark] .colab-df-convert:hover {\n",
              "      background-color: #434B5C;\n",
              "      box-shadow: 0px 1px 3px 1px rgba(0, 0, 0, 0.15);\n",
              "      filter: drop-shadow(0px 1px 2px rgba(0, 0, 0, 0.3));\n",
              "      fill: #FFFFFF;\n",
              "    }\n",
              "  </style>\n",
              "\n",
              "      <script>\n",
              "        const buttonEl =\n",
              "          document.querySelector('#df-9d28d485-46b5-40f0-968d-612aa76f43d9 button.colab-df-convert');\n",
              "        buttonEl.style.display =\n",
              "          google.colab.kernel.accessAllowed ? 'block' : 'none';\n",
              "\n",
              "        async function convertToInteractive(key) {\n",
              "          const element = document.querySelector('#df-9d28d485-46b5-40f0-968d-612aa76f43d9');\n",
              "          const dataTable =\n",
              "            await google.colab.kernel.invokeFunction('convertToInteractive',\n",
              "                                                     [key], {});\n",
              "          if (!dataTable) return;\n",
              "\n",
              "          const docLinkHtml = 'Like what you see? Visit the ' +\n",
              "            '<a target=\"_blank\" href=https://colab.research.google.com/notebooks/data_table.ipynb>data table notebook</a>'\n",
              "            + ' to learn more about interactive tables.';\n",
              "          element.innerHTML = '';\n",
              "          dataTable['output_type'] = 'display_data';\n",
              "          await google.colab.output.renderOutput(dataTable, element);\n",
              "          const docLink = document.createElement('div');\n",
              "          docLink.innerHTML = docLinkHtml;\n",
              "          element.appendChild(docLink);\n",
              "        }\n",
              "      </script>\n",
              "    </div>\n",
              "  </div>\n",
              "  "
            ]
          },
          "metadata": {},
          "execution_count": 28
        }
      ],
      "source": [
        "feature_names = count_vect.get_feature_names_out () \n",
        "# get tfidf vector for first document \n",
        "first_document_occurences_vector = X_train_twenty_count[0] \n",
        "\n",
        "# print the scores\n",
        "occurences_table_twenty = pd.DataFrame(first_document_occurences_vector.T.todense(), index=feature_names, columns=[\"Occurences\"]) # Create a data frame \n",
        "occurences_table_twenty.sort_values(by=[\"Occurences\"],ascending=False).head(40) # Sort by frequencies of all words"
      ]
    },
    {
      "cell_type": "markdown",
      "metadata": {
        "id": "ssL5u1wE4EvX"
      },
      "source": [
        "This table shows us the number of occurences of each word in the first document. We notice how some words that were present in the original document (when we printed it in the first pre-processing step) are not present in the table. This includes words like \"a\" that were removed by the `CountVectorizer` because of their 1-charactr length. The word \"chronicus\" is also not in the table for example, which is likely due to the thresholds we set in the parameters of `CountVectorizer`."
      ]
    },
    {
      "cell_type": "markdown",
      "metadata": {
        "id": "AVtYeBBbVYT1"
      },
      "source": [
        "However, there is an issue with just working with occurrences: longer documents will have higher average count values than shorter documents, even though they might talk about the same topics. \n",
        "\n",
        "To avoid these potential discrepancies it suffices to divide the number of occurrences of each word in a document by the total number of words in the document: these new features are called `tf` for Term Frequencies. Thus, we now move from the occurences of the words to their frequencies using sklearn's `TfidfTransformer` [4][6].\n",
        "\n",
        "Another refinement on top of `tf` is to downscale weights for words that occur in many documents in the corpus and are therefore less informative than those that occur only in a smaller portion of the corpus. This downscaling is called `tf–idf` for “Term Frequency times Inverse Document Frequency”."
      ]
    },
    {
      "cell_type": "code",
      "execution_count": null,
      "metadata": {
        "colab": {
          "base_uri": "https://localhost:8080/"
        },
        "id": "xNtcZFrCVa3Q",
        "outputId": "55352361-9625-45e7-8bab-021983e37c2d"
      },
      "outputs": [
        {
          "output_type": "stream",
          "name": "stdout",
          "text": [
            "Shape of the matrix containing the frequencies is:  (2377, 1586)\n",
            "This is interpreted as the following: 2377  docs and  1586  unique words.\n",
            "\n",
            "Frequencies of each words for the first document is:\n",
            "   (0, 1554)\t0.1700093002855999\n",
            "  (0, 1521)\t0.1229216068441266\n",
            "  (0, 1494)\t0.23818654971864536\n",
            "  (0, 1485)\t0.18134047923527927\n",
            "  (0, 1451)\t0.15416359841938104\n",
            "  (0, 1448)\t0.1948633555266898\n",
            "  (0, 1363)\t0.23523189822535318\n",
            "  (0, 1292)\t0.19239043055635832\n",
            "  (0, 1236)\t0.20998328467761507\n",
            "  (0, 1171)\t0.2179404305638748\n",
            "  (0, 1084)\t0.14614392172050591\n",
            "  (0, 944)\t0.23240167808386974\n",
            "  (0, 927)\t0.13282238885206005\n",
            "  (0, 816)\t0.15367621018227945\n",
            "  (0, 800)\t0.2082061105934154\n",
            "  (0, 798)\t0.10563013918264823\n",
            "  (0, 599)\t0.20251152994717359\n",
            "  (0, 557)\t0.19817090449762442\n",
            "  (0, 552)\t0.22506462015480855\n",
            "  (0, 531)\t0.15465662132737187\n",
            "  (0, 477)\t0.20406246473916825\n",
            "  (0, 421)\t0.1564285203782834\n",
            "  (0, 264)\t0.17374393492557075\n",
            "  (0, 256)\t0.09347961729740371\n",
            "  (0, 202)\t0.12062825827407393\n",
            "  (0, 199)\t0.14718234304702027\n",
            "  (0, 185)\t0.21478002149703104\n",
            "  (0, 168)\t0.1641827578576598\n",
            "  (0, 140)\t0.09795969867230292\n",
            "  (0, 123)\t0.15964861595810745\n",
            "  (0, 105)\t0.21279612860495106\n"
          ]
        }
      ],
      "source": [
        "tfidf_transformer = TfidfTransformer(use_idf = True)\n",
        "X_train_twenty = tfidf_transformer.fit_transform(X_train_twenty_count)\n",
        "\n",
        "print(\"Shape of the matrix containing the frequencies is: \", X_train_twenty.shape)\n",
        "print(\"This is interpreted as the following:\", X_train_twenty.shape[0], \" docs and \", X_train_twenty.shape[1], \" unique words.\")\n",
        "print(\"\\nFrequencies of each words for the first document is:\\n\", X_train_twenty[0])"
      ]
    },
    {
      "cell_type": "markdown",
      "metadata": {
        "id": "zPazHUjk4LyP"
      },
      "source": [
        "We will now visualize the 40 words with the highest tfidf in the first document in a table as follow."
      ]
    },
    {
      "cell_type": "code",
      "execution_count": null,
      "metadata": {
        "colab": {
          "base_uri": "https://localhost:8080/",
          "height": 1000
        },
        "id": "6l_A_u3d4Ofa",
        "outputId": "3a6238a5-ec24-462a-bfe4-c1535dcd47e8"
      },
      "outputs": [
        {
          "output_type": "execute_result",
          "data": {
            "text/plain": [
              "           Term Frequency times Inverse Document Frequency\n",
              "very                                              0.238187\n",
              "surgery                                           0.235232\n",
              "not                                               0.232402\n",
              "field                                             0.225065\n",
              "requires                                          0.217940\n",
              "avoid                                             0.214780\n",
              "age                                               0.212796\n",
              "self                                              0.209983\n",
              "limited                                           0.208206\n",
              "effective                                         0.204062\n",
              "gave                                              0.202512\n",
              "finally                                           0.198171\n",
              "treatment                                         0.194863\n",
              "sometimes                                         0.192390\n",
              "usually                                           0.181340\n",
              "can                                               0.173744\n",
              "won                                               0.170009\n",
              "as                                                0.164183\n",
              "always                                            0.159649\n",
              "different                                         0.156429\n",
              "fact                                              0.154657\n",
              "true                                              0.154164\n",
              "look                                              0.153676\n",
              "be                                                0.147182\n",
              "probably                                          0.146144\n",
              "new                                               0.132822\n",
              "well                                              0.122922\n",
              "because                                           0.120628\n",
              "like                                              0.105630\n",
              "any                                               0.097960\n",
              "by                                                0.093480\n",
              "pay                                               0.000000\n",
              "posts                                             0.000000\n",
              "posting                                           0.000000\n",
              "poster                                            0.000000\n",
              "paul                                              0.000000\n",
              "posted                                            0.000000\n",
              "post                                              0.000000\n",
              "penalty                                           0.000000\n",
              "possibly                                          0.000000"
            ],
            "text/html": [
              "\n",
              "  <div id=\"df-4d42b74c-917f-4acf-8c67-b038986c8b2d\">\n",
              "    <div class=\"colab-df-container\">\n",
              "      <div>\n",
              "<style scoped>\n",
              "    .dataframe tbody tr th:only-of-type {\n",
              "        vertical-align: middle;\n",
              "    }\n",
              "\n",
              "    .dataframe tbody tr th {\n",
              "        vertical-align: top;\n",
              "    }\n",
              "\n",
              "    .dataframe thead th {\n",
              "        text-align: right;\n",
              "    }\n",
              "</style>\n",
              "<table border=\"1\" class=\"dataframe\">\n",
              "  <thead>\n",
              "    <tr style=\"text-align: right;\">\n",
              "      <th></th>\n",
              "      <th>Term Frequency times Inverse Document Frequency</th>\n",
              "    </tr>\n",
              "  </thead>\n",
              "  <tbody>\n",
              "    <tr>\n",
              "      <th>very</th>\n",
              "      <td>0.238187</td>\n",
              "    </tr>\n",
              "    <tr>\n",
              "      <th>surgery</th>\n",
              "      <td>0.235232</td>\n",
              "    </tr>\n",
              "    <tr>\n",
              "      <th>not</th>\n",
              "      <td>0.232402</td>\n",
              "    </tr>\n",
              "    <tr>\n",
              "      <th>field</th>\n",
              "      <td>0.225065</td>\n",
              "    </tr>\n",
              "    <tr>\n",
              "      <th>requires</th>\n",
              "      <td>0.217940</td>\n",
              "    </tr>\n",
              "    <tr>\n",
              "      <th>avoid</th>\n",
              "      <td>0.214780</td>\n",
              "    </tr>\n",
              "    <tr>\n",
              "      <th>age</th>\n",
              "      <td>0.212796</td>\n",
              "    </tr>\n",
              "    <tr>\n",
              "      <th>self</th>\n",
              "      <td>0.209983</td>\n",
              "    </tr>\n",
              "    <tr>\n",
              "      <th>limited</th>\n",
              "      <td>0.208206</td>\n",
              "    </tr>\n",
              "    <tr>\n",
              "      <th>effective</th>\n",
              "      <td>0.204062</td>\n",
              "    </tr>\n",
              "    <tr>\n",
              "      <th>gave</th>\n",
              "      <td>0.202512</td>\n",
              "    </tr>\n",
              "    <tr>\n",
              "      <th>finally</th>\n",
              "      <td>0.198171</td>\n",
              "    </tr>\n",
              "    <tr>\n",
              "      <th>treatment</th>\n",
              "      <td>0.194863</td>\n",
              "    </tr>\n",
              "    <tr>\n",
              "      <th>sometimes</th>\n",
              "      <td>0.192390</td>\n",
              "    </tr>\n",
              "    <tr>\n",
              "      <th>usually</th>\n",
              "      <td>0.181340</td>\n",
              "    </tr>\n",
              "    <tr>\n",
              "      <th>can</th>\n",
              "      <td>0.173744</td>\n",
              "    </tr>\n",
              "    <tr>\n",
              "      <th>won</th>\n",
              "      <td>0.170009</td>\n",
              "    </tr>\n",
              "    <tr>\n",
              "      <th>as</th>\n",
              "      <td>0.164183</td>\n",
              "    </tr>\n",
              "    <tr>\n",
              "      <th>always</th>\n",
              "      <td>0.159649</td>\n",
              "    </tr>\n",
              "    <tr>\n",
              "      <th>different</th>\n",
              "      <td>0.156429</td>\n",
              "    </tr>\n",
              "    <tr>\n",
              "      <th>fact</th>\n",
              "      <td>0.154657</td>\n",
              "    </tr>\n",
              "    <tr>\n",
              "      <th>true</th>\n",
              "      <td>0.154164</td>\n",
              "    </tr>\n",
              "    <tr>\n",
              "      <th>look</th>\n",
              "      <td>0.153676</td>\n",
              "    </tr>\n",
              "    <tr>\n",
              "      <th>be</th>\n",
              "      <td>0.147182</td>\n",
              "    </tr>\n",
              "    <tr>\n",
              "      <th>probably</th>\n",
              "      <td>0.146144</td>\n",
              "    </tr>\n",
              "    <tr>\n",
              "      <th>new</th>\n",
              "      <td>0.132822</td>\n",
              "    </tr>\n",
              "    <tr>\n",
              "      <th>well</th>\n",
              "      <td>0.122922</td>\n",
              "    </tr>\n",
              "    <tr>\n",
              "      <th>because</th>\n",
              "      <td>0.120628</td>\n",
              "    </tr>\n",
              "    <tr>\n",
              "      <th>like</th>\n",
              "      <td>0.105630</td>\n",
              "    </tr>\n",
              "    <tr>\n",
              "      <th>any</th>\n",
              "      <td>0.097960</td>\n",
              "    </tr>\n",
              "    <tr>\n",
              "      <th>by</th>\n",
              "      <td>0.093480</td>\n",
              "    </tr>\n",
              "    <tr>\n",
              "      <th>pay</th>\n",
              "      <td>0.000000</td>\n",
              "    </tr>\n",
              "    <tr>\n",
              "      <th>posts</th>\n",
              "      <td>0.000000</td>\n",
              "    </tr>\n",
              "    <tr>\n",
              "      <th>posting</th>\n",
              "      <td>0.000000</td>\n",
              "    </tr>\n",
              "    <tr>\n",
              "      <th>poster</th>\n",
              "      <td>0.000000</td>\n",
              "    </tr>\n",
              "    <tr>\n",
              "      <th>paul</th>\n",
              "      <td>0.000000</td>\n",
              "    </tr>\n",
              "    <tr>\n",
              "      <th>posted</th>\n",
              "      <td>0.000000</td>\n",
              "    </tr>\n",
              "    <tr>\n",
              "      <th>post</th>\n",
              "      <td>0.000000</td>\n",
              "    </tr>\n",
              "    <tr>\n",
              "      <th>penalty</th>\n",
              "      <td>0.000000</td>\n",
              "    </tr>\n",
              "    <tr>\n",
              "      <th>possibly</th>\n",
              "      <td>0.000000</td>\n",
              "    </tr>\n",
              "  </tbody>\n",
              "</table>\n",
              "</div>\n",
              "      <button class=\"colab-df-convert\" onclick=\"convertToInteractive('df-4d42b74c-917f-4acf-8c67-b038986c8b2d')\"\n",
              "              title=\"Convert this dataframe to an interactive table.\"\n",
              "              style=\"display:none;\">\n",
              "        \n",
              "  <svg xmlns=\"http://www.w3.org/2000/svg\" height=\"24px\"viewBox=\"0 0 24 24\"\n",
              "       width=\"24px\">\n",
              "    <path d=\"M0 0h24v24H0V0z\" fill=\"none\"/>\n",
              "    <path d=\"M18.56 5.44l.94 2.06.94-2.06 2.06-.94-2.06-.94-.94-2.06-.94 2.06-2.06.94zm-11 1L8.5 8.5l.94-2.06 2.06-.94-2.06-.94L8.5 2.5l-.94 2.06-2.06.94zm10 10l.94 2.06.94-2.06 2.06-.94-2.06-.94-.94-2.06-.94 2.06-2.06.94z\"/><path d=\"M17.41 7.96l-1.37-1.37c-.4-.4-.92-.59-1.43-.59-.52 0-1.04.2-1.43.59L10.3 9.45l-7.72 7.72c-.78.78-.78 2.05 0 2.83L4 21.41c.39.39.9.59 1.41.59.51 0 1.02-.2 1.41-.59l7.78-7.78 2.81-2.81c.8-.78.8-2.07 0-2.86zM5.41 20L4 18.59l7.72-7.72 1.47 1.35L5.41 20z\"/>\n",
              "  </svg>\n",
              "      </button>\n",
              "      \n",
              "  <style>\n",
              "    .colab-df-container {\n",
              "      display:flex;\n",
              "      flex-wrap:wrap;\n",
              "      gap: 12px;\n",
              "    }\n",
              "\n",
              "    .colab-df-convert {\n",
              "      background-color: #E8F0FE;\n",
              "      border: none;\n",
              "      border-radius: 50%;\n",
              "      cursor: pointer;\n",
              "      display: none;\n",
              "      fill: #1967D2;\n",
              "      height: 32px;\n",
              "      padding: 0 0 0 0;\n",
              "      width: 32px;\n",
              "    }\n",
              "\n",
              "    .colab-df-convert:hover {\n",
              "      background-color: #E2EBFA;\n",
              "      box-shadow: 0px 1px 2px rgba(60, 64, 67, 0.3), 0px 1px 3px 1px rgba(60, 64, 67, 0.15);\n",
              "      fill: #174EA6;\n",
              "    }\n",
              "\n",
              "    [theme=dark] .colab-df-convert {\n",
              "      background-color: #3B4455;\n",
              "      fill: #D2E3FC;\n",
              "    }\n",
              "\n",
              "    [theme=dark] .colab-df-convert:hover {\n",
              "      background-color: #434B5C;\n",
              "      box-shadow: 0px 1px 3px 1px rgba(0, 0, 0, 0.15);\n",
              "      filter: drop-shadow(0px 1px 2px rgba(0, 0, 0, 0.3));\n",
              "      fill: #FFFFFF;\n",
              "    }\n",
              "  </style>\n",
              "\n",
              "      <script>\n",
              "        const buttonEl =\n",
              "          document.querySelector('#df-4d42b74c-917f-4acf-8c67-b038986c8b2d button.colab-df-convert');\n",
              "        buttonEl.style.display =\n",
              "          google.colab.kernel.accessAllowed ? 'block' : 'none';\n",
              "\n",
              "        async function convertToInteractive(key) {\n",
              "          const element = document.querySelector('#df-4d42b74c-917f-4acf-8c67-b038986c8b2d');\n",
              "          const dataTable =\n",
              "            await google.colab.kernel.invokeFunction('convertToInteractive',\n",
              "                                                     [key], {});\n",
              "          if (!dataTable) return;\n",
              "\n",
              "          const docLinkHtml = 'Like what you see? Visit the ' +\n",
              "            '<a target=\"_blank\" href=https://colab.research.google.com/notebooks/data_table.ipynb>data table notebook</a>'\n",
              "            + ' to learn more about interactive tables.';\n",
              "          element.innerHTML = '';\n",
              "          dataTable['output_type'] = 'display_data';\n",
              "          await google.colab.output.renderOutput(dataTable, element);\n",
              "          const docLink = document.createElement('div');\n",
              "          docLink.innerHTML = docLinkHtml;\n",
              "          element.appendChild(docLink);\n",
              "        }\n",
              "      </script>\n",
              "    </div>\n",
              "  </div>\n",
              "  "
            ]
          },
          "metadata": {},
          "execution_count": 30
        }
      ],
      "source": [
        "feature_names = count_vect.get_feature_names_out() \n",
        "\n",
        "#get tfidf vector for first document \n",
        "first_document_vector = X_train_twenty[0]\n",
        "\n",
        "#print the scores\n",
        "frequency_table_twenty = pd.DataFrame(first_document_vector.T.todense(), index=feature_names, columns=[\"Term Frequency times Inverse Document Frequency\"]) # Create a data frame \n",
        "frequency_table_twenty.sort_values(by=[\"Term Frequency times Inverse Document Frequency\"],ascending=False).head(40) # Sort by frequencies of all words"
      ]
    },
    {
      "cell_type": "markdown",
      "metadata": {
        "id": "slKfF9pe4RpO"
      },
      "source": [
        "We can compare this table to the table of the occurrences and notice that even though the word \"not\" had the highest occurrency in the first document and \"very\" the second highest, it's \"very\" that has the highest tfidf while \"not\" is onlt the third word. Thus, taking into account downscale weights for words and frequencies significantly changed the importance of some features."
      ]
    },
    {
      "cell_type": "markdown",
      "metadata": {
        "id": "dLc2f1MO4ToT"
      },
      "source": [
        "Since we are dealing with discrete class labels, we will use something different from simple regression to select features externally. \n",
        "Thus, we will use Mutual Information (MI) from sklearn [7] to select the top 200 feature words per class and take the\n",
        "union of all top feature words to train our multiclass model. Notice that we  filtered rare stopwords first, as such words would have high mutual information. If we haven't filtered them out, we would have ended up choosing wrong features with mutual information and get low accuracy later.\n",
        "\n",
        "To use mutual information, we will first convert the list containing the label to one-hot encoded so that we get 4 columns of y (e.g,. y1, y2, y3, y4) according to the 4 categroies we picked. \n",
        "Then, we calculate the mutual information of each feature (each column of `X_train_twenty_count`) with y1,y2,y3 and y4 respectively. Notice we use the feature columns of `X_train_twenty_count` instead of `X_train_twenty` because the `mutual_info_score` function raises a warning if the label data is not discrete. Afterwards, we choose the 200 features that have the highest MI for each class, leaving us with a total of 800 features or less. It is possible that we get less than 800 features if some features are important to more than one catgeory. "
      ]
    },
    {
      "cell_type": "code",
      "execution_count": null,
      "metadata": {
        "colab": {
          "base_uri": "https://localhost:8080/"
        },
        "id": "k1_7qD2Y4WDr",
        "outputId": "2f829623-c01c-4870-8370-9db509368113"
      },
      "outputs": [
        {
          "output_type": "stream",
          "name": "stdout",
          "text": [
            "Before one hot encoding:\n",
            " [2 3 0 ... 2 1 3]\n",
            "After one hot encoding:\n",
            " [[0 0 1 0]\n",
            " [0 0 0 1]\n",
            " [1 0 0 0]\n",
            " ...\n",
            " [0 0 1 0]\n",
            " [0 1 0 0]\n",
            " [0 0 0 1]]\n"
          ]
        }
      ],
      "source": [
        "print(\"Before one hot encoding:\\n\", y_train_twenty)\n",
        "\n",
        "y_train_twenty_onehot = np.zeros((y_train_twenty.size, y_train_twenty.max() + 1))\n",
        "y_train_twenty_onehot[np.arange(y_train_twenty.size), y_train_twenty] = 1\n",
        "\n",
        "# Since the y_train_twenty_onehot array contains floats, we convert its values to integers \n",
        "y_train_twenty_onehot = (np.rint(y_train_twenty_onehot)).astype(int)\n",
        "\n",
        "print(\"After one hot encoding:\\n\", y_train_twenty_onehot)\n",
        "\n",
        "# Set the training labels to one hot encoded\n",
        "y_train_twenty = y_train_twenty_onehot"
      ]
    },
    {
      "cell_type": "markdown",
      "metadata": {
        "id": "uM8bWbGyz9C1"
      },
      "source": [
        "We will also convert our datasets `X_train_twenty_count` and `X_train_twenty` of type `scipy.sparse.csr_matrix` to numpy arrays to better manipulate them. However, transitionning to a numpy array will not use the built-in feature of scikit-learn that ignores the zero values in the matrix[105]. Therefore, X will now hold a lot of zero values as every document only has a few thousand words on average."
      ]
    },
    {
      "cell_type": "code",
      "execution_count": null,
      "metadata": {
        "colab": {
          "base_uri": "https://localhost:8080/"
        },
        "id": "IQkLlQRQz_sn",
        "outputId": "ff7ae644-d66a-4ec2-f20a-19f480ef7bc8"
      },
      "outputs": [
        {
          "output_type": "stream",
          "name": "stdout",
          "text": [
            "[[0.         0.         0.         ... 0.         0.         0.        ]\n",
            " [0.         0.         0.         ... 0.05935572 0.         0.        ]\n",
            " [0.         0.         0.         ... 0.         0.         0.        ]\n",
            " ...\n",
            " [0.         0.         0.0704896  ... 0.14674361 0.         0.        ]\n",
            " [0.         0.         0.14819041 ... 0.         0.         0.        ]\n",
            " [0.         0.         0.         ... 0.         0.         0.        ]]\n",
            "\n",
            "The shape of the training array is:  (2377, 1586)\n",
            "So we still have  2377  documents and  1586  words (features).\n"
          ]
        }
      ],
      "source": [
        "X_train_twenty_count = np.asarray(X_train_twenty_count.todense())\n",
        "X_train_twenty = np.asarray(X_train_twenty.todense())\n",
        "\n",
        "print(X_train_twenty)\n",
        "print(\"\\nThe shape of the training array is: \", X_train_twenty.shape)\n",
        "print(\"So we still have \", X_train_twenty.shape[0], \" documents and \", X_train_twenty.shape[1], \" words (features).\")"
      ]
    },
    {
      "cell_type": "markdown",
      "metadata": {
        "id": "ecw4V-vcTkGs"
      },
      "source": [
        "We will now proceed to keep the top 100 features for each category using mutual information. Again, we use the `X_train_twenty_count` dataframe to compute the score, but after selecting the top ~400 features, the algorithm also deletes the other features in the `X_train_twenty` dataframe. "
      ]
    },
    {
      "cell_type": "code",
      "execution_count": null,
      "metadata": {
        "colab": {
          "base_uri": "https://localhost:8080/"
        },
        "id": "8jhC8NHf4ZVL",
        "outputId": "1adc3192-c1e7-4f0f-e44a-28f71682a430"
      },
      "outputs": [
        {
          "output_type": "stream",
          "name": "stdout",
          "text": [
            "[[0.         0.         0.         ... 0.         0.         0.        ]\n",
            " [0.         0.         0.         ... 0.         0.16766055 0.05935572]\n",
            " [0.         0.         0.         ... 0.         0.         0.        ]\n",
            " ...\n",
            " [0.0704896  0.         0.         ... 0.         0.06908381 0.14674361]\n",
            " [0.14819041 0.         0.         ... 0.         0.         0.        ]\n",
            " [0.         0.         0.         ... 0.07328712 0.         0.        ]]\n",
            "\n",
            "The new shape of the training array is: (2377, 297)\n",
            "So we now still have  2377  documents but  297  words (features).\n",
            "\n",
            "The shape of the array holding the feature names is:  (297,)\n",
            "The array holding the feature names now has the follwing words: \n",
            " ['10' '256' '3d' 'abc' 'about' 'acts' 'advance' 'after' 'again'\n",
            " 'algorithm' 'algorithms' 'all' 'animation' 'any' 'are' 'as' 'available'\n",
            " 'banks' 'bay' 'be' 'beat' 'because' 'been' 'being' 'belief' 'beliefs'\n",
            " 'believe' 'bible' 'biblical' 'blood' 'brain' 'bruins' 'buffalo' 'but'\n",
            " 'by' 'cadre' 'calgary' 'can' 'cancer' 'card' 'catholic' 'cause' 'causes'\n",
            " 'chastity' 'chicago' 'chinese' 'christ' 'christian' 'christianity'\n",
            " 'christians' 'church' 'coach' 'code' 'color' 'colors' 'come' 'computer'\n",
            " 'condition' 'cup' 'death' 'defensive' 'detroit' 'devils' 'diagnosed'\n",
            " 'did' 'diet' 'directory' 'disease' 'diseases' 'display' 'do' 'doctor'\n",
            " 'doctors' 'doctrine' 'does' 'dos' 'drug' 'drugs' 'dsl' 'eat' 'edu'\n",
            " 'effective' 'effects' 'espn' 'eternal' 'faith' 'fan' 'fans' 'father'\n",
            " 'file' 'files' 'finals' 'flyers' 'food' 'foods' 'format' 'formats' 'from'\n",
            " 'ftp' 'game' 'games' 'geb' 'gif' 'goal' 'goalie' 'goals' 'god' 'gordon'\n",
            " 'gospel' 'graphics' 'gretzky' 'habs' 'had' 'hardware' 'hartford' 'has'\n",
            " 'have' 'hawks' 'he' 'health' 'heaven' 'her' 'hi' 'him' 'himself' 'his'\n",
            " 'hockey' 'holy' 'hospital' 'ice' 'if' 'image' 'images' 'intellect'\n",
            " 'interface' 'islanders' 'jersey' 'jesus' 'jets' 'jewish' 'jews' 'kings'\n",
            " 'law' 'leafs' 'league' 'lemieux' 'life' 'lindros' 'looking' 'lord'\n",
            " 'louis' 'love' 'mac' 'man' 'many' 'me' 'mean' 'med' 'medical' 'medicine'\n",
            " 'minnesota' 'mode' 'montreal' 'more' 'msg' 'must' 'my' 'n3jxp' 'nhl' 'no'\n",
            " 'normal' 'norris' 'not' 'oilers' 'one' 'only' 'or' 'other' 'others' 'our'\n",
            " 'package' 'pain' 'patient' 'patients' 'patrick' 'pc' 'penguins' 'pens'\n",
            " 'people' 'period' 'physician' 'pitt' 'pittsburgh' 'play' 'played'\n",
            " 'player' 'players' 'playing' 'playoff' 'playoffs' 'polygon' 'potvin'\n",
            " 'program' 'programming' 'programs' 'pts' 'puck' 'quebec' 'question'\n",
            " 'rangers' 'reaction' 'reason' 'religion' 'religions' 'research' 'results'\n",
            " 'resurrection' 'revelation' 'roger' 'round' 'say' 'sci' 'science'\n",
            " 'scientific' 'score' 'scored' 'scoring' 'screen' 'scripture' 'scriptures'\n",
            " 'season' 'see' 'severe' 'shameful' 'she' 'shots' 'sin' 'sins'\n",
            " 'skepticism' 'so' 'software' 'soon' 'spirit' 'spiritual' 'stanley'\n",
            " 'statement' 'studies' 'study' 'such' 'surgery' 'surrender' 'symptoms'\n",
            " 'syndrome' 'team' 'teams' 'tests' 'thanks' 'their' 'then' 'therapy'\n",
            " 'there' 'they' 'things' 'this' 'those' 'tiff' 'too' 'toronto' 'treatment'\n",
            " 'true' 'truth' 'unix' 'us' 'use' 'using' 'vancouver' 'version' 'vga'\n",
            " 'video' 'was' 'we' 'were' 'what' 'when' 'which' 'who' 'why' 'win'\n",
            " 'windows' 'wings' 'winnipeg' 'with' 'word' 'would' 'year' 'you' 'your']\n"
          ]
        }
      ],
      "source": [
        "number_words = X_train_twenty_count.shape[1] # Number of features = number of words\n",
        "number_categories = y_train_twenty_onehot.shape[1] # Number of catgeories\n",
        "\n",
        "scores = np.zeros((number_words, number_categories)) # Array to store the mutual info score of all features with the given category\n",
        "ind = np.asarray([]) # Array to keep track of the indices of the 100 highest mutual information scores for all categories\n",
        "# We will just append the index of the columns of X_train_twenty_count corresponding to the 100 best words to the 'ind' array for each category\n",
        "# Since we are dealing with 400 catgeories the array has shape (400,1).\n",
        "\n",
        "j = 0\n",
        "i = 0\n",
        "\n",
        "# loop over all categories (y1,y2,y3,y4)\n",
        "for category in y_train_twenty_onehot.T: \n",
        "  # Loop over each columns of features\n",
        "  for features in X_train_twenty_count.T:\n",
        "    scores[i][j] = mutual_info_score(features, category)\n",
        "    i+=1\n",
        "\n",
        "  # Save indices of the 200 highest mutual information scores for that category\n",
        "  indices = np.argpartition(scores[:, j], -100)[-100:]\n",
        "  ind = np.append(ind, indices)\n",
        "\n",
        "  j+=1 # Reset counters\n",
        "  i=0\n",
        "\n",
        "# We now remove duplicates in the index array to make sure that if a feature is \n",
        "# considered best for more than one category, we delete it.\n",
        "ind = np.unique(ind)\n",
        "\n",
        "# Since the index array contains floats, we convert its values to integers \n",
        "ind = (np.rint(ind)).astype(int)\n",
        "\n",
        "# Keep the top features in both X_train_twenty_count and X_train_twenty dataframes\n",
        "X_train_twenty_count = X_train_twenty_count[:, ind]\n",
        "X_train_twenty = X_train_twenty[:, ind]\n",
        "\n",
        "# Also remove the features in the array containg the feature names\n",
        "feature_names_twenty = feature_names[ind]\n",
        "\n",
        "print(X_train_twenty)\n",
        "print(\"\\nThe new shape of the training array is:\", X_train_twenty.shape)\n",
        "print(\"So we now still have \", X_train_twenty.shape[0], \" documents but \", X_train_twenty.shape[1], \" words (features).\\n\")\n",
        "\n",
        "print(\"The shape of the array holding the feature names is: \", feature_names_twenty.shape)\n",
        "print(\"The array holding the feature names now has the follwing words: \\n\", feature_names_twenty)"
      ]
    },
    {
      "cell_type": "markdown",
      "metadata": {
        "id": "44eIGGdUG1_f"
      },
      "source": [
        "### 1.2.2 Testing pre-processing "
      ]
    },
    {
      "cell_type": "markdown",
      "metadata": {
        "id": "38jsUuC3G3bJ"
      },
      "source": [
        "We will now pre-process the testing set of the 20 news groups dataset. Most of the steps are identical to the ones we performed on the training dataset."
      ]
    },
    {
      "cell_type": "code",
      "execution_count": null,
      "metadata": {
        "colab": {
          "base_uri": "https://localhost:8080/"
        },
        "id": "w8wZixN5XJO_",
        "outputId": "c01bd60b-3c31-4cba-a7db-0ca22c91cd89"
      },
      "outputs": [
        {
          "output_type": "stream",
          "name": "stdout",
          "text": [
            "The number of documents in the testing data is:  1582 \n",
            "\n",
            "Wow, this guy seems to be out to prove something to his old team, Boston.\n",
            "Which Sweeney you ask...well, of course Bob Sweeney, the one that Boston\n",
            "let Buffalo get a hold of (they still have 2 Sweeneys which makes things\n",
            "slightly confusing).  Game winner in OT in game 1, and another\n",
            "BIG goal (seconds after Fuhr made 3 point blank saves -> this is why\n",
            "Grant has 5 rings!!!) to put Buffalo ahead in the 3rd.  Yes, Neely countered\n",
            "a minute later, but hadn't this course of Buffalo going ahead after being\n",
            "tied and shutting down another few great scoring opportunities, I\n",
            "think Boston would have notched their first win of the series.\n",
            "\n",
            "Well, the Sabres haven't made it to the end of this series yet, but\n",
            "I certainly feel they've got Boston right were they want them...actually,\n",
            "they've got them in a position that neither Buffalo nor Boston felt\n",
            "that would come about.  One more astronomical game by Fuhr, a few more\n",
            "heroics by the rest of the team (this is a team sport afterall) and I\n",
            "think Borque, Neely, Jouneau (sp?), and Company are gonna be swinging\n",
            "a new stick (Weather is perfect for golf season) real soon.  I'm not\n",
            "gonna waiger anything on this, because I've seen some really strange\n",
            "things happen in both pro and college hockey.\n",
            "\n",
            "Talking about golf...was that a hockey swing, golf swing or baseball\n",
            "swing that Hawerchuck used in the last shot of the game that Khmylev\n",
            "deflected in for the BIG ONE?  The whole OT (all 1 minute of it!) was a\n",
            "tesiment to Buffalo's ability to really be persistent and grind it out\n",
            "in the end (something they weren't necessarily in the regular season).  The\n",
            "Sabres pushed hard and forced Borque to blatently take down Bodger in\n",
            "the opening seconds.  I don't normally like penalties being called in\n",
            "such ultra-critical points, but this was BLATENT.  Finally, the Sabres\n",
            "won a faceoff (they weren't that hot in this dept the rest of the game)\n",
            "when LaFontaine scooped at the puck 3 times.  When Hawerchuck took his\n",
            "shot (quite a boomer, but Blue stopped this one) he took a few steps\n",
            "over to get his own rebound and slapped at it again, without setting\n",
            "it up.  I didn't realize it went in until the announcer started screaming,\n",
            "\"They score, THEY SCORE!!!\".  The best was seeing LaFontaine jumping\n",
            "up and down, skating a little bit, jumping some more, and then skating\n",
            "over to Brad May who he jumped on.\n",
            "\n",
            "The category of the first file is: rec.sport.hockey\n",
            "\n",
            "The labels are:\n",
            " [1 2 1 ... 1 1 3]\n"
          ]
        }
      ],
      "source": [
        "# Import the testing dataset\n",
        "df_test_twenty = fetch_20newsgroups(subset='test', categories=categories_twenty, shuffle=True, random_state=42, remove=(['headers', 'footers', 'quotes']))\n",
        "\n",
        "# Labels of the testing dataset\n",
        "y_test_twenty = df_test_twenty.target\n",
        "\n",
        "# Print the shape of the testing data.\n",
        "print(\"The number of documents in the testing data is: \",len(df_test_twenty.data), \"\\n\")\n",
        "\n",
        "# Print the first loaded file\n",
        "print(\"\\n\".join(df_test_twenty.data[0].split(\"\\n\")))\n",
        "# Print the category of the first loaded file\n",
        "print(\"\\nThe category of the first file is:\", df_test_twenty.target_names[df_test_twenty.target[0]])\n",
        "# Print the target vector\n",
        "print(\"\\nThe labels are:\\n\", y_test_twenty)"
      ]
    },
    {
      "cell_type": "markdown",
      "metadata": {
        "id": "BhlMhD-YY1dy"
      },
      "source": [
        "After a successful import, we will visiualize if the proportion of training examples in each of the four classes we chose is equivalently divided for the test dataset. To do so, we will visualize a pie chart of the class distribution using the function we defined earlier."
      ]
    },
    {
      "cell_type": "code",
      "execution_count": null,
      "metadata": {
        "colab": {
          "base_uri": "https://localhost:8080/",
          "height": 313
        },
        "id": "zaFnVxnmYdMU",
        "outputId": "2dde00d3-a73e-4799-82c2-2ff298fbe371"
      },
      "outputs": [
        {
          "output_type": "display_data",
          "data": {
            "text/plain": [
              "<Figure size 432x288 with 1 Axes>"
            ],
            "image/png": "[encoded data removed]"
          },
          "metadata": {}
        }
      ],
      "source": [
        "get_distribution(\"test\")"
      ]
    },
    {
      "cell_type": "markdown",
      "metadata": {
        "id": "TP9F4ly6YT8w"
      },
      "source": [
        "Again, we notice how well distributed the training examples are between the four categories even for the testing data. \n",
        "\n",
        "Since the 20 news groups testing set also has text data, we need to convert it to feature vectors by performing countvectorizer's operations as we did for training. Notice that for the testing data, we use the `.transform` function instead of `.fit_transform` so that the count_vect object makes sure the two feature vectors have the same number of features."
      ]
    },
    {
      "cell_type": "code",
      "execution_count": null,
      "metadata": {
        "colab": {
          "base_uri": "https://localhost:8080/"
        },
        "id": "M-K0Sft-aTHK",
        "outputId": "36dc6ae4-a2bf-44c9-b241-2020b443fe82"
      },
      "outputs": [
        {
          "output_type": "stream",
          "name": "stdout",
          "text": [
            "Shape of the matrix containing the frequencies is:  (1582, 1586)\n",
            "This is interpreted as the following: 1582  docs and  1586  unique words.\n",
            "\n",
            "Frequencies of each words for the first document is:\n",
            "   (0, 1581)\t0.022978550163455517\n",
            "  (0, 1579)\t0.04837535017646725\n",
            "  (0, 1578)\t0.04933768339796798\n",
            "  (0, 1568)\t0.053700301468653656\n",
            "  (0, 1554)\t0.04984812817515435\n",
            "  (0, 1551)\t0.042910288309618246\n",
            "  (0, 1542)\t0.054160069011427836\n",
            "  (0, 1537)\t0.03947868590502585\n",
            "  (0, 1534)\t0.05276928580256037\n",
            "  (0, 1533)\t0.029516772928721284\n",
            "  (0, 1530)\t0.06250212339202402\n",
            "  (0, 1527)\t0.06466529061949158\n",
            "  (0, 1523)\t0.03511003676003032\n",
            "  (0, 1522)\t0.05623557383450204\n",
            "  (0, 1521)\t0.07208325665911768\n",
            "  (0, 1507)\t0.10450494051201292\n",
            "  (0, 1504)\t0.0416588286662681\n",
            "  (0, 1492)\t0.11982556774944353\n",
            "  (0, 1478)\t0.043274512913456235\n",
            "  (0, 1474)\t0.06686465171270586\n",
            "  (0, 1473)\t0.05071082612334329\n",
            "  (0, 1435)\t0.11464715614003129\n",
            "  (0, 1429)\t0.05139930242212327\n",
            "  (0, 1415)\t0.19092169255587696\n",
            "  (0, 1412)\t0.06497531510163342\n",
            "  :\t:\n",
            "  (0, 254)\t0.0895410495389768\n",
            "  (0, 249)\t0.3245139876420188\n",
            "  (0, 238)\t0.04333626198038289\n",
            "  (0, 237)\t0.3105628735833168\n",
            "  (0, 232)\t0.06561751551706993\n",
            "  (0, 230)\t0.06561751551706993\n",
            "  (0, 227)\t0.04865635437611394\n",
            "  (0, 225)\t0.10717012753667203\n",
            "  (0, 219)\t0.04267323551072851\n",
            "  (0, 211)\t0.07762918423531995\n",
            "  (0, 202)\t0.03536919962549237\n",
            "  (0, 199)\t0.0647326142364181\n",
            "  (0, 193)\t0.06897193149977025\n",
            "  (0, 177)\t0.05396670421455883\n",
            "  (0, 170)\t0.05116557298820763\n",
            "  (0, 157)\t0.022978550163455517\n",
            "  (0, 143)\t0.0453465961574582\n",
            "  (0, 136)\t0.08558240033054242\n",
            "  (0, 111)\t0.02797585219658806\n",
            "  (0, 103)\t0.045790577493769934\n",
            "  (0, 102)\t0.07841760291536576\n",
            "  (0, 92)\t0.04714154554578039\n",
            "  (0, 76)\t0.055237132314958214\n",
            "  (0, 74)\t0.06637557552709085\n",
            "  (0, 40)\t0.06268104354526162\n"
          ]
        }
      ],
      "source": [
        "# Use the count_vect object we created for training and fit it on the twenty newsgroup testing data.\n",
        "# Reminder: count_vect sets the min/max frequencies of the words to ignore to 1% and 50% respectively\n",
        "X_test_twenty = count_vect.transform(df_test_twenty.data) \n",
        "X_test_twenty = tfidf_transformer.transform(X_test_twenty)\n",
        "\n",
        "print(\"Shape of the matrix containing the frequencies is: \", X_test_twenty.shape)\n",
        "print(\"This is interpreted as the following:\", X_test_twenty.shape[0], \" docs and \", X_test_twenty.shape[1], \" unique words.\")\n",
        "print(\"\\nFrequencies of each words for the first document is:\\n\", X_test_twenty[0])"
      ]
    },
    {
      "cell_type": "markdown",
      "metadata": {
        "id": "itRsHy-_duxa"
      },
      "source": [
        "Now that the test data is converted to feature vectors, we need it to have the same features as the train data. So, any features that were removed in training data will be excluded in test data. From the earlier computation, the array ind hold the index of the top features we selected for the trianing dataset.\n",
        "\n",
        "We also convert the array storing the labels to one-hot encoded and we convert the `X_test_twenty_count` and `X_test_twenty` of type `scipy.sparse.csr_matrix` to numpy arrays to better manipulate them. "
      ]
    },
    {
      "cell_type": "code",
      "execution_count": null,
      "metadata": {
        "colab": {
          "base_uri": "https://localhost:8080/"
        },
        "id": "hMmjxRG-gMN-",
        "outputId": "b1b57f5f-a157-4227-f84f-097b1767b6ff"
      },
      "outputs": [
        {
          "output_type": "stream",
          "name": "stdout",
          "text": [
            "  (0, 295)\t0.022978550163455517\n",
            "  (0, 293)\t0.053700301468653656\n",
            "  (0, 287)\t0.054160069011427836\n",
            "  (0, 286)\t0.03947868590502585\n",
            "  (0, 285)\t0.029516772928721284\n",
            "  (0, 284)\t0.06250212339202402\n",
            "  (0, 283)\t0.06466529061949158\n",
            "  (0, 281)\t0.03511003676003032\n",
            "  (0, 279)\t0.10450494051201292\n",
            "  (0, 263)\t0.19092169255587696\n",
            "  (0, 262)\t0.08408720485888319\n",
            "  (0, 261)\t0.216673541271845\n",
            "  (0, 258)\t0.034982442176958735\n",
            "  (0, 257)\t0.033292924628377\n",
            "  (0, 253)\t0.1313317813617961\n",
            "  (0, 248)\t0.04008421981453901\n",
            "  (0, 241)\t0.049438118963170415\n",
            "  (0, 230)\t0.1018722648213359\n",
            "  (0, 226)\t0.06297527266485232\n",
            "  (0, 224)\t0.13436515112591554\n",
            "  (0, 206)\t0.06456019635374416\n",
            "  (0, 176)\t0.02420317683375861\n",
            "  (0, 174)\t0.10908482410133716\n",
            "  (0, 172)\t0.022714029208567462\n",
            "  (0, 163)\t0.09616005886072146\n",
            "  :\t:\n",
            "  (1581, 172)\t0.06755343311454944\n",
            "  (1581, 169)\t0.09011236532983562\n",
            "  (1581, 166)\t0.1253726067457872\n",
            "  (1581, 163)\t0.04766468368433646\n",
            "  (1581, 155)\t0.04374089219013586\n",
            "  (1581, 154)\t0.055543101717684756\n",
            "  (1581, 146)\t0.13732237780776138\n",
            "  (1581, 137)\t0.27464475561552276\n",
            "  (1581, 130)\t0.07026858678142721\n",
            "  (1581, 129)\t0.08441602551762033\n",
            "  (1581, 118)\t0.09150089449952789\n",
            "  (1581, 116)\t0.09699186538937402\n",
            "  (1581, 106)\t0.22786003171583913\n",
            "  (1581, 97)\t0.039226463679055454\n",
            "  (1581, 85)\t0.1514883415145042\n",
            "  (1581, 74)\t0.05141675206111355\n",
            "  (1581, 70)\t0.04256921566514752\n",
            "  (1581, 49)\t0.07249544649354817\n",
            "  (1581, 46)\t0.07125995218404908\n",
            "  (1581, 33)\t0.06657565293123213\n",
            "  (1581, 19)\t0.06417341291581431\n",
            "  (1581, 15)\t0.07158581454496057\n",
            "  (1581, 14)\t0.03417007034029017\n",
            "  (1581, 13)\t0.04271170075066768\n",
            "  (1581, 11)\t0.04160126859993422\n",
            "\n",
            "The new shape of the testing array is: (1582, 297)\n",
            "So we now still have  1582  documents but  297  words (features).\n"
          ]
        }
      ],
      "source": [
        "X_test_twenty = X_test_twenty[:, ind]\n",
        "\n",
        "print(X_test_twenty)\n",
        "print(\"\\nThe new shape of the testing array is:\", X_test_twenty.shape)\n",
        "print(\"So we now still have \", X_test_twenty.shape[0], \" documents but \", X_test_twenty.shape[1], \" words (features).\")"
      ]
    },
    {
      "cell_type": "code",
      "execution_count": null,
      "metadata": {
        "colab": {
          "base_uri": "https://localhost:8080/"
        },
        "id": "qyOKw3qUegt2",
        "outputId": "2198ac8f-2af5-46bb-b0cf-a8446c48ceef"
      },
      "outputs": [
        {
          "output_type": "stream",
          "name": "stdout",
          "text": [
            "Before one hot encoding:\n",
            " [1 2 1 ... 1 1 3]\n",
            "After one hot encoding:\n",
            " [[0 1 0 0]\n",
            " [0 0 1 0]\n",
            " [0 1 0 0]\n",
            " ...\n",
            " [0 1 0 0]\n",
            " [0 1 0 0]\n",
            " [0 0 0 1]]\n"
          ]
        }
      ],
      "source": [
        "print(\"Before one hot encoding:\\n\", y_test_twenty)\n",
        "\n",
        "y_test_twenty_onehot = np.zeros((y_test_twenty.size, y_test_twenty.max() + 1))\n",
        "y_test_twenty_onehot[np.arange(y_test_twenty.size), y_test_twenty] = 1\n",
        "\n",
        "# Since the y_test_twenty_onehot array contains floats, we convert its values to integers \n",
        "y_test_twenty_onehot = (np.rint(y_test_twenty_onehot)).astype(int)\n",
        "\n",
        "print(\"After one hot encoding:\\n\", y_test_twenty_onehot)\n",
        "y_test_twenty = y_test_twenty_onehot\n",
        "\n",
        "X_test_twenty = np.asarray(X_test_twenty.todense())"
      ]
    },
    {
      "cell_type": "markdown",
      "metadata": {
        "id": "wvaMmueEnAkY"
      },
      "source": [
        "As a last step of pre-processing, we will split the training datasets into training and validation and print the shape of all variables of the 20 news groups data."
      ]
    },
    {
      "cell_type": "code",
      "execution_count": null,
      "metadata": {
        "colab": {
          "base_uri": "https://localhost:8080/"
        },
        "id": "ot--J0SBnK8a",
        "outputId": "d2e13a97-0a63-48c8-c33b-642a745508a3"
      },
      "outputs": [
        {
          "output_type": "stream",
          "name": "stdout",
          "text": [
            "Training data has:  1663  documents and  297  words (features).\n",
            "Training label has:  1663  documents and  4  labels.\n",
            "Validation data has:  714  documents and  297  words (features).\n",
            "Validation label has:  714  documents and  4  labels.\n",
            "Testing data has:  1582  documents and  297  words (features).\n",
            "Testing data has:  1582  documents and  4  labels.\n"
          ]
        }
      ],
      "source": [
        "X_train_twenty, X_validate_twenty, y_train_twenty, y_validate_twenty = train_test_split(X_train_twenty, y_train_twenty, test_size = 0.3, random_state=5, shuffle = True)\n",
        "\n",
        "print(\"Training data has: \", X_train_twenty.shape[0], \" documents and \", X_train_twenty.shape[1], \" words (features).\")\n",
        "print(\"Training label has: \", y_train_twenty.shape[0], \" documents and \", y_train_twenty.shape[1], \" labels.\")\n",
        "\n",
        "print(\"Validation data has: \", X_validate_twenty.shape[0], \" documents and \", X_validate_twenty.shape[1], \" words (features).\")\n",
        "print(\"Validation label has: \", y_validate_twenty.shape[0], \" documents and \", y_validate_twenty.shape[1], \" labels.\")\n",
        "\n",
        "print(\"Testing data has: \", X_test_twenty.shape[0], \" documents and \", X_test_twenty.shape[1], \" words (features).\")\n",
        "print(\"Testing data has: \", y_test_twenty.shape[0], \" documents and \", y_test_twenty.shape[1], \" labels.\")"
      ]
    },
    {
      "cell_type": "markdown",
      "metadata": {
        "id": "TF1I3lm9fOqr"
      },
      "source": [
        "We notice that all X matrices correclty have the same number of features, and that corresponding X and y matrices have the same number of training examples (documents).\n",
        "\n",
        " The pre-processing on the data is now completed, we will therefore move on to the implementation of our models: logisitic and multiclass classifiers. \n",
        "\n",
        "Here are the names of the variables to use in order to run experiments on the 20 news groups data:\n",
        "\n",
        "`X_train_twenty`, `y_train_twenty`, `X_validate_twenty`, `y_validate_twenty`,`X_test_twenty`, `y_test_twenty`"
      ]
    },
    {
      "cell_type": "markdown",
      "metadata": {
        "id": "QgsgYGYpGgw4"
      },
      "source": [
        "# Task 2: Implement Logistic and Multiclass classifiers"
      ]
    },
    {
      "cell_type": "markdown",
      "metadata": {
        "id": "I-dzrhus6xhS"
      },
      "source": [
        "In this section, we will implement Logistic and Multiclass Regression models. \n",
        "\n",
        "The Multi-class Regression model is a classification model that outputs probabilities for $C$ classes using a softmax function. It is learned by minimizing the Cross-Entropy cost function. \n",
        "\n",
        "The Logistic Regression model is a special case of the Multiclass Regression model when $C=2$. It outputs class probabilities using a logistic function, which is a reduction from the softmax function when $C=2$. It is also learned by minimizing the Cross-Entropy cost function, which is a reduced form of Cross-Entropy from the multi-class case. \n",
        "\n",
        "Both models will be trained using gradient descent. We will add three different dimensions to our algorithm since we know that there exist better alternatives to the generic full-batch gradient descent. \n",
        "\n",
        "To start, we know that for full-batch training, a very small learning rate could influence the convergence to be slower. In contrast, for online training, the algorithm approaches the optima faster. However, the weights oscillate near the global minimum and the algorithm does not converge. Therefore, we will experiment with mini-batch stochastic gradient descent that will update the weights based on mini-batches, making the best out of the two options. \n",
        "\n",
        "Next, to make the stochastic gradient descent converge near the global optima, we will implement Adaptive Moment Estimate (Adam) [9]. We choose Adam since it is the algorithm that combines momentum and parameter adaptive learning rate. \n",
        "\n",
        "Finally, we will implement L2-regularization to our Losigtic and Multiclass regression models by adding a hyperparameter λ. This hyperparameter will control the strength of the regularization on the weights. "
      ]
    },
    {
      "cell_type": "markdown",
      "metadata": {
        "id": "GTFohxX3HDs_"
      },
      "source": [
        "## 2.1 Logistic Regression"
      ]
    },
    {
      "cell_type": "markdown",
      "metadata": {
        "id": "NQ4I_YNKkoz9"
      },
      "source": [
        "In this subsection, we introduce the Logistic Regression algorithm. "
      ]
    },
    {
      "cell_type": "code",
      "execution_count": null,
      "metadata": {
        "id": "2YaMUoslG-Fe"
      },
      "outputs": [],
      "source": [
        "class LogisticRegression:\n",
        "    def __init__(self, bias=True, verbose=True):\n",
        "      self.bias = bias \n",
        "      self.verbose = verbose\n",
        "\n",
        "    def logistic():\n",
        "      pass\n",
        "\n",
        "    def cross_entropy_ridge_cost():\n",
        "      pass\n",
        "\n",
        "    def create_mini_batches():\n",
        "      pass\n",
        "\n",
        "    def adam_parameters_update():\n",
        "      pass\n",
        "\n",
        "    def regularized_gradient():\n",
        "      pass\n",
        "\n",
        "    def small_perturbation():\n",
        "      pass\n",
        "      \n",
        "    def fit():\n",
        "      pass\n",
        "    \n",
        "    def predict():\n",
        "      pass\n"
      ]
    },
    {
      "cell_type": "markdown",
      "metadata": {
        "id": "2222tQAyfuIU"
      },
      "source": [
        "First, let us define the logistic function used to calculate the probabilities of the logistic regression model. The function below shows how we compute the outputs.\n",
        "\n",
        "$$\n",
        "\\overrightarrow{\\hat{y}} = \\frac{1}{1 + exp(-(\\overrightarrow{x}⋅\\overrightarrow{w}))}\n",
        "$$"
      ]
    },
    {
      "cell_type": "code",
      "execution_count": null,
      "metadata": {
        "id": "4KHUBdvTf4zC"
      },
      "outputs": [],
      "source": [
        "def logistic(self, X, w):\n",
        "  return  1/ (1 + np.exp(-(np.dot(X, w))))\n",
        "\n",
        "LogisticRegression.logistic = logistic"
      ]
    },
    {
      "cell_type": "markdown",
      "metadata": {
        "id": "Dok4LtXVQ2N5"
      },
      "source": [
        "Define cost function to be the Cross-Entropy cost for Logistic Regression with a ridge regression L2-norm penalty.\n",
        "\n",
        "$$\n",
        "J(\\overrightarrow{w}) = \\displaystyle\\sum_{(n)} y^{(n)}log(\\hat{y}^{(n)}) -  (1-y^{(n)})log(1-\\hat{y}^{(n)}) + \\frac{λ}{2}||\\overrightarrow{w}||_2^2\n",
        "$$"
      ]
    },
    {
      "cell_type": "code",
      "execution_count": null,
      "metadata": {
        "id": "kXC2AfCtQ18k"
      },
      "outputs": [],
      "source": [
        "def cross_entropy_ridge_cost(self, X, y, lambda_):\n",
        "  z = np.dot(X, self.w)\n",
        "  return np.sum(y * np.log1p(np.exp(-z)) + (1-y) * np.log1p(np.exp(z))) + (lambda_/2)*(np.inner(self.w, self.w)) # The L2-norm square is just the inner product of vector w with itself\n",
        "\n",
        "LogisticRegression.cross_entropy_ridge_cost = cross_entropy_ridge_cost"
      ]
    },
    {
      "cell_type": "markdown",
      "metadata": {
        "id": "YEV0yF0wS6nv"
      },
      "source": [
        "Next, define a helper method that creates mini-batches from the input data [10]. In the implementation of the method, we will concatenate the result `y` to each example in `X` such that `y` is at the last index. Then, we will shuffle the numpy array and extract the number of batches such that each mini-batch is of equal size. We assume that `batch_size` is always smaller than the number of samples. "
      ]
    },
    {
      "cell_type": "code",
      "execution_count": null,
      "metadata": {
        "id": "YdnqXqViLS6b"
      },
      "outputs": [],
      "source": [
        "def create_mini_batches(self, X, y, batch_size):\n",
        "\n",
        "  # Append the result to the ent of each training example\n",
        "  X_y_concat = np.column_stack([X, y])\n",
        "\n",
        "  # Shuffle the data \n",
        "  np.random.shuffle(X_y_concat)\n",
        "\n",
        "  # Number of batches with equal size\n",
        "  num_batches = X_y_concat.shape[0]//batch_size\n",
        "\n",
        "  # The output will have less datapoints if batch size is not a multiple of input data size\n",
        "  return np.array_split(X_y_concat[:batch_size*num_batches], num_batches)\n",
        "\n",
        "LogisticRegression.create_mini_batches = create_mini_batches"
      ]
    },
    {
      "cell_type": "markdown",
      "metadata": {
        "id": "lHLW1TMLUUGe"
      },
      "source": [
        "To update the weights of our model, we will be using Adaptive Moment Estimation (Adam) [9]. From module 4.4, the gradient descent formula is:\n",
        "\n",
        "$$\n",
        "\\overrightarrow{w}^{\\{t\\}} = \\overrightarrow{w}^{\\{t-1\\}} - \\frac{α}{ \\sqrt{\\hat{S}^{\\{t\\}} + ϵ}} \\hat{M}^{\\{t\\}}\n",
        "$$\n",
        "Where, \n",
        "$$\n",
        "\\hat{M}^{\\{t\\}} ⟵ \\frac{M^{\\{t\\}}}{1 - β_1^{t}}\n",
        "$$\n",
        "\n",
        "$$\n",
        "\\hat{S}^{\\{t\\}} ⟵ \\frac{S^{\\{t\\}}}{1 - β_2^{t}}\n",
        "$$\n",
        "and \n",
        "$$\n",
        "M^{\\{t\\}} = β_1 M^{\\{t-1\\}} + (1-β_1)\\frac{\\partial J_B(\\overrightarrow{w}^{\\{t-1\\}})}{\\partial \\overrightarrow{w}^{\\{t-1\\}}}\n",
        "$$\n",
        "\n",
        "$$\n",
        "S^{\\{t\\}} = β_2 S^{\\{t-1\\}} + (1-β_2)(\\frac{\\partial J_B(\\overrightarrow{w}^{\\{t-1\\}})}{\\partial \\overrightarrow{w}^{\\{t-1\\}}})^{2}\n",
        "$$\n",
        "\n",
        "We will set $\\beta_1=0.9$ and $\\beta_2=0.999$ [9]. We precise the  parameter $B$ which indicates the weight updates for the corresponding batch. The ϵ parameter is a stabilizer that will be set to $1e-10$ to prevent a division by zero when $\\hat{S}^{\\{t\\}}$ gets very small. Furthermore, we will add an optional regularization parameter λ to the function that will allow us to penalize large weights of the model. \n",
        "\n",
        "We will encode our gradient from the derivation seen in module 4.2 and add the λ hyperparameter seen in module 4.5. The gradient will be the sum of the gradients over the points in the minibatch. Since we are computing with mini-batches, we have our sum over the number of training examples in a batch B. We can write the formula as: \n",
        "\n",
        "$$ \n",
        "\\frac{\\partial J_B(\\overrightarrow{w})}{\\partial \\overrightarrow{w}} =  X_B^T(\\sigma (X_B\\overrightarrow{w}) - \\overrightarrow{y_B}) + λ\\overrightarrow{w}\n",
        "$$"
      ]
    },
    {
      "cell_type": "code",
      "execution_count": null,
      "metadata": {
        "id": "-mXbpzbJ72_X"
      },
      "outputs": [],
      "source": [
        "def adam_parameters_update(self, gradient, m_init, s_init, t):\n",
        "  # Using values from reference for beta1 and beta 2\n",
        "  beta1 = 0.9\n",
        "  beta2 = 0.999\n",
        "\n",
        "  # Update biased first and second moment estimate\n",
        "  m = beta1 * m_init + (1 - beta1)*gradient\n",
        "  s = beta2 * s_init + (1 - beta2)*(gradient)**2\n",
        "\n",
        "  # Update bias-corrected first and second moment estimates\n",
        "  m_hat = m / (1 - beta1**t)\n",
        "  s_hat = s / (1 - beta2**t)\n",
        "\n",
        "  return m, s, m_hat, s_hat\n",
        "\n",
        "LogisticRegression.adam_parameters_update = adam_parameters_update"
      ]
    },
    {
      "cell_type": "code",
      "execution_count": null,
      "metadata": {
        "id": "R_AvAOgSLPXu"
      },
      "outputs": [],
      "source": [
        "def regularized_gradient(self, X, y, lambda_):\n",
        "  y_hat = self.logistic(X, self.w)\n",
        "  gradient = np.dot(X.T, (y_hat - y)) + (lambda_*self.w)\n",
        "  return gradient\n",
        "\n",
        "LogisticRegression.regularized_gradient = regularized_gradient"
      ]
    },
    {
      "cell_type": "markdown",
      "metadata": {
        "id": "01ioeQUXn5b3"
      },
      "source": [
        "We will also implement a function that will verify gradient calculation using small perturbation test using the given procedure below:\n",
        "\n",
        "1. $\\epsilon \\sim Uniform([0,1])$\n",
        "2. $w^{(+)}_d = w_d + \\epsilon$\n",
        "3. $w^{(-)}_d = w_d - \\epsilon$\n",
        "4. $\\nabla w_d = \\frac{J(w^{(+)}_d) - J(w^{(-)}_d)}{2 \\epsilon}$ (numerically estimated gradient)\n",
        "5. $\\frac{(\\frac{\\partial J(w)}{\\partial w}  - \\nabla w_d)^2}{(\\frac{\\partial J(w)}{\\partial w}  + \\nabla w_d)^2}$ (computed gradient)\n",
        "\n",
        "We repeat the above for every ${w_d}$, and sum up all the resulting perturbations. The result should be very small (e.g. $10^{-8}$). Otherwise, either the gradient calculation or the loss functions are wrong."
      ]
    },
    {
      "cell_type": "code",
      "execution_count": null,
      "metadata": {
        "id": "3Ktv5IDXaJtp"
      },
      "outputs": [],
      "source": [
        "# Check what a small perturbation of every single wd does to the gradient\n",
        "# Returns the sum of the perturbations for every wd\n",
        "def small_perturbation(self, X, y, lambda_=0):\n",
        "\n",
        "  # Add bias column if needed\n",
        "  if self.bias:\n",
        "    X = np.column_stack([np.ones(X.shape[0]), X])\n",
        "\n",
        "  # Initialization\n",
        "  diff = np.zeros(self.w.shape) \n",
        "  w = self.w.copy() # To restore later\n",
        "\n",
        "  # Iterate over every wd here\n",
        "  for d in range(self.w.shape[0]):\n",
        "      \n",
        "    # Matrix of all zeros except for epsilon in entry d\n",
        "    epsilon = np.zeros(self.w.shape[0])\n",
        "    epsilon[d] = np.random.rand() * 1e-4\n",
        "\n",
        "    # Disturb wd by epsilon, compute CE with that disturbed wd\n",
        "    self.w = self.w + epsilon\n",
        "    J1 = self.cross_entropy_ridge_cost(X, y, lambda_)\n",
        "\n",
        "    # Revert to the initial w\n",
        "    self.w = w\n",
        "    \n",
        "    # Disturb wd by -epsilon, compute CE with that disturbed wd\n",
        "    self.w = self.w - epsilon\n",
        "    J2 = self.cross_entropy_ridge_cost(X, y, lambda_)\n",
        "    \n",
        "    # Revert to the initial w\n",
        "    self.w = w\n",
        "\n",
        "    # Compute numeric and analytical partial wrt wi,j for the values of w we have   \n",
        "    numeric_grad = (J1 - J2) / (2 * epsilon[d])\n",
        "    derived_grad = self.regularized_gradient(X, y, lambda_)[d]\n",
        "\n",
        "    # Store the square difference between them normalized by the distance\n",
        "    diff[d] = np.square(derived_grad - numeric_grad).sum() / \\\n",
        "                  np.square(derived_grad + numeric_grad).sum()\n",
        "\n",
        "  print(f'Small perturbation test terminates with a difference of {diff.sum()}.')\n",
        "\n",
        "  # Return the sum of every single perturbation\n",
        "  # return diff.sum()\n",
        "\n",
        "LogisticRegression.small_perturbation = small_perturbation"
      ]
    },
    {
      "cell_type": "markdown",
      "metadata": {
        "id": "pO6zlW9vtnKo"
      },
      "source": [
        "The `fit` method combines mini-batches and Adam stochastic gradient descent [11]."
      ]
    },
    {
      "cell_type": "code",
      "execution_count": null,
      "metadata": {
        "id": "O1f0ZpCIFJUg"
      },
      "outputs": [],
      "source": [
        "def fit(self, X_train, y_train, X_valid, y_valid, learning_rate=1e-3, epsilon=1e-4, \n",
        "        max_iter=1e4, batch_size=16, lambda_=0, compute_ce=True):\n",
        "\n",
        "  # Verify the dimension of the input training vector\n",
        "  if X_train.ndim == 1:\n",
        "    X_train = X_train[:, None]\n",
        "\n",
        "  # Add a bias term (w0) as the FIRST entry of the w vector\n",
        "  if self.bias:\n",
        "    X_train = np.column_stack([np.ones(X_train.shape[0]), X_train])\n",
        "    X_valid = np.column_stack([np.ones(X_valid.shape[0]), X_valid])\n",
        "\n",
        "  # Initialize parameters \n",
        "  self.w = np.zeros(X_train.shape[1]) # Initialize the weights to 0\n",
        "  \n",
        "  # Track ce changes\n",
        "  train_ce = [] # Track the cost on the training set \n",
        "  valid_ce = [] # Track the cost on the validation set\n",
        "  \n",
        "  gradient = np.inf # Initialize the gradient to a large number \n",
        "  m_init = np.zeros(self.w.shape[0]) # Set the initial M for weights update\n",
        "  s_init = np.zeros(self.w.shape[0]) # Set the initial S for weights update\n",
        "  t = 0 # Keep track of the iterations\n",
        "  done = False # Stopping condition of the loop\n",
        "\n",
        "  while True:\n",
        "\n",
        "    # Compute the mini batches\n",
        "    mini_batches = self.create_mini_batches(X_train, y_train, batch_size)\n",
        "\n",
        "    for batch in mini_batches:\n",
        "\n",
        "      # Compute the training error\n",
        "      if compute_ce:\n",
        "        train_ce.append(self.cross_entropy_ridge_cost(X_train, y_train, lambda_))\n",
        "        valid_ce.append(self.cross_entropy_ridge_cost(X_valid, y_valid, lambda_))\n",
        "      \n",
        "      # Increment iterations\n",
        "      t += 1\n",
        "\n",
        "      # Stop at the max number of iterations\n",
        "      if t == max_iter:\n",
        "        if self.verbose:\n",
        "          print(f'Training terminated after the max number of iterations {t}')\n",
        "        done = True\n",
        "        break\n",
        "\n",
        "\n",
        "      # The N first elements are features and the last element is the result in the batch\n",
        "      X_batch, y_batch = batch[:, :-1], batch[:, -1]\n",
        "\n",
        "      # Compute the regularized gradient at iteration t\n",
        "      gradient = self.regularized_gradient(X_batch, y_batch, lambda_)\n",
        "      \n",
        "      # Compute the parameters of the ADAM method\n",
        "      m, s, m_hat, s_hat = self.adam_parameters_update(gradient, m_init, s_init, t)\n",
        "\n",
        "      # Update the weights using Adam weight update\n",
        "      prev_w = self.w\n",
        "      self.w = self.w - learning_rate * m_hat / np.sqrt(s_hat + 1e-10)\n",
        "\n",
        "      # Update m_int, s_init for next iteration\n",
        "      m_init, s_init = m, s\n",
        "\n",
        "      # Verify the stopping condition when the change in w is very small\n",
        "      if np.linalg.norm(prev_w - self.w) < epsilon:\n",
        "        if self.verbose:\n",
        "          print(f'Training terminated after {t} iteration(s) due to the change in weights smaller than the epsilon of {epsilon}.')\n",
        "        done = True\n",
        "        break\n",
        "\n",
        "    if done: \n",
        "      break\n",
        "\n",
        "  return self, train_ce, valid_ce, t\n",
        "\n",
        "LogisticRegression.fit = fit"
      ]
    },
    {
      "cell_type": "code",
      "execution_count": null,
      "metadata": {
        "id": "WHP2sAksyac_"
      },
      "outputs": [],
      "source": [
        "def predict(self, X):\n",
        "  \n",
        "  # Verify the dimension of the input vector\n",
        "  if X.ndim == 1:\n",
        "    X = X[:, None]\n",
        "\n",
        "  # Add a bias term only if we want to add it\n",
        "  if self.bias:\n",
        "    X = np.column_stack([np.ones(X.shape[0]), X])\n",
        "\n",
        "  return self.logistic(X, self.w)\n",
        "\n",
        "LogisticRegression.predict = predict"
      ]
    },
    {
      "cell_type": "markdown",
      "metadata": {
        "id": "bKahFPaeHLh1"
      },
      "source": [
        "## 2.2 Multiclass Regression"
      ]
    },
    {
      "cell_type": "markdown",
      "metadata": {
        "id": "8pgzSCTIAKZP"
      },
      "source": [
        "In this subsection, we introduce the Multiclass Regression algorithm. Because Logistic Regression is a special case of Multiclass Regression, the implementation of the two algorithms is very similar. "
      ]
    },
    {
      "cell_type": "code",
      "execution_count": null,
      "metadata": {
        "id": "CG_TqMUOHOLt"
      },
      "outputs": [],
      "source": [
        "class Multinomial_logistic:\n",
        "\n",
        "  def __init__(self, bias=True, verbose=True):\n",
        "    self.bias = bias\n",
        "    self.verbose = verbose\n",
        "    \n",
        "  def predict():\n",
        "    pass\n",
        "\n",
        "  def fit():\n",
        "    pass\n",
        "\n",
        "  def softmax():\n",
        "    pass\n",
        "\n",
        "  def cross_entropy_ridge_cost():\n",
        "    pass\n",
        "\n",
        "  def create_mini_batches():\n",
        "    pass\n",
        "\n",
        "  def adam_parameters_update():\n",
        "    pass\n",
        "\n",
        "  def regularized_gradient():\n",
        "    pass\n",
        "\n",
        "  def small_perturbation():\n",
        "    pass\n"
      ]
    },
    {
      "cell_type": "markdown",
      "metadata": {
        "id": "UGMUUYO7AqnR"
      },
      "source": [
        "First, let us define the softmax activation function used to calculate class probabilities for $n$th input in the Multiclass Regression model.\n",
        "\n",
        "$$\n",
        "\\overrightarrow{\\hat{y}_{n, c}} = \\frac{exp(\\overrightarrow{y_{n, c}})}{\\displaystyle\\sum_{C}{exp(\\overrightarrow{y_{n, c}})}}\n",
        "$$\n",
        "\n",
        "Where $\\overrightarrow{y_{n, c}}$ is a linear combination of the features of $\\overrightarrow{x_{n}}$ with the class weights $\\overrightarrow{w_{d, c}}$ corresponding to those features, expressed as a dot product of the two vectors:\n",
        "\n",
        "$$\n",
        "{\\overrightarrow{y_{n,c}}} = \\overrightarrow{x_{n}}⋅\\overrightarrow{w_{d, c}}\n",
        "$$\n",
        "\n",
        "To compute the softmax activation function for all inputs at once, we will use matrix notation $Y_{N \\times C} = X_{N \\times D} W_{D \\times C}$. Here, $N$ is the number of inputs, $D$ is the number of features and $C$ is the number of classes. \n",
        "\n"
      ]
    },
    {
      "cell_type": "code",
      "execution_count": null,
      "metadata": {
        "id": "4pCuCxl6D1ou"
      },
      "outputs": [],
      "source": [
        "def softmax (self, X, W):\n",
        "  Y_pred = np.exp(np.matmul(X, W))\n",
        "  return Y_pred / Y_pred.sum(axis=1).reshape(X.shape[0], 1)\n",
        "\n",
        "Multinomial_logistic.softmax = softmax"
      ]
    },
    {
      "cell_type": "markdown",
      "metadata": {
        "id": "WoV9k3O8FTAJ"
      },
      "source": [
        "The Cross-Entropy cost with L2-regularization for Multiclass Regression is a general case of Logistic Regression: \n",
        "\n",
        "$$\n",
        "J(W) = -\\displaystyle \\sum_{C} \\overrightarrow{y_{c}} log(\\overrightarrow{\\hat{y}}_{c}) + \\frac{λ}{2} \\sum_{d, c} w_{d,c}^2\\\n",
        "$$\n",
        "\n",
        "Note that class weights $W$ are now a matrix because we have multiple classes. Thus, for regularization, we now take the sum of the multiplication of each entry $w_{d,c}$ with itself since norm squared doesn't make sense for a matrix [12]."
      ]
    },
    {
      "cell_type": "code",
      "execution_count": null,
      "metadata": {
        "id": "B6hYXZEaINZ0"
      },
      "outputs": [],
      "source": [
        "def cross_entropy_ridge_cost(self, X, Y, lambda_, training=False):\n",
        "  Y_hat = self.predict(X, training=training)\n",
        "  return -np.sum(Y * np.log(Y_hat)) + (lambda_/2)*np.sum(self.W*self.W)# The L2-norm square is just the sum of the product of matrix W with itself\n",
        "\n",
        "Multinomial_logistic.cross_entropy_ridge_cost = cross_entropy_ridge_cost"
      ]
    },
    {
      "cell_type": "markdown",
      "metadata": {
        "id": "FwPuZefYqg9R"
      },
      "source": [
        "Next, as for logistic regression, we define a helper method that creates mini-batches from the input data [9]. In the implementation of the method, we will concatenate the result `Y` to each example in `X` such that `Y` starts at the last index of `X`. Then, we will shuffle the numpy array and extract the number of batches such that each mini-batch is of equal size. We assume that `batch_size` is always smaller than the number of samples. "
      ]
    },
    {
      "cell_type": "code",
      "execution_count": null,
      "metadata": {
        "id": "yV0DEwarqpoT"
      },
      "outputs": [],
      "source": [
        "def create_mini_batches(self, X, y, batch_size):\n",
        "\n",
        "  # Append the result to the end of each training example\n",
        "  X_y_concat = np.column_stack([X, y])\n",
        "\n",
        "  # Shuffle the data \n",
        "  np.random.shuffle(X_y_concat)\n",
        "\n",
        "  # Number of batches with equal size\n",
        "  num_batches = X_y_concat.shape[0]//batch_size\n",
        "\n",
        "  # The output will have less datapoints if batch size is not a multiple of input data size\n",
        "  return np.array_split(X_y_concat[:batch_size*num_batches], num_batches)\n",
        "\n",
        "Multinomial_logistic.create_mini_batches = create_mini_batches"
      ]
    },
    {
      "cell_type": "markdown",
      "metadata": {
        "id": "b95ibpzorEz0"
      },
      "source": [
        "As for Logistic Regression, we will also update the weights of our model using Adaptive Moment Estimation (Adam), setting $\\beta_1=0.9$ and $\\beta_2=0.999$. [9] The updates change only slightly since now we have matrix weights $W$ isntead of vector weights $\\overrightarrow{w}$.\n",
        "\n",
        "$$\n",
        "W^{\\{t\\}} = W^{\\{t-1\\}} - \\frac{α}{ \\sqrt{\\hat{S}^{\\{t\\}} + ϵ}} \\hat{M}^{\\{t\\}}\n",
        "$$\n",
        "Where, \n",
        "$$\n",
        "\\hat{M}^{\\{t\\}} ⟵ \\frac{M^{\\{t\\}}}{1 - β_1^{t}}\n",
        "$$\n",
        "\n",
        "$$\n",
        "\\hat{S}^{\\{t\\}} ⟵ \\frac{S^{\\{t\\}}}{1 - β_2^{t}}\n",
        "$$\n",
        "and \n",
        "$$\n",
        "M^{\\{t\\}} = β_1 M^{\\{t-1\\}} + (1-β_1)\\frac{\\partial J_B(W^{\\{t-1\\}})}{\\partial W^{\\{t-1\\}}}\n",
        "$$\n",
        "\n",
        "$$\n",
        "S^{\\{t\\}} = β_2 S^{\\{t-1\\}} + (1-β_2)(\\frac{\\partial J_B(W^{\\{t-1\\}})}{\\partial W^{\\{t-1\\}}})^{2}\n",
        "$$\n",
        "\n",
        "Again, ϵ parameter is a stabilizer that will be set to $1e-10$ to prevent a division by zero when $\\hat{S}^{\\{t\\}}$ gets very small. The regularization parameter λ remains optional.\n",
        "\n",
        "The gradient is the sum of the gradients over the points in the minibatch and is now a matrix of shape $D \\times C$. Since we are computing with mini-batches, we have our sum over the number of training examples in a batch $B$. We can write the formula as: \n",
        "\n",
        "$$ \n",
        "\\frac{\\partial J_B(W)}{\\partial W} =  X_B^T(\\sigma (X_BW) - {Y_B}) + λW\n",
        "$$"
      ]
    },
    {
      "cell_type": "code",
      "execution_count": null,
      "metadata": {
        "id": "vmmaFv9TtCN7"
      },
      "outputs": [],
      "source": [
        "def adam_parameters_update(self, gradient, m_init, s_init, t):\n",
        "  # Using values from reference for beta1 and beta 2\n",
        "  beta1 = 0.9\n",
        "  beta2 = 0.999\n",
        "\n",
        "  # Update biased first and second moment estimate\n",
        "  m = beta1 * m_init + (1 - beta1)*gradient\n",
        "  s = beta2 * s_init + (1 - beta2)*(gradient)**2\n",
        "\n",
        "  # Update bias-corrected first and second moment estimates\n",
        "  m_hat = m / (1 - beta1**t)\n",
        "  s_hat = s / (1 - beta2**t)\n",
        "\n",
        "  return m, s, m_hat, s_hat\n",
        "\n",
        "Multinomial_logistic.adam_parameters_update = adam_parameters_update"
      ]
    },
    {
      "cell_type": "code",
      "execution_count": null,
      "metadata": {
        "id": "EMCZ_joTtDOt"
      },
      "outputs": [],
      "source": [
        "def regularized_gradient(self, X, Y, lambda_):\n",
        "  Y_hat = self.softmax(X, self.W)\n",
        "  gradient = np.dot(X.T, (Y_hat - Y)) + (lambda_*self.W)\n",
        "  return gradient\n",
        "\n",
        "Multinomial_logistic.regularized_gradient = regularized_gradient"
      ]
    },
    {
      "cell_type": "markdown",
      "metadata": {
        "id": "1ovP_sSvBwkP"
      },
      "source": [
        "We will also implement a function that verifies the gradient calculation using small perturbation test, similarly to the one described in the logistic regression. The only difference between the two calculations is that instead of having vector weights, we have matrix weights. Thus, to compute small perturbation on a single weight $w_d$, we will iterate over the rows and the columns of the weights matrix and sum the result. "
      ]
    },
    {
      "cell_type": "code",
      "execution_count": null,
      "metadata": {
        "id": "zwZhOWr_Bvjg"
      },
      "outputs": [],
      "source": [
        "# Verifies gradient using small perturbation method\n",
        "def small_perturbation(self, X, Y, lambda_=0):\n",
        "\n",
        "  # Verify the dimension of the input training vector\n",
        "  if X.ndim == 1:\n",
        "    X = X[:, None]\n",
        "    \n",
        "  # Add a bias term only if we want to add it\n",
        "  if self.bias:\n",
        "    X = np.column_stack([np.ones(X.shape[0]), X])\n",
        "\n",
        "  diff = np.zeros(self.W.shape)\n",
        "  W = self.W.copy()\n",
        "\n",
        "  for i in range(self.W.shape[0]):\n",
        "    for j in range(self.W.shape[1]):\n",
        "      epsilon = np.zeros(self.W.shape)\n",
        "      epsilon[i, j] = np.random.rand() * 1e-5 # Add noise to a single weight\n",
        "\n",
        "      self.W = self.W + epsilon \n",
        "      J1 = self.cross_entropy_ridge_cost(X, Y, lambda_, training=True) # Compute J1 with perturbation on a single weight\n",
        "      self.W = W # Restore original W\n",
        "\n",
        "      self.W = self.W - epsilon\n",
        "      J2 = self.cross_entropy_ridge_cost(X, Y, lambda_, training=True) # Compute J2 with perturbation on a single weight\n",
        "      self.W = W # Restore original W\n",
        "\n",
        "      numeric_grad = (J1 - J2) / (2 * epsilon[i, j])\n",
        "      derived_grad = (self.regularized_gradient(X, Y, lambda_))[i, j]\n",
        "\n",
        "      diff[i, j] = np.square(derived_grad - numeric_grad).sum() / np.square(derived_grad + numeric_grad).sum()\n",
        "\n",
        "  print(f'Small perturbation test terminates with a difference of {diff.sum()}.')\n",
        "\n",
        "  # return diff.sum()\n",
        "\n",
        "Multinomial_logistic.small_perturbation = small_perturbation"
      ]
    },
    {
      "cell_type": "markdown",
      "metadata": {
        "id": "oDMOP24IuucW"
      },
      "source": [
        "The `fit` method combines mini-batches and Adam stochastic gradient descent [11]."
      ]
    },
    {
      "cell_type": "code",
      "execution_count": null,
      "metadata": {
        "id": "Xds-2pWSu3H2"
      },
      "outputs": [],
      "source": [
        "def fit(self, X_train, Y_train, X_valid, Y_valid, learning_rate=1e-3, epsilon=1e-4, \n",
        "        max_iter=1e4, batch_size=16, lambda_=0, compute_ce=True):\n",
        "\n",
        "  # Verify the dimension of the input training vector\n",
        "  if X_train.ndim == 1:\n",
        "    X_train = X_train[:, None]\n",
        "\n",
        "  # Add a bias term (w0) as the FIRST entry of the w vector\n",
        "  if self.bias:\n",
        "    X_train = np.column_stack([np.ones(X_train.shape[0]), X_train])\n",
        "    X_valid = np.column_stack([np.ones(X_valid.shape[0]), X_valid])\n",
        "\n",
        "  # Initialize parameters \n",
        "  self.W = np.random.rand(X_train.shape[1], Y_train.shape[1]) # Initialize random weights as a DxC matrix\n",
        "  train_ce = [] # Track the cost on the training set \n",
        "  valid_ce = [] # Track the cost on the validation set\n",
        "  gradient = np.inf # Initialize the gradient to a large number \n",
        "  m_init = np.zeros(self.W.shape) # Set the initial M for weights update\n",
        "  s_init = np.zeros(self.W.shape) # Set the initial S for weights update\n",
        "  t = 0 # Keep track of the iterations\n",
        "  done = False # Stopping condition of the loop\n",
        "\n",
        "  while True:\n",
        "\n",
        "    # Compute the mini batches\n",
        "    mini_batches = self.create_mini_batches(X_train, Y_train, batch_size)\n",
        "\n",
        "    for batch in mini_batches:\n",
        "      \n",
        "      # Compute the training error\n",
        "      if compute_ce:\n",
        "        train_ce.append(self.cross_entropy_ridge_cost(X_train, Y_train, lambda_, training=True))\n",
        "        valid_ce.append(self.cross_entropy_ridge_cost(X_valid, Y_valid, lambda_, training=True))\n",
        "\n",
        "      # The N first elements are features and the last C elements are the result in the batch\n",
        "      X_batch, Y_batch = batch[:, :X_train.shape[1]], batch[:, X_train.shape[1]:]\n",
        "      \n",
        "      # Increment iterations\n",
        "      t += 1\n",
        "\n",
        "      # Stop at the max number of iterations\n",
        "      if t == max_iter:\n",
        "        if self.verbose:\n",
        "          print(f'Training terminated after the max number of iterations {t}')\n",
        "        done = True\n",
        "        break\n",
        "\n",
        "      # Compute the regularized gradient at iteration t\n",
        "      gradient = self.regularized_gradient(X_batch, Y_batch, lambda_)\n",
        "      \n",
        "      # Compute the parameters of the ADAM method\n",
        "      m, s, m_hat, s_hat = self.adam_parameters_update(gradient, m_init, s_init, t)\n",
        "\n",
        "      # Update the weights using Adam weight update\n",
        "      prev_W = self.W\n",
        "      self.W = self.W - learning_rate * m_hat / np.sqrt(s_hat + 1e-10)\n",
        "\n",
        "      # Update m_int, s_init for next iteration\n",
        "      m_init, s_init = m, s\n",
        "\n",
        "      # Verify the stopping condition when the change in w is very small\n",
        "      if np.linalg.norm(prev_W - self.W) < epsilon:\n",
        "        if self.verbose:\n",
        "          print(f'Training terminated after {t} iteration(s) due to the change in weights smaller than the epsilon of {epsilon}.')\n",
        "        done = True\n",
        "        break\n",
        "\n",
        "    if done: \n",
        "      break\n",
        "\n",
        "  return self, train_ce, valid_ce, t\n",
        "\n",
        "Multinomial_logistic.fit = fit"
      ]
    },
    {
      "cell_type": "code",
      "execution_count": null,
      "metadata": {
        "id": "mHk6zzZw_s7y"
      },
      "outputs": [],
      "source": [
        "def predict(self, X, training=False): \n",
        "  # Verify the dimension of the input vector\n",
        "  if X.ndim == 1:\n",
        "    X = X[:, None]\n",
        "\n",
        "  # Add a bias term only if we want to add it\n",
        "  if self.bias and not training:\n",
        "    X = np.column_stack([np.ones(X.shape[0]), X])\n",
        "\n",
        "  return self.softmax(X, self.W)\n",
        "\n",
        "Multinomial_logistic.predict = predict"
      ]
    },
    {
      "cell_type": "markdown",
      "metadata": {
        "id": "JmiV0Mf9HRX_"
      },
      "source": [
        "# Task 3: Hyperparameter tuning & Testing accuracy"
      ]
    },
    {
      "cell_type": "markdown",
      "metadata": {
        "id": "UiFqFTgqXj_F"
      },
      "source": [
        "In this section, we proceed by fine-tuning the hyperparameters of our model using cross-validation. First, we will create two utility functions `accuracy_binary` and `accuracy_multiclass` to evaluate the performance of each model. Then, we will perform hyperparameter tuning for (learning rate/epsilon/max_iter/batch size/lambda). Finally, we will compare our Logistic and Multiclass regression models with fine-tuned KNN classifier. "
      ]
    },
    {
      "cell_type": "code",
      "execution_count": null,
      "metadata": {
        "id": "kGEk22zpah2o"
      },
      "outputs": [],
      "source": [
        "# Accuracy function for logistic regression\n",
        "def accuracy_binary(y, y_prob):\n",
        "  y_prob = (y_prob > 0.5).astype(int)\n",
        "  return sum(y_prob==y)/len(y)\n",
        "\n",
        "# Accuracy function for multiclass regression\n",
        "def accuracy_multiclass(y, y_prob):\n",
        "  correct = 0\n",
        "  total = 0\n",
        "\n",
        "  for i in range(len(y)):\n",
        "    act_label = np.argmax(y[i]) # act_label = 1 (index)\n",
        "    pred_label = np.argmax(y_prob[i]) # pred_label = 1 (index)\n",
        "\n",
        "    if(act_label == pred_label):\n",
        "        correct += 1\n",
        "\n",
        "    total += 1\n",
        "  \n",
        "  return correct / total  "
      ]
    },
    {
      "cell_type": "markdown",
      "metadata": {
        "id": "Hw3eTOpQuifs"
      },
      "source": [
        "### 3.1 Logistic regression on the IMDB dataset"
      ]
    },
    {
      "cell_type": "markdown",
      "metadata": {
        "id": "muCjrT9RzIwt"
      },
      "source": [
        "Here follows our hyperparameter tuning for the logistic regression model on the IMdB dataset. In order to save some training time (since we have 5 hyperparameters), we decided to fix $α = \\frac{0.5}{batch size}$, $λ = 0.05$ and $ϵ = 5.10^{-4}$. The reason why alpha becomes smaller with the training set size is because we are using cross entropy as the cost function, which will be scaled up the bigger the batch size is. Consequently, as seen in the lectures, to allow minibatch gradient descent to be as fast as intended, the effect of each gradient needs to be scaled up for smaller batch sizes."
      ]
    },
    {
      "cell_type": "code",
      "execution_count": null,
      "metadata": {
        "colab": {
          "base_uri": "https://localhost:8080/"
        },
        "id": "LCIVgSwJzlYS",
        "outputId": "52b9b3d3-8041-45f8-e6bd-3ff69d369097"
      },
      "outputs": [
        {
          "output_type": "stream",
          "name": "stdout",
          "text": [
            "Training terminated after the max number of iterations 3000\n",
            "For alpha = 0.005, max_iter = 3000, batch_size = 100, lambda = 0.05, epsilon = 0.003\n",
            "We got a validation accuracy of 86.9%, a testing accuracy of 86.7%, and a training accuracy of 87.5%\n",
            "\n"
          ]
        }
      ],
      "source": [
        "# Hyperparameter choices\n",
        "alpha_numerator = 5e-1\n",
        "epsilon = 3e-3\n",
        "lambda_ = 0.05\n",
        "maxiter_values = [2000, 3000]\n",
        "batchsize_values = [10, 100]\n",
        "\n",
        "\n",
        "# To store the results of each combination of hyperparameters\n",
        "valid_accs = np.zeros((len(maxiter_values), \n",
        "                       len(batchsize_values)))\n",
        "\n",
        "# Iterate over the hyperparameters\n",
        "for i, max_iter in enumerate(maxiter_values):\n",
        "  for j, batch_size in enumerate(batchsize_values):\n",
        "    \n",
        "    alpha = alpha_numerator / batch_size # Compute alpha\n",
        "      \n",
        "    # Create and train model\n",
        "    model, _, _, _ = LogisticRegression(verbose=False).fit(X_train_imdb, \n",
        "                                                            y_train_imdb, \n",
        "                                                            X_validate_imdb, \n",
        "                                                            y_validate_imdb, \n",
        "                                                            learning_rate=alpha, \n",
        "                                                            epsilon=epsilon, \n",
        "                                                            max_iter=max_iter, \n",
        "                                                            batch_size=batch_size, \n",
        "                                                            lambda_=lambda_,\n",
        "                                                            compute_ce=False)\n",
        "\n",
        "    # Extract validation accuracies\n",
        "    valid_accs[i][j] = accuracy_binary(y_validate_imdb, model.predict(X_validate_imdb))\n",
        "\n",
        "# Extract the best depth and the best minimum number of leaf nodes\n",
        "best_maxiter_index, best_batchsize_index = np.unravel_index(valid_accs.argmax(), valid_accs.shape)\n",
        "best_maxiter = maxiter_values[best_maxiter_index]\n",
        "best_batchsize = batchsize_values[best_batchsize_index]\n",
        "best_alpha = alpha_numerator / best_batchsize\n",
        "\n",
        "# Create a model with it\n",
        "best_model_logistic, train_ce_logistic, valid_ce_logistic, t = LogisticRegression().fit(X_train_imdb, \n",
        "                                                                              y_train_imdb, \n",
        "                                                                              X_validate_imdb, \n",
        "                                                                              y_validate_imdb, \n",
        "                                                                              learning_rate=best_alpha, \n",
        "                                                                              epsilon=epsilon, \n",
        "                                                                              max_iter=best_maxiter, \n",
        "                                                                              batch_size=best_batchsize, \n",
        "                                                                              lambda_=lambda_)\n",
        "\n",
        "# Use that model to predict on the testing set\n",
        "best_validation_acc = valid_accs[best_maxiter_index][best_batchsize_index]\n",
        "training_acc = accuracy_binary(y_train_imdb, best_model_logistic.predict(X_train_imdb))\n",
        "testing_acc = accuracy_binary(y_test_imdb, best_model_logistic.predict(X_test_imdb))\n",
        "\n",
        "\n",
        "# Print the testing accuracy\n",
        "print(f\"For alpha = {best_alpha}, max_iter = {best_maxiter}, batch_size = {best_batchsize}, lambda = {lambda_}, epsilon = {epsilon}\")\n",
        "print(f\"We got a validation accuracy of {'{:.1f}'.format(best_validation_acc* 100)}%, a testing accuracy of {'{:.1f}'.format(testing_acc*100)}%, and a training accuracy of {'{:.1f}'.format(training_acc* 100)}%\\n\") "
      ]
    },
    {
      "cell_type": "markdown",
      "metadata": {
        "id": "604pZ1KSpi9F"
      },
      "source": [
        "As shown above, we get the following optimal hyperparameters:\n",
        "- α = 0.005\n",
        "- max_iter = 3000\n",
        "- batch_size = 100\n",
        "- λ = 0.05\n",
        "- ϵ = 0.003\n",
        "\n",
        "The corresponding validation, testing, and training accuracies are `86.9%`, `86.7%`, and `87.5%` respectively."
      ]
    },
    {
      "cell_type": "markdown",
      "metadata": {
        "id": "2mFPN9b-wXD1"
      },
      "source": [
        "### 3.2 Multiclass regression on the 20-news-groups dataset"
      ]
    },
    {
      "cell_type": "markdown",
      "metadata": {
        "id": "f3a7MoSGwBu-"
      },
      "source": [
        "Again, we fixed $α = \\frac{0.5}{batch size}$, $λ = 0.05$ and $ϵ = 5.10^{-4}$. The results of the hyperparameter tuning can be seen below."
      ]
    },
    {
      "cell_type": "code",
      "execution_count": null,
      "metadata": {
        "colab": {
          "base_uri": "https://localhost:8080/"
        },
        "id": "X2DMrJ7TJxjk",
        "outputId": "b674d045-86ab-425c-f98d-e0e1a6627b3b"
      },
      "outputs": [
        {
          "output_type": "stream",
          "name": "stdout",
          "text": [
            "Training terminated after the max number of iterations 2000\n",
            "For alpha = 0.005, max_iter = 2000, batch_size = 100, lambda = 0.05, epsilon = 0.003\n",
            "We got a validation accuracy of 84.9%, a testing accuracy of 82.0%, and a training accuracy of 88.9%\n",
            "\n"
          ]
        }
      ],
      "source": [
        "# Hyperparameter choices\n",
        "alpha_numerator = 5e-1\n",
        "epsilon = 3e-3\n",
        "lambda_ = 0.05\n",
        "maxiter_values = [2000, 3000]\n",
        "batchsize_values = [10, 100]\n",
        "\n",
        "\n",
        "# To store the results of each combination of hyperparameters\n",
        "valid_accs = np.zeros((len(maxiter_values), \n",
        "                       len(batchsize_values)))\n",
        "\n",
        "# Iterate over the hyperparameters\n",
        "for i, max_iter in enumerate(maxiter_values):\n",
        "  for j, batch_size in enumerate(batchsize_values):\n",
        "    \n",
        "    alpha = alpha_numerator / batch_size # Compute alpha\n",
        "      \n",
        "    # Create and train model\n",
        "    model, _, _, _ = Multinomial_logistic(verbose = False).fit(X_train_twenty, \n",
        "                                                            y_train_twenty, \n",
        "                                                            X_validate_twenty, \n",
        "                                                            y_validate_twenty, \n",
        "                                                            learning_rate=alpha, \n",
        "                                                            epsilon=epsilon, \n",
        "                                                            max_iter=max_iter, \n",
        "                                                            batch_size=batch_size, \n",
        "                                                            lambda_=lambda_,\n",
        "                                                            compute_ce = False)\n",
        "\n",
        "    # Extract validation accuracies\n",
        "    valid_accs[i][j] = accuracy_multiclass(y_validate_twenty, model.predict(X_validate_twenty))\n",
        "\n",
        "# Extract the best depth and the best minimum number of leaf nodes\n",
        "best_maxiter_index, best_batchsize_index = np.unravel_index(valid_accs.argmax(), valid_accs.shape)\n",
        "best_maxiter = maxiter_values[best_maxiter_index]\n",
        "best_batchsize = batchsize_values[best_batchsize_index]\n",
        "best_alpha = alpha_numerator / best_batchsize\n",
        "\n",
        "# Create a model with it\n",
        "best_model_multiclass, train_ce_multiclass, valid_ce_multiclass, t = Multinomial_logistic().fit(X_train_twenty, \n",
        "                                                                                    y_train_twenty, \n",
        "                                                                                    X_validate_twenty, \n",
        "                                                                                    y_validate_twenty, \n",
        "                                                                                    learning_rate=best_alpha, \n",
        "                                                                                    epsilon=epsilon, \n",
        "                                                                                    max_iter=best_maxiter, \n",
        "                                                                                    batch_size=best_batchsize, \n",
        "                                                                                    lambda_=lambda_)\n",
        "\n",
        "# Use that model to predict on the testing set\n",
        "best_validation_acc = valid_accs[best_maxiter_index][best_batchsize_index]\n",
        "training_acc = accuracy_multiclass(y_train_twenty, best_model_multiclass.predict(X_train_twenty))\n",
        "testing_acc = accuracy_multiclass(y_test_twenty, best_model_multiclass.predict(X_test_twenty))\n",
        "\n",
        "\n",
        "# Print the testing accuracy\n",
        "print(f\"For alpha = {best_alpha}, max_iter = {best_maxiter}, batch_size = {best_batchsize}, lambda = {lambda_}, epsilon = {epsilon}\")\n",
        "print(f\"We got a validation accuracy of {'{:.1f}'.format(best_validation_acc* 100)}%, a testing accuracy of {'{:.1f}'.format(testing_acc*100)}%, and a training accuracy of {'{:.1f}'.format(training_acc* 100)}%\\n\") "
      ]
    },
    {
      "cell_type": "markdown",
      "metadata": {
        "id": "Fc9RYLcL3-mv"
      },
      "source": [
        "As shown above, we get the following optimal hyperparameters:\n",
        "- α = 0.005\n",
        "- max_iter = 2000\n",
        "- batch_size = 100\n",
        "- λ = 0.05\n",
        "- ϵ = 0.003\n",
        "\n",
        "The corresponding validation, testing, and training accuracies are `84.9%`, `82.0%`, and `88.9%` respectively."
      ]
    },
    {
      "cell_type": "markdown",
      "metadata": {
        "id": "C5foTJvlSKjx"
      },
      "source": [
        "### 3.3 Sklearn's KNN on the IMDB dataset"
      ]
    },
    {
      "cell_type": "markdown",
      "metadata": {
        "id": "higcdS_HSKjy"
      },
      "source": [
        "In this section, we will train a K-Nearest-Neighbours classifier from sklearn on the training IMdB dataset to compare the accuracy of our Logistic Regression model. Sklearn provides us with a `GridSearchCV` tool that is used to fine-tune the hyperparameters of its machine learning models by performing cross-valdiation on the training data. Because it will automatically split our data into validation and training sets, we will combine our IMdB training and validating sets to input into `GridSearchCV`. Moreover, this tool can verify if the KNN performs better with uniform or weighted distance function. Thus, we will also compare if the weighted KNN performs better on our data or not."
      ]
    },
    {
      "cell_type": "code",
      "execution_count": null,
      "metadata": {
        "id": "CJpZbc-ViVTe"
      },
      "outputs": [],
      "source": [
        "# Combine validation and training data for hyperparameter tuning\n",
        "knn_X_train_imdb = np.concatenate((X_train_imdb, X_validate_imdb))\n",
        "knn_y_train_imdb = np.concatenate((y_train_imdb, y_validate_imdb))"
      ]
    },
    {
      "cell_type": "markdown",
      "metadata": {
        "id": "83LGoo0QT8bc"
      },
      "source": [
        "We will now perform hyperparameter tuning on a KNN classifier by trying k between 1 and 30, as well as uniform and weighted distance functions."
      ]
    },
    {
      "cell_type": "markdown",
      "source": [
        "Note that we will comment this cell out because it takes ~ 15 minutes to train, and just use its results from running it after."
      ],
      "metadata": {
        "id": "duGPtKSXoyBA"
      }
    },
    {
      "cell_type": "code",
      "execution_count": null,
      "metadata": {
        "id": "BkhjvkX3gcz5"
      },
      "outputs": [],
      "source": [
        "# # Specify the parameters to test \n",
        "# parameters = {'n_neighbors': range(1, 30),'weights': ['uniform', 'distance']}\n",
        "\n",
        "# # Instanciate GridSearchCV with KNN model and testing hyperparameters\n",
        "# gridsearch_imdb = GridSearchCV(KNeighborsClassifier(), parameters)\n",
        "\n",
        "# # Fine-tune it on IMdB training data\n",
        "# gridsearch_imdb.fit(knn_X_train_imdb, knn_y_train_imdb)\n",
        "\n",
        "# # See the hyperparameters\n",
        "# gridsearch_imdb.best_params_,"
      ]
    },
    {
      "cell_type": "code",
      "source": [
        "# print('The best mean cross validated fit of the KNN binary classifier is {:.1f}%.'.format(gridsearch_imdb.best_score_*100))"
      ],
      "metadata": {
        "id": "dLle9UUvz6Qc"
      },
      "execution_count": null,
      "outputs": []
    },
    {
      "cell_type": "markdown",
      "metadata": {
        "id": "kmeJ5sJgXyXG"
      },
      "source": [
        "The resulting best hyperparameters for the KNN model for binary classification are 22 nearest neighbors and the uniform distance function."
      ]
    },
    {
      "cell_type": "markdown",
      "metadata": {
        "id": "0Ff6M3QpNR0X"
      },
      "source": [
        "We will start by instanciating the KNN classifier with the specified hyperparameters and train it on the combined validating and training data. Then, we will proceed by computing the training and testing accuracy. "
      ]
    },
    {
      "cell_type": "code",
      "execution_count": null,
      "metadata": {
        "colab": {
          "base_uri": "https://localhost:8080/"
        },
        "id": "XnSKDTYOgcz8",
        "outputId": "2bb9dea5-2be2-4543-e6c0-6675c4a9ad94"
      },
      "outputs": [
        {
          "output_type": "stream",
          "name": "stdout",
          "text": [
            "The training accuracy of KNN on IMdB data is 75.3%.\n",
            "The testing accuracy of KNN on IMdB data is 71.1%.\n"
          ]
        }
      ],
      "source": [
        "# Instanciate KNN for binary classification\n",
        "knn_imdb = KNeighborsClassifier(n_neighbors=22, weights='uniform')\n",
        "knn_imdb_fit = knn_imdb.fit(knn_X_train_imdb, knn_y_train_imdb)\n",
        "\n",
        "# Compute the hard training predictions\n",
        "knn_imdb_train_pred = knn_imdb_fit.predict(knn_X_train_imdb)\n",
        "\n",
        "# Compute the hard testing predictions\n",
        "knn_imdb_test_pred = knn_imdb_fit.predict(X_test_imdb)\n",
        "\n",
        "# Compute accuracies\n",
        "print(f'The training accuracy of KNN on IMdB data is {round(accuracy_score(knn_y_train_imdb, knn_imdb_train_pred), 3) * 100}%.')\n",
        "print(f'The testing accuracy of KNN on IMdB data is {round(accuracy_score(y_test_imdb, knn_imdb_test_pred), 3) * 100}%.')"
      ]
    },
    {
      "cell_type": "markdown",
      "metadata": {
        "id": "vTZxH8sxeVAt"
      },
      "source": [
        "The training and testing accuracies of the KNN binary classifier on the IMdB data are `75.3%` and `71.1%` respectively. The complete comparison between the logistic and binary KNN classifiers will be done in section 4.5. "
      ]
    },
    {
      "cell_type": "markdown",
      "metadata": {
        "id": "_YQvAR4RvSQX"
      },
      "source": [
        "### 3.4 Sklearn's KNN on the 20-news-groups dataset"
      ]
    },
    {
      "cell_type": "markdown",
      "metadata": {
        "id": "s9N1GQL-f5do"
      },
      "source": [
        "In the same fashion, we will compare the KNN multi-label classifier with our multiclass regression model. Since we will also use the `GridSearchCV` tool to perform hyperparameter tuning, we will combine 20 news groups training and validating data because it will automatically split the data while performing k-fold validation. "
      ]
    },
    {
      "cell_type": "code",
      "execution_count": null,
      "metadata": {
        "id": "e7Bg9E69mYQN"
      },
      "outputs": [],
      "source": [
        "# Combine validation and training data for hyperparameter tuning\n",
        "knn_X_train_twenty = np.concatenate((X_train_twenty, X_validate_twenty))\n",
        "knn_y_train_twenty = np.concatenate((y_train_twenty, y_validate_twenty))"
      ]
    },
    {
      "cell_type": "markdown",
      "metadata": {
        "id": "sOi4fMIDm_CY"
      },
      "source": [
        "Similarly, we will perform hyperparameter tuning for k between 1 and 30. We will also compare the performance of uniform and weighted distance functions on the 20 news groups dataset."
      ]
    },
    {
      "cell_type": "markdown",
      "source": [
        "Note that we will comment this cell out because it takes ~ 15 minutes to train, and just use its results from running it after."
      ],
      "metadata": {
        "id": "UlhdqMBDpCLE"
      }
    },
    {
      "cell_type": "code",
      "execution_count": null,
      "metadata": {
        "id": "y1x_gKL7m-xI"
      },
      "outputs": [],
      "source": [
        "# # Specify the parameters to test \n",
        "# parameters = {'n_neighbors': range(1, 30),'weights': ['uniform', 'distance']}\n",
        "\n",
        "# # Instanciate GridSearchCV with KNN model and testing hyperparameters\n",
        "# gridsearch_twenty = GridSearchCV(KNeighborsClassifier(), parameters, scoring='accuracy', cv=10, verbose=0.5)\n",
        "\n",
        "# # Fine-tune it on IMdB training data\n",
        "# gridsearch_twenty.fit(knn_X_train_twenty, knn_y_train_twenty)\n",
        "\n",
        "# # See the hyperparameters\n",
        "# gridsearch_twenty.best_params_"
      ]
    },
    {
      "cell_type": "markdown",
      "metadata": {
        "id": "qqdRittdrNdm"
      },
      "source": [
        "The resulting best hyperparameters for the KNN model for multi-label classification are 1 nearest neighbors and uniform distance function. As a sanity check, we pass the `GridSearchCV` class other parameters to monitor that the best hyperparameters for a KNN model trained on the 20 news groups dataset are in fact `k=1` and uniform distance function. We can see that it produces 580 different fits and tries all the combinations of neighbors ranging from 1 to 30 with a weighted and uniform ditance functions. Furthermore, we will print the parameter `best_score_` that indicates the mean accuracy of a single cross validation pass for the best hyperparameters fit [13]. "
      ]
    },
    {
      "cell_type": "code",
      "execution_count": null,
      "metadata": {
        "id": "rlPKMgruGdvL"
      },
      "outputs": [],
      "source": [
        "# print('The best mean cross validated fit of the KNN multi-label classifier is {:.1f}%.'.format(gridsearch_twenty.best_score_*100))"
      ]
    },
    {
      "cell_type": "markdown",
      "metadata": {
        "id": "eHRqotkCH33t"
      },
      "source": [
        "We will continue by instanciating the KNN classifier with the specified hyperparameters and train it on the combined validating and training 20 news groups data. Then, we will proceed by computing the training and testing accuracies. "
      ]
    },
    {
      "cell_type": "code",
      "execution_count": null,
      "metadata": {
        "colab": {
          "base_uri": "https://localhost:8080/"
        },
        "id": "Qv9kk1DErKa2",
        "outputId": "9c47c4ec-d3f4-4480-a7b0-6880b108dc68"
      },
      "outputs": [
        {
          "output_type": "stream",
          "name": "stdout",
          "text": [
            "The training accuracy of KNN on 20 news groups data is 97.6%.\n",
            "The testing accuracy of KNN on 20 news groups data is 65.0%.\n"
          ]
        }
      ],
      "source": [
        "# Instanciate KNN for multi-class classification\n",
        "knn_twenty = KNeighborsClassifier(n_neighbors=1, weights='uniform')\n",
        "knn_twenty.fit(knn_X_train_twenty, knn_y_train_twenty)\n",
        "\n",
        "# Compute the training predictions\n",
        "knn_twenty_train_pred = knn_twenty.predict(knn_X_train_twenty)\n",
        "\n",
        "# Compute the testing predictions\n",
        "knn_twenty_test_pred = knn_twenty.predict(X_test_twenty)\n",
        "\n",
        "# Compute accuracies\n",
        "print(f'The training accuracy of KNN on 20 news groups data is {round(accuracy_score(knn_y_train_twenty, knn_twenty_train_pred), 3) * 100}%.')\n",
        "print(f'The testing accuracy of KNN on 20 news groups data is {round(accuracy_score(y_test_twenty, knn_twenty_test_pred), 3) * 100}%.')"
      ]
    },
    {
      "cell_type": "markdown",
      "metadata": {
        "id": "wdNlUanhIQMj"
      },
      "source": [
        "The testing accuracy of the KNN model is `65.0%` while the mean validation accuracy given by `GridSearchCV` is `68.7%`. Again, this confirms that `GridSearchCV` indeed found the best hyperparameters for our model. Since we only have `1` nearest neighbour in our KNN model, the training accuracy is `97.6%`. This also makes sense because we are choosing the label soley on a single nearest point. "
      ]
    },
    {
      "cell_type": "markdown",
      "metadata": {
        "id": "Cj8CerOIHcf0"
      },
      "source": [
        "# Task 4: Results"
      ]
    },
    {
      "cell_type": "markdown",
      "metadata": {
        "id": "4A14xNK-xY4v"
      },
      "source": [
        "## 4.1 Plotting the cost as a function of iterations"
      ]
    },
    {
      "cell_type": "markdown",
      "metadata": {
        "id": "BpcjyYH0_3dJ"
      },
      "source": [
        "We will start by plotting the cost of the logistic regression as a function of iterations on the IMdB dataset, for the best hyperparameters:"
      ]
    },
    {
      "cell_type": "code",
      "execution_count": null,
      "metadata": {
        "colab": {
          "base_uri": "https://localhost:8080/",
          "height": 279
        },
        "id": "3WkEXHxI6rxy",
        "outputId": "d8816976-c693-4ad8-d685-1bfa690c3cc3"
      },
      "outputs": [
        {
          "output_type": "display_data",
          "data": {
            "text/plain": [
              "<Figure size 432x288 with 1 Axes>"
            ],
            "image/png": "[encoded data removed]"
          },
          "metadata": {
            "needs_background": "light"
          }
        }
      ],
      "source": [
        "plt.clf()\n",
        "plt.plot(np.array(train_ce_logistic), label='train')\n",
        "plt.plot(np.array(valid_ce_logistic), label='valid')\n",
        "plt.xlabel(\"iteration\")\n",
        "plt.ylabel(\"CE\")\n",
        "plt.legend()\n",
        "plt.show()"
      ]
    },
    {
      "cell_type": "markdown",
      "metadata": {
        "id": "1ENcHV11ACpW"
      },
      "source": [
        "As can be seen above, the overall cost decreases for both the training and validation datasets, which means we neither overshooted with $α$ or overfit the training data. It is to be noted that the small spikes in cost are due to performing stochastic gradient descent using ADAM (Meaning that the cost can increase from one iteration to another but is decreasing overall)."
      ]
    },
    {
      "cell_type": "markdown",
      "metadata": {
        "id": "d4bpE4XjAcRq"
      },
      "source": [
        "We'll now do the same for the multiclass regression on the \"20 news group\" dataset, for the best hyperparameters:"
      ]
    },
    {
      "cell_type": "code",
      "execution_count": null,
      "metadata": {
        "colab": {
          "base_uri": "https://localhost:8080/",
          "height": 279
        },
        "id": "mP1Pvqn_AkUW",
        "outputId": "a2575b10-8439-4d3c-d87a-ae62159be1ed"
      },
      "outputs": [
        {
          "output_type": "display_data",
          "data": {
            "text/plain": [
              "<Figure size 432x288 with 1 Axes>"
            ],
            "image/png": "[encoded data removed]"
          },
          "metadata": {
            "needs_background": "light"
          }
        }
      ],
      "source": [
        "plt.clf()\n",
        "plt.plot(np.array(train_ce_multiclass), label='train')\n",
        "plt.plot(np.array(valid_ce_multiclass), label='valid')\n",
        "plt.xlabel(\"iteration\")\n",
        "plt.ylabel(\"CE\")\n",
        "plt.legend()\n",
        "plt.show()"
      ]
    },
    {
      "cell_type": "markdown",
      "metadata": {
        "id": "Dx79INv0ApLn"
      },
      "source": [
        "Again, we can see that the model converges, with both the training and validation costs decreasing, which shows no sign of overfitting or overshooting. Also, the small fluctuations with iterations are again due to SGD."
      ]
    },
    {
      "cell_type": "markdown",
      "metadata": {
        "id": "vu4vXeTC-IzN"
      },
      "source": [
        "## 4.2 Performing the small perturbation test on both the multiclass and logistic regression gradients"
      ]
    },
    {
      "cell_type": "markdown",
      "metadata": {
        "id": "l4GjsgpZA9kV"
      },
      "source": [
        "We will perform the small perturbation test at the point defined by the best $\\overrightarrow{w}$ for logistic regression. We will use λ = 0.05 arbitrarily since the small perturbation computation works with any function and is a result of the definition of the gradient."
      ]
    },
    {
      "cell_type": "code",
      "execution_count": null,
      "metadata": {
        "colab": {
          "base_uri": "https://localhost:8080/"
        },
        "id": "gBy6MjCh_f0y",
        "outputId": "54b206b0-8e02-4d3c-e98f-620d46389a44"
      },
      "outputs": [
        {
          "output_type": "stream",
          "name": "stdout",
          "text": [
            "Small perturbation test terminates with a difference of 2.9007417288890878e-11.\n"
          ]
        }
      ],
      "source": [
        "best_model_logistic.small_perturbation(X_train_imdb, y_train_imdb, lambda_ = 0.05)"
      ]
    },
    {
      "cell_type": "markdown",
      "metadata": {
        "id": "VPKMy4vrD_Fj"
      },
      "source": [
        "As can be seen above, we get a small perturbation value of around $3^{-11}$, which validates our gradient and cost functions."
      ]
    },
    {
      "cell_type": "markdown",
      "metadata": {
        "id": "KVUkKezrFVWb"
      },
      "source": [
        "Similary, for multiclass regression:"
      ]
    },
    {
      "cell_type": "code",
      "execution_count": null,
      "metadata": {
        "colab": {
          "base_uri": "https://localhost:8080/"
        },
        "id": "FAIkLz4VEVbH",
        "outputId": "b59ec909-ab87-4849-e86d-d5f84c56349b"
      },
      "outputs": [
        {
          "output_type": "stream",
          "name": "stdout",
          "text": [
            "Small perturbation test terminates with a difference of 1.6288426892140203e-09.\n"
          ]
        }
      ],
      "source": [
        "best_model_multiclass.small_perturbation(X_train_twenty, y_train_twenty, lambda_ = 0.05)"
      ]
    },
    {
      "cell_type": "markdown",
      "metadata": {
        "id": "XHMecoJ0FYYn"
      },
      "source": [
        "We get a small perturbation value of around $2^{-9}$, as required."
      ]
    },
    {
      "cell_type": "markdown",
      "metadata": {
        "id": "hRsFPGmCHfab"
      },
      "source": [
        "## 4.3 Top 10 Features on the IMDB dataset using +/- z-score"
      ]
    },
    {
      "cell_type": "markdown",
      "metadata": {
        "id": "1eEU0JmnFfk-"
      },
      "source": [
        "In pre-processing section 1.1, we obtained the following dataframe for the 10 most positive words."
      ]
    },
    {
      "cell_type": "code",
      "execution_count": null,
      "metadata": {
        "colab": {
          "base_uri": "https://localhost:8080/",
          "height": 363
        },
        "id": "T2nHV2TWKcg9",
        "outputId": "5610f7d6-9f7a-4960-db3e-db2f2f5accad"
      },
      "outputs": [
        {
          "output_type": "execute_result",
          "data": {
            "text/plain": [
              "          Word    z-score\n",
              "56       great  46.806802\n",
              "282  excellent  36.995621\n",
              "88        best  35.231665\n",
              "342  wonderful  34.588314\n",
              "87        love  29.790638\n",
              "410      loved  28.008016\n",
              "432    amazing  27.716057\n",
              "365    perfect  26.721903\n",
              "466   favorite  26.402529\n",
              "843     superb  26.072888"
            ],
            "text/html": [
              "\n",
              "  <div id=\"df-78f14c7d-fffd-4ccd-94f1-1c6a598b9861\">\n",
              "    <div class=\"colab-df-container\">\n",
              "      <div>\n",
              "<style scoped>\n",
              "    .dataframe tbody tr th:only-of-type {\n",
              "        vertical-align: middle;\n",
              "    }\n",
              "\n",
              "    .dataframe tbody tr th {\n",
              "        vertical-align: top;\n",
              "    }\n",
              "\n",
              "    .dataframe thead th {\n",
              "        text-align: right;\n",
              "    }\n",
              "</style>\n",
              "<table border=\"1\" class=\"dataframe\">\n",
              "  <thead>\n",
              "    <tr style=\"text-align: right;\">\n",
              "      <th></th>\n",
              "      <th>Word</th>\n",
              "      <th>z-score</th>\n",
              "    </tr>\n",
              "  </thead>\n",
              "  <tbody>\n",
              "    <tr>\n",
              "      <th>56</th>\n",
              "      <td>great</td>\n",
              "      <td>46.806802</td>\n",
              "    </tr>\n",
              "    <tr>\n",
              "      <th>282</th>\n",
              "      <td>excellent</td>\n",
              "      <td>36.995621</td>\n",
              "    </tr>\n",
              "    <tr>\n",
              "      <th>88</th>\n",
              "      <td>best</td>\n",
              "      <td>35.231665</td>\n",
              "    </tr>\n",
              "    <tr>\n",
              "      <th>342</th>\n",
              "      <td>wonderful</td>\n",
              "      <td>34.588314</td>\n",
              "    </tr>\n",
              "    <tr>\n",
              "      <th>87</th>\n",
              "      <td>love</td>\n",
              "      <td>29.790638</td>\n",
              "    </tr>\n",
              "    <tr>\n",
              "      <th>410</th>\n",
              "      <td>loved</td>\n",
              "      <td>28.008016</td>\n",
              "    </tr>\n",
              "    <tr>\n",
              "      <th>432</th>\n",
              "      <td>amazing</td>\n",
              "      <td>27.716057</td>\n",
              "    </tr>\n",
              "    <tr>\n",
              "      <th>365</th>\n",
              "      <td>perfect</td>\n",
              "      <td>26.721903</td>\n",
              "    </tr>\n",
              "    <tr>\n",
              "      <th>466</th>\n",
              "      <td>favorite</td>\n",
              "      <td>26.402529</td>\n",
              "    </tr>\n",
              "    <tr>\n",
              "      <th>843</th>\n",
              "      <td>superb</td>\n",
              "      <td>26.072888</td>\n",
              "    </tr>\n",
              "  </tbody>\n",
              "</table>\n",
              "</div>\n",
              "      <button class=\"colab-df-convert\" onclick=\"convertToInteractive('df-78f14c7d-fffd-4ccd-94f1-1c6a598b9861')\"\n",
              "              title=\"Convert this dataframe to an interactive table.\"\n",
              "              style=\"display:none;\">\n",
              "        \n",
              "  <svg xmlns=\"http://www.w3.org/2000/svg\" height=\"24px\"viewBox=\"0 0 24 24\"\n",
              "       width=\"24px\">\n",
              "    <path d=\"M0 0h24v24H0V0z\" fill=\"none\"/>\n",
              "    <path d=\"M18.56 5.44l.94 2.06.94-2.06 2.06-.94-2.06-.94-.94-2.06-.94 2.06-2.06.94zm-11 1L8.5 8.5l.94-2.06 2.06-.94-2.06-.94L8.5 2.5l-.94 2.06-2.06.94zm10 10l.94 2.06.94-2.06 2.06-.94-2.06-.94-.94-2.06-.94 2.06-2.06.94z\"/><path d=\"M17.41 7.96l-1.37-1.37c-.4-.4-.92-.59-1.43-.59-.52 0-1.04.2-1.43.59L10.3 9.45l-7.72 7.72c-.78.78-.78 2.05 0 2.83L4 21.41c.39.39.9.59 1.41.59.51 0 1.02-.2 1.41-.59l7.78-7.78 2.81-2.81c.8-.78.8-2.07 0-2.86zM5.41 20L4 18.59l7.72-7.72 1.47 1.35L5.41 20z\"/>\n",
              "  </svg>\n",
              "      </button>\n",
              "      \n",
              "  <style>\n",
              "    .colab-df-container {\n",
              "      display:flex;\n",
              "      flex-wrap:wrap;\n",
              "      gap: 12px;\n",
              "    }\n",
              "\n",
              "    .colab-df-convert {\n",
              "      background-color: #E8F0FE;\n",
              "      border: none;\n",
              "      border-radius: 50%;\n",
              "      cursor: pointer;\n",
              "      display: none;\n",
              "      fill: #1967D2;\n",
              "      height: 32px;\n",
              "      padding: 0 0 0 0;\n",
              "      width: 32px;\n",
              "    }\n",
              "\n",
              "    .colab-df-convert:hover {\n",
              "      background-color: #E2EBFA;\n",
              "      box-shadow: 0px 1px 2px rgba(60, 64, 67, 0.3), 0px 1px 3px 1px rgba(60, 64, 67, 0.15);\n",
              "      fill: #174EA6;\n",
              "    }\n",
              "\n",
              "    [theme=dark] .colab-df-convert {\n",
              "      background-color: #3B4455;\n",
              "      fill: #D2E3FC;\n",
              "    }\n",
              "\n",
              "    [theme=dark] .colab-df-convert:hover {\n",
              "      background-color: #434B5C;\n",
              "      box-shadow: 0px 1px 3px 1px rgba(0, 0, 0, 0.15);\n",
              "      filter: drop-shadow(0px 1px 2px rgba(0, 0, 0, 0.3));\n",
              "      fill: #FFFFFF;\n",
              "    }\n",
              "  </style>\n",
              "\n",
              "      <script>\n",
              "        const buttonEl =\n",
              "          document.querySelector('#df-78f14c7d-fffd-4ccd-94f1-1c6a598b9861 button.colab-df-convert');\n",
              "        buttonEl.style.display =\n",
              "          google.colab.kernel.accessAllowed ? 'block' : 'none';\n",
              "\n",
              "        async function convertToInteractive(key) {\n",
              "          const element = document.querySelector('#df-78f14c7d-fffd-4ccd-94f1-1c6a598b9861');\n",
              "          const dataTable =\n",
              "            await google.colab.kernel.invokeFunction('convertToInteractive',\n",
              "                                                     [key], {});\n",
              "          if (!dataTable) return;\n",
              "\n",
              "          const docLinkHtml = 'Like what you see? Visit the ' +\n",
              "            '<a target=\"_blank\" href=https://colab.research.google.com/notebooks/data_table.ipynb>data table notebook</a>'\n",
              "            + ' to learn more about interactive tables.';\n",
              "          element.innerHTML = '';\n",
              "          dataTable['output_type'] = 'display_data';\n",
              "          await google.colab.output.renderOutput(dataTable, element);\n",
              "          const docLink = document.createElement('div');\n",
              "          docLink.innerHTML = docLinkHtml;\n",
              "          element.appendChild(docLink);\n",
              "        }\n",
              "      </script>\n",
              "    </div>\n",
              "  </div>\n",
              "  "
            ]
          },
          "metadata": {},
          "execution_count": 73
        }
      ],
      "source": [
        "most_positive_words"
      ]
    },
    {
      "cell_type": "markdown",
      "metadata": {
        "id": "usBA7TlnKmiC"
      },
      "source": [
        "We also obtained the following dataframe for the 10 most negative words."
      ]
    },
    {
      "cell_type": "code",
      "execution_count": null,
      "metadata": {
        "colab": {
          "base_uri": "https://localhost:8080/",
          "height": 363
        },
        "id": "hGljWZ49KiN2",
        "outputId": "1ca638d5-5ccc-40ea-c1f1-b28d8317f51a"
      },
      "outputs": [
        {
          "output_type": "execute_result",
          "data": {
            "text/plain": [
              "         Word    z-score\n",
              "50        bad -61.229505\n",
              "213     worst -59.187551\n",
              "400     waste -46.945639\n",
              "341     awful -43.687852\n",
              "19          ? -39.073873\n",
              "346  terrible -38.854331\n",
              "395     worse -35.599683\n",
              "476  horrible -34.275638\n",
              "336    stupid -33.807844\n",
              "28         no -33.284108"
            ],
            "text/html": [
              "\n",
              "  <div id=\"df-6ae5bd86-5fd6-4900-b749-62b8fc607bb4\">\n",
              "    <div class=\"colab-df-container\">\n",
              "      <div>\n",
              "<style scoped>\n",
              "    .dataframe tbody tr th:only-of-type {\n",
              "        vertical-align: middle;\n",
              "    }\n",
              "\n",
              "    .dataframe tbody tr th {\n",
              "        vertical-align: top;\n",
              "    }\n",
              "\n",
              "    .dataframe thead th {\n",
              "        text-align: right;\n",
              "    }\n",
              "</style>\n",
              "<table border=\"1\" class=\"dataframe\">\n",
              "  <thead>\n",
              "    <tr style=\"text-align: right;\">\n",
              "      <th></th>\n",
              "      <th>Word</th>\n",
              "      <th>z-score</th>\n",
              "    </tr>\n",
              "  </thead>\n",
              "  <tbody>\n",
              "    <tr>\n",
              "      <th>50</th>\n",
              "      <td>bad</td>\n",
              "      <td>-61.229505</td>\n",
              "    </tr>\n",
              "    <tr>\n",
              "      <th>213</th>\n",
              "      <td>worst</td>\n",
              "      <td>-59.187551</td>\n",
              "    </tr>\n",
              "    <tr>\n",
              "      <th>400</th>\n",
              "      <td>waste</td>\n",
              "      <td>-46.945639</td>\n",
              "    </tr>\n",
              "    <tr>\n",
              "      <th>341</th>\n",
              "      <td>awful</td>\n",
              "      <td>-43.687852</td>\n",
              "    </tr>\n",
              "    <tr>\n",
              "      <th>19</th>\n",
              "      <td>?</td>\n",
              "      <td>-39.073873</td>\n",
              "    </tr>\n",
              "    <tr>\n",
              "      <th>346</th>\n",
              "      <td>terrible</td>\n",
              "      <td>-38.854331</td>\n",
              "    </tr>\n",
              "    <tr>\n",
              "      <th>395</th>\n",
              "      <td>worse</td>\n",
              "      <td>-35.599683</td>\n",
              "    </tr>\n",
              "    <tr>\n",
              "      <th>476</th>\n",
              "      <td>horrible</td>\n",
              "      <td>-34.275638</td>\n",
              "    </tr>\n",
              "    <tr>\n",
              "      <th>336</th>\n",
              "      <td>stupid</td>\n",
              "      <td>-33.807844</td>\n",
              "    </tr>\n",
              "    <tr>\n",
              "      <th>28</th>\n",
              "      <td>no</td>\n",
              "      <td>-33.284108</td>\n",
              "    </tr>\n",
              "  </tbody>\n",
              "</table>\n",
              "</div>\n",
              "      <button class=\"colab-df-convert\" onclick=\"convertToInteractive('df-6ae5bd86-5fd6-4900-b749-62b8fc607bb4')\"\n",
              "              title=\"Convert this dataframe to an interactive table.\"\n",
              "              style=\"display:none;\">\n",
              "        \n",
              "  <svg xmlns=\"http://www.w3.org/2000/svg\" height=\"24px\"viewBox=\"0 0 24 24\"\n",
              "       width=\"24px\">\n",
              "    <path d=\"M0 0h24v24H0V0z\" fill=\"none\"/>\n",
              "    <path d=\"M18.56 5.44l.94 2.06.94-2.06 2.06-.94-2.06-.94-.94-2.06-.94 2.06-2.06.94zm-11 1L8.5 8.5l.94-2.06 2.06-.94-2.06-.94L8.5 2.5l-.94 2.06-2.06.94zm10 10l.94 2.06.94-2.06 2.06-.94-2.06-.94-.94-2.06-.94 2.06-2.06.94z\"/><path d=\"M17.41 7.96l-1.37-1.37c-.4-.4-.92-.59-1.43-.59-.52 0-1.04.2-1.43.59L10.3 9.45l-7.72 7.72c-.78.78-.78 2.05 0 2.83L4 21.41c.39.39.9.59 1.41.59.51 0 1.02-.2 1.41-.59l7.78-7.78 2.81-2.81c.8-.78.8-2.07 0-2.86zM5.41 20L4 18.59l7.72-7.72 1.47 1.35L5.41 20z\"/>\n",
              "  </svg>\n",
              "      </button>\n",
              "      \n",
              "  <style>\n",
              "    .colab-df-container {\n",
              "      display:flex;\n",
              "      flex-wrap:wrap;\n",
              "      gap: 12px;\n",
              "    }\n",
              "\n",
              "    .colab-df-convert {\n",
              "      background-color: #E8F0FE;\n",
              "      border: none;\n",
              "      border-radius: 50%;\n",
              "      cursor: pointer;\n",
              "      display: none;\n",
              "      fill: #1967D2;\n",
              "      height: 32px;\n",
              "      padding: 0 0 0 0;\n",
              "      width: 32px;\n",
              "    }\n",
              "\n",
              "    .colab-df-convert:hover {\n",
              "      background-color: #E2EBFA;\n",
              "      box-shadow: 0px 1px 2px rgba(60, 64, 67, 0.3), 0px 1px 3px 1px rgba(60, 64, 67, 0.15);\n",
              "      fill: #174EA6;\n",
              "    }\n",
              "\n",
              "    [theme=dark] .colab-df-convert {\n",
              "      background-color: #3B4455;\n",
              "      fill: #D2E3FC;\n",
              "    }\n",
              "\n",
              "    [theme=dark] .colab-df-convert:hover {\n",
              "      background-color: #434B5C;\n",
              "      box-shadow: 0px 1px 3px 1px rgba(0, 0, 0, 0.15);\n",
              "      filter: drop-shadow(0px 1px 2px rgba(0, 0, 0, 0.3));\n",
              "      fill: #FFFFFF;\n",
              "    }\n",
              "  </style>\n",
              "\n",
              "      <script>\n",
              "        const buttonEl =\n",
              "          document.querySelector('#df-6ae5bd86-5fd6-4900-b749-62b8fc607bb4 button.colab-df-convert');\n",
              "        buttonEl.style.display =\n",
              "          google.colab.kernel.accessAllowed ? 'block' : 'none';\n",
              "\n",
              "        async function convertToInteractive(key) {\n",
              "          const element = document.querySelector('#df-6ae5bd86-5fd6-4900-b749-62b8fc607bb4');\n",
              "          const dataTable =\n",
              "            await google.colab.kernel.invokeFunction('convertToInteractive',\n",
              "                                                     [key], {});\n",
              "          if (!dataTable) return;\n",
              "\n",
              "          const docLinkHtml = 'Like what you see? Visit the ' +\n",
              "            '<a target=\"_blank\" href=https://colab.research.google.com/notebooks/data_table.ipynb>data table notebook</a>'\n",
              "            + ' to learn more about interactive tables.';\n",
              "          element.innerHTML = '';\n",
              "          dataTable['output_type'] = 'display_data';\n",
              "          await google.colab.output.renderOutput(dataTable, element);\n",
              "          const docLink = document.createElement('div');\n",
              "          docLink.innerHTML = docLinkHtml;\n",
              "          element.appendChild(docLink);\n",
              "        }\n",
              "      </script>\n",
              "    </div>\n",
              "  </div>\n",
              "  "
            ]
          },
          "metadata": {},
          "execution_count": 74
        }
      ],
      "source": [
        "most_negative_words"
      ]
    },
    {
      "cell_type": "markdown",
      "metadata": {
        "id": "vjk3oNwWKrL8"
      },
      "source": [
        "We can use the above results to build the following bar plots showing the z-scores on the x-axis and the feature names on the y-axis:"
      ]
    },
    {
      "cell_type": "code",
      "execution_count": null,
      "metadata": {
        "colab": {
          "base_uri": "https://localhost:8080/",
          "height": 298
        },
        "id": "DiRQVzGOL-Pg",
        "outputId": "1ed325ed-f347-4a7c-c881-50a17ad8e71e"
      },
      "outputs": [
        {
          "output_type": "execute_result",
          "data": {
            "text/plain": [
              "Text(0.5, 1.0, 'Bar plot of the 10 most positive / negative words based on their z-scores')"
            ]
          },
          "metadata": {},
          "execution_count": 75
        },
        {
          "output_type": "display_data",
          "data": {
            "text/plain": [
              "<Figure size 432x288 with 1 Axes>"
            ],
            "image/png": "[encoded data removed]"
          },
          "metadata": {
            "needs_background": "light"
          }
        }
      ],
      "source": [
        "# Merge the most positive and most negative words\n",
        "all_words = most_negative_words.append(most_positive_words)\n",
        "\n",
        "# Build the bar plot\n",
        "all_words.plot.barh(x=\"Word\", y=\"z-score\")\n",
        "\n",
        "# Title\n",
        "plt.title(\"Bar plot of the 10 most positive / negative words based on their z-scores\")"
      ]
    },
    {
      "cell_type": "markdown",
      "metadata": {
        "id": "6caCsZmvdRgv"
      },
      "source": [
        "## 4.4 Top 10 features on the IMDB dataset using +/- feature weights of best Logistic Regression model"
      ]
    },
    {
      "cell_type": "markdown",
      "metadata": {
        "id": "25k5CZPBUKeL"
      },
      "source": [
        "We'll now plot the same graph as above again, but using the weights of the trained model instead of the z-score on the x-axis. We'll use the best logistic regression model trained in the hyperparameter section, removing the bias row:"
      ]
    },
    {
      "cell_type": "code",
      "execution_count": null,
      "metadata": {
        "id": "6A6lnKetdT8l"
      },
      "outputs": [],
      "source": [
        "# Extract the best weights without the bias row\n",
        "best_w = best_model_logistic.w[1:]"
      ]
    },
    {
      "cell_type": "markdown",
      "metadata": {
        "id": "QtKrZoNfdB_j"
      },
      "source": [
        "We'll start by visualize the 10 most positive words based on the weights:"
      ]
    },
    {
      "cell_type": "code",
      "execution_count": null,
      "metadata": {
        "colab": {
          "base_uri": "https://localhost:8080/",
          "height": 363
        },
        "id": "PNrIY-D6dXIb",
        "outputId": "2180602a-bd17-4c8a-a4af-2ff12ca42889"
      },
      "outputs": [
        {
          "output_type": "execute_result",
          "data": {
            "text/plain": [
              "            Word    Weight\n",
              "92   wonderfully  1.020076\n",
              "7      excellent  0.970225\n",
              "27       perfect  0.837389\n",
              "194         rare  0.830875\n",
              "31        superb  0.802288\n",
              "250     funniest  0.726435\n",
              "30      favorite  0.712529\n",
              "24       amazing  0.711653\n",
              "124   incredible  0.678115\n",
              "269        tears  0.675400"
            ],
            "text/html": [
              "\n",
              "  <div id=\"df-372d0bc8-66a7-4b54-a057-30f4f1e45402\">\n",
              "    <div class=\"colab-df-container\">\n",
              "      <div>\n",
              "<style scoped>\n",
              "    .dataframe tbody tr th:only-of-type {\n",
              "        vertical-align: middle;\n",
              "    }\n",
              "\n",
              "    .dataframe tbody tr th {\n",
              "        vertical-align: top;\n",
              "    }\n",
              "\n",
              "    .dataframe thead th {\n",
              "        text-align: right;\n",
              "    }\n",
              "</style>\n",
              "<table border=\"1\" class=\"dataframe\">\n",
              "  <thead>\n",
              "    <tr style=\"text-align: right;\">\n",
              "      <th></th>\n",
              "      <th>Word</th>\n",
              "      <th>Weight</th>\n",
              "    </tr>\n",
              "  </thead>\n",
              "  <tbody>\n",
              "    <tr>\n",
              "      <th>92</th>\n",
              "      <td>wonderfully</td>\n",
              "      <td>1.020076</td>\n",
              "    </tr>\n",
              "    <tr>\n",
              "      <th>7</th>\n",
              "      <td>excellent</td>\n",
              "      <td>0.970225</td>\n",
              "    </tr>\n",
              "    <tr>\n",
              "      <th>27</th>\n",
              "      <td>perfect</td>\n",
              "      <td>0.837389</td>\n",
              "    </tr>\n",
              "    <tr>\n",
              "      <th>194</th>\n",
              "      <td>rare</td>\n",
              "      <td>0.830875</td>\n",
              "    </tr>\n",
              "    <tr>\n",
              "      <th>31</th>\n",
              "      <td>superb</td>\n",
              "      <td>0.802288</td>\n",
              "    </tr>\n",
              "    <tr>\n",
              "      <th>250</th>\n",
              "      <td>funniest</td>\n",
              "      <td>0.726435</td>\n",
              "    </tr>\n",
              "    <tr>\n",
              "      <th>30</th>\n",
              "      <td>favorite</td>\n",
              "      <td>0.712529</td>\n",
              "    </tr>\n",
              "    <tr>\n",
              "      <th>24</th>\n",
              "      <td>amazing</td>\n",
              "      <td>0.711653</td>\n",
              "    </tr>\n",
              "    <tr>\n",
              "      <th>124</th>\n",
              "      <td>incredible</td>\n",
              "      <td>0.678115</td>\n",
              "    </tr>\n",
              "    <tr>\n",
              "      <th>269</th>\n",
              "      <td>tears</td>\n",
              "      <td>0.675400</td>\n",
              "    </tr>\n",
              "  </tbody>\n",
              "</table>\n",
              "</div>\n",
              "      <button class=\"colab-df-convert\" onclick=\"convertToInteractive('df-372d0bc8-66a7-4b54-a057-30f4f1e45402')\"\n",
              "              title=\"Convert this dataframe to an interactive table.\"\n",
              "              style=\"display:none;\">\n",
              "        \n",
              "  <svg xmlns=\"http://www.w3.org/2000/svg\" height=\"24px\"viewBox=\"0 0 24 24\"\n",
              "       width=\"24px\">\n",
              "    <path d=\"M0 0h24v24H0V0z\" fill=\"none\"/>\n",
              "    <path d=\"M18.56 5.44l.94 2.06.94-2.06 2.06-.94-2.06-.94-.94-2.06-.94 2.06-2.06.94zm-11 1L8.5 8.5l.94-2.06 2.06-.94-2.06-.94L8.5 2.5l-.94 2.06-2.06.94zm10 10l.94 2.06.94-2.06 2.06-.94-2.06-.94-.94-2.06-.94 2.06-2.06.94z\"/><path d=\"M17.41 7.96l-1.37-1.37c-.4-.4-.92-.59-1.43-.59-.52 0-1.04.2-1.43.59L10.3 9.45l-7.72 7.72c-.78.78-.78 2.05 0 2.83L4 21.41c.39.39.9.59 1.41.59.51 0 1.02-.2 1.41-.59l7.78-7.78 2.81-2.81c.8-.78.8-2.07 0-2.86zM5.41 20L4 18.59l7.72-7.72 1.47 1.35L5.41 20z\"/>\n",
              "  </svg>\n",
              "      </button>\n",
              "      \n",
              "  <style>\n",
              "    .colab-df-container {\n",
              "      display:flex;\n",
              "      flex-wrap:wrap;\n",
              "      gap: 12px;\n",
              "    }\n",
              "\n",
              "    .colab-df-convert {\n",
              "      background-color: #E8F0FE;\n",
              "      border: none;\n",
              "      border-radius: 50%;\n",
              "      cursor: pointer;\n",
              "      display: none;\n",
              "      fill: #1967D2;\n",
              "      height: 32px;\n",
              "      padding: 0 0 0 0;\n",
              "      width: 32px;\n",
              "    }\n",
              "\n",
              "    .colab-df-convert:hover {\n",
              "      background-color: #E2EBFA;\n",
              "      box-shadow: 0px 1px 2px rgba(60, 64, 67, 0.3), 0px 1px 3px 1px rgba(60, 64, 67, 0.15);\n",
              "      fill: #174EA6;\n",
              "    }\n",
              "\n",
              "    [theme=dark] .colab-df-convert {\n",
              "      background-color: #3B4455;\n",
              "      fill: #D2E3FC;\n",
              "    }\n",
              "\n",
              "    [theme=dark] .colab-df-convert:hover {\n",
              "      background-color: #434B5C;\n",
              "      box-shadow: 0px 1px 3px 1px rgba(0, 0, 0, 0.15);\n",
              "      filter: drop-shadow(0px 1px 2px rgba(0, 0, 0, 0.3));\n",
              "      fill: #FFFFFF;\n",
              "    }\n",
              "  </style>\n",
              "\n",
              "      <script>\n",
              "        const buttonEl =\n",
              "          document.querySelector('#df-372d0bc8-66a7-4b54-a057-30f4f1e45402 button.colab-df-convert');\n",
              "        buttonEl.style.display =\n",
              "          google.colab.kernel.accessAllowed ? 'block' : 'none';\n",
              "\n",
              "        async function convertToInteractive(key) {\n",
              "          const element = document.querySelector('#df-372d0bc8-66a7-4b54-a057-30f4f1e45402');\n",
              "          const dataTable =\n",
              "            await google.colab.kernel.invokeFunction('convertToInteractive',\n",
              "                                                     [key], {});\n",
              "          if (!dataTable) return;\n",
              "\n",
              "          const docLinkHtml = 'Like what you see? Visit the ' +\n",
              "            '<a target=\"_blank\" href=https://colab.research.google.com/notebooks/data_table.ipynb>data table notebook</a>'\n",
              "            + ' to learn more about interactive tables.';\n",
              "          element.innerHTML = '';\n",
              "          dataTable['output_type'] = 'display_data';\n",
              "          await google.colab.output.renderOutput(dataTable, element);\n",
              "          const docLink = document.createElement('div');\n",
              "          docLink.innerHTML = docLinkHtml;\n",
              "          element.appendChild(docLink);\n",
              "        }\n",
              "      </script>\n",
              "    </div>\n",
              "  </div>\n",
              "  "
            ]
          },
          "metadata": {},
          "execution_count": 77
        }
      ],
      "source": [
        "# Extract the words with the 10 most positive weights and their respective weights\n",
        "most_positive_word_indices = np.argsort(-best_w)\n",
        "most_positive_words = imdb_feature_words.iloc[most_positive_word_indices[0:10]]\n",
        "most_positive_words[\"Weight\"] = -np.sort(-best_w)[0:10]\n",
        "\n",
        "# Visualize the 10 most positive words based on the weights\n",
        "most_positive_words"
      ]
    },
    {
      "cell_type": "markdown",
      "metadata": {
        "id": "VF3_ft4Yc_9A"
      },
      "source": [
        "The results above make sense. We'll now visualize the 10 most negative words based on the weights:"
      ]
    },
    {
      "cell_type": "code",
      "execution_count": null,
      "metadata": {
        "colab": {
          "base_uri": "https://localhost:8080/",
          "height": 363
        },
        "id": "AAD_QFvudOeJ",
        "outputId": "290e6db5-7f43-443a-9933-4d39a960cf34"
      },
      "outputs": [
        {
          "output_type": "execute_result",
          "data": {
            "text/plain": [
              "               Word    Weight\n",
              "2             waste -1.395881\n",
              "1             worst -1.259644\n",
              "29           poorly -1.213288\n",
              "4             awful -1.067679\n",
              "190  disappointment -1.026853\n",
              "48        laughable -1.011623\n",
              "210   disappointing -0.977836\n",
              "39           wasted -0.951918\n",
              "14           boring -0.932153\n",
              "23            avoid -0.928898"
            ],
            "text/html": [
              "\n",
              "  <div id=\"df-6c7dc5b7-678d-410d-8982-9e0669eb8469\">\n",
              "    <div class=\"colab-df-container\">\n",
              "      <div>\n",
              "<style scoped>\n",
              "    .dataframe tbody tr th:only-of-type {\n",
              "        vertical-align: middle;\n",
              "    }\n",
              "\n",
              "    .dataframe tbody tr th {\n",
              "        vertical-align: top;\n",
              "    }\n",
              "\n",
              "    .dataframe thead th {\n",
              "        text-align: right;\n",
              "    }\n",
              "</style>\n",
              "<table border=\"1\" class=\"dataframe\">\n",
              "  <thead>\n",
              "    <tr style=\"text-align: right;\">\n",
              "      <th></th>\n",
              "      <th>Word</th>\n",
              "      <th>Weight</th>\n",
              "    </tr>\n",
              "  </thead>\n",
              "  <tbody>\n",
              "    <tr>\n",
              "      <th>2</th>\n",
              "      <td>waste</td>\n",
              "      <td>-1.395881</td>\n",
              "    </tr>\n",
              "    <tr>\n",
              "      <th>1</th>\n",
              "      <td>worst</td>\n",
              "      <td>-1.259644</td>\n",
              "    </tr>\n",
              "    <tr>\n",
              "      <th>29</th>\n",
              "      <td>poorly</td>\n",
              "      <td>-1.213288</td>\n",
              "    </tr>\n",
              "    <tr>\n",
              "      <th>4</th>\n",
              "      <td>awful</td>\n",
              "      <td>-1.067679</td>\n",
              "    </tr>\n",
              "    <tr>\n",
              "      <th>190</th>\n",
              "      <td>disappointment</td>\n",
              "      <td>-1.026853</td>\n",
              "    </tr>\n",
              "    <tr>\n",
              "      <th>48</th>\n",
              "      <td>laughable</td>\n",
              "      <td>-1.011623</td>\n",
              "    </tr>\n",
              "    <tr>\n",
              "      <th>210</th>\n",
              "      <td>disappointing</td>\n",
              "      <td>-0.977836</td>\n",
              "    </tr>\n",
              "    <tr>\n",
              "      <th>39</th>\n",
              "      <td>wasted</td>\n",
              "      <td>-0.951918</td>\n",
              "    </tr>\n",
              "    <tr>\n",
              "      <th>14</th>\n",
              "      <td>boring</td>\n",
              "      <td>-0.932153</td>\n",
              "    </tr>\n",
              "    <tr>\n",
              "      <th>23</th>\n",
              "      <td>avoid</td>\n",
              "      <td>-0.928898</td>\n",
              "    </tr>\n",
              "  </tbody>\n",
              "</table>\n",
              "</div>\n",
              "      <button class=\"colab-df-convert\" onclick=\"convertToInteractive('df-6c7dc5b7-678d-410d-8982-9e0669eb8469')\"\n",
              "              title=\"Convert this dataframe to an interactive table.\"\n",
              "              style=\"display:none;\">\n",
              "        \n",
              "  <svg xmlns=\"http://www.w3.org/2000/svg\" height=\"24px\"viewBox=\"0 0 24 24\"\n",
              "       width=\"24px\">\n",
              "    <path d=\"M0 0h24v24H0V0z\" fill=\"none\"/>\n",
              "    <path d=\"M18.56 5.44l.94 2.06.94-2.06 2.06-.94-2.06-.94-.94-2.06-.94 2.06-2.06.94zm-11 1L8.5 8.5l.94-2.06 2.06-.94-2.06-.94L8.5 2.5l-.94 2.06-2.06.94zm10 10l.94 2.06.94-2.06 2.06-.94-2.06-.94-.94-2.06-.94 2.06-2.06.94z\"/><path d=\"M17.41 7.96l-1.37-1.37c-.4-.4-.92-.59-1.43-.59-.52 0-1.04.2-1.43.59L10.3 9.45l-7.72 7.72c-.78.78-.78 2.05 0 2.83L4 21.41c.39.39.9.59 1.41.59.51 0 1.02-.2 1.41-.59l7.78-7.78 2.81-2.81c.8-.78.8-2.07 0-2.86zM5.41 20L4 18.59l7.72-7.72 1.47 1.35L5.41 20z\"/>\n",
              "  </svg>\n",
              "      </button>\n",
              "      \n",
              "  <style>\n",
              "    .colab-df-container {\n",
              "      display:flex;\n",
              "      flex-wrap:wrap;\n",
              "      gap: 12px;\n",
              "    }\n",
              "\n",
              "    .colab-df-convert {\n",
              "      background-color: #E8F0FE;\n",
              "      border: none;\n",
              "      border-radius: 50%;\n",
              "      cursor: pointer;\n",
              "      display: none;\n",
              "      fill: #1967D2;\n",
              "      height: 32px;\n",
              "      padding: 0 0 0 0;\n",
              "      width: 32px;\n",
              "    }\n",
              "\n",
              "    .colab-df-convert:hover {\n",
              "      background-color: #E2EBFA;\n",
              "      box-shadow: 0px 1px 2px rgba(60, 64, 67, 0.3), 0px 1px 3px 1px rgba(60, 64, 67, 0.15);\n",
              "      fill: #174EA6;\n",
              "    }\n",
              "\n",
              "    [theme=dark] .colab-df-convert {\n",
              "      background-color: #3B4455;\n",
              "      fill: #D2E3FC;\n",
              "    }\n",
              "\n",
              "    [theme=dark] .colab-df-convert:hover {\n",
              "      background-color: #434B5C;\n",
              "      box-shadow: 0px 1px 3px 1px rgba(0, 0, 0, 0.15);\n",
              "      filter: drop-shadow(0px 1px 2px rgba(0, 0, 0, 0.3));\n",
              "      fill: #FFFFFF;\n",
              "    }\n",
              "  </style>\n",
              "\n",
              "      <script>\n",
              "        const buttonEl =\n",
              "          document.querySelector('#df-6c7dc5b7-678d-410d-8982-9e0669eb8469 button.colab-df-convert');\n",
              "        buttonEl.style.display =\n",
              "          google.colab.kernel.accessAllowed ? 'block' : 'none';\n",
              "\n",
              "        async function convertToInteractive(key) {\n",
              "          const element = document.querySelector('#df-6c7dc5b7-678d-410d-8982-9e0669eb8469');\n",
              "          const dataTable =\n",
              "            await google.colab.kernel.invokeFunction('convertToInteractive',\n",
              "                                                     [key], {});\n",
              "          if (!dataTable) return;\n",
              "\n",
              "          const docLinkHtml = 'Like what you see? Visit the ' +\n",
              "            '<a target=\"_blank\" href=https://colab.research.google.com/notebooks/data_table.ipynb>data table notebook</a>'\n",
              "            + ' to learn more about interactive tables.';\n",
              "          element.innerHTML = '';\n",
              "          dataTable['output_type'] = 'display_data';\n",
              "          await google.colab.output.renderOutput(dataTable, element);\n",
              "          const docLink = document.createElement('div');\n",
              "          docLink.innerHTML = docLinkHtml;\n",
              "          element.appendChild(docLink);\n",
              "        }\n",
              "      </script>\n",
              "    </div>\n",
              "  </div>\n",
              "  "
            ]
          },
          "metadata": {},
          "execution_count": 78
        }
      ],
      "source": [
        "# Extract the words with the 10 most positive weights and their respective weights\n",
        "most_negative_word_indices = np.argsort(best_w)\n",
        "most_negative_words = imdb_feature_words.iloc[most_negative_word_indices[0:10]]\n",
        "most_negative_words[\"Weight\"] = np.sort(best_w)[0:10]\n",
        "\n",
        "# Visualize the 10 most positive words based on the weights\n",
        "most_negative_words"
      ]
    },
    {
      "cell_type": "markdown",
      "metadata": {
        "id": "T0l81wyKdrJY"
      },
      "source": [
        "Again, the results are predictive of a negative review. We'll now proceed to plot the bar plot, as was done for the z-scores in section 4.3:"
      ]
    },
    {
      "cell_type": "code",
      "execution_count": null,
      "metadata": {
        "colab": {
          "base_uri": "https://localhost:8080/",
          "height": 298
        },
        "id": "CI9gSCwsdyM1",
        "outputId": "860d3e39-3b73-4f76-cbcf-21b5528885d6"
      },
      "outputs": [
        {
          "output_type": "execute_result",
          "data": {
            "text/plain": [
              "Text(0.5, 1.0, 'Bar plot of the 10 most positive / negative words based on their weights')"
            ]
          },
          "metadata": {},
          "execution_count": 79
        },
        {
          "output_type": "display_data",
          "data": {
            "text/plain": [
              "<Figure size 432x288 with 1 Axes>"
            ],
            "image/png": "[encoded data removed]"
          },
          "metadata": {
            "needs_background": "light"
          }
        }
      ],
      "source": [
        "# Merge the most positive and most negative words\n",
        "all_words = most_negative_words.append(most_positive_words)\n",
        "\n",
        "# Build the bar plot\n",
        "all_words.plot.barh(x=\"Word\", y=\"Weight\")\n",
        "\n",
        "# Title\n",
        "plt.title(\"Bar plot of the 10 most positive / negative words based on their weights\")"
      ]
    },
    {
      "cell_type": "markdown",
      "metadata": {
        "id": "PKjWU0F9d86Y"
      },
      "source": [
        "Note the small scale of the weights as a result of the ridge regularization that was applied to the model."
      ]
    },
    {
      "cell_type": "markdown",
      "metadata": {
        "id": "eib_iTpthI4j"
      },
      "source": [
        "## 4.5 Analyze and compare logistic regression to KNN on IMDB data"
      ]
    },
    {
      "cell_type": "markdown",
      "metadata": {
        "id": "m1_s2Vj2IWWc"
      },
      "source": [
        "In this section we will compare the results of the sklearn's KNN and our Logistic regression models on the binary classification task for IMDB dataset."
      ]
    },
    {
      "cell_type": "markdown",
      "metadata": {
        "id": "LoIdFLhyhI4k"
      },
      "source": [
        "### 4.5.1 ROC of classification of IMDB data\n",
        "\n",
        "We will start by instantiating the two models with the best hyperparameters found previously. Then, we will proceed by computing the testing predictions and plotting the ROC curves for the two models."
      ]
    },
    {
      "cell_type": "code",
      "execution_count": null,
      "metadata": {
        "colab": {
          "base_uri": "https://localhost:8080/",
          "height": 295
        },
        "id": "eTRLVuc3hI4k",
        "outputId": "dc88cae3-f76d-4c54-ffe1-c2bfd525b024"
      },
      "outputs": [
        {
          "output_type": "display_data",
          "data": {
            "text/plain": [
              "<Figure size 432x288 with 1 Axes>"
            ],
            "image/png": "[encoded data removed]"
          },
          "metadata": {
            "needs_background": "light"
          }
        }
      ],
      "source": [
        "logreg = LogisticRegression(verbose=False) # Create Multinomial object\n",
        "\n",
        "# Fit logiistic regression model using best hyperparameters \n",
        "fit, _, _, _ = logreg.fit(X_train_imdb, \n",
        "                          y_train_imdb, \n",
        "                          X_validate_imdb, \n",
        "                          y_validate_imdb, \n",
        "                          learning_rate=0.005,\n",
        "                          max_iter=3000,\n",
        "                          batch_size=100,\n",
        "                          lambda_=0.05,\n",
        "                          epsilon=0.003,\n",
        "                          compute_ce = False)\n",
        "\n",
        "# Predict using test dataset\n",
        "y_pred_logreg = fit.predict(X_test_imdb)\n",
        "\n",
        "# Get false positive and true positive rates for logisitc regression\n",
        "fpr_logreg, tpr_logreg, _ = roc_curve(y_test_imdb, y_pred_logreg)\n",
        "# Get AUC for logisitc regression\n",
        "auc_logreg = roc_auc_score(y_test_imdb, y_pred_logreg)\n",
        "\n",
        "\n",
        "# Instanciate KNN for binary classification\n",
        "knn_imdb = KNeighborsClassifier(n_neighbors=22, weights='uniform')\n",
        "knn_imdb_fit = knn_imdb.fit(knn_X_train_imdb, knn_y_train_imdb)\n",
        "\n",
        "# Compute the hard training predictions\n",
        "y_pred_knn = knn_imdb_fit.predict_proba(X_test_imdb)\n",
        "\n",
        "# Get false positive and true positive rates for knn\n",
        "# Here we only select the probability estimates of the positive class\n",
        "# because that's the required input for roc_curve()\n",
        "fpr_knn, tpr_knn, _ = roc_curve(y_test_imdb, y_pred_knn[:, 1])\n",
        "# Get AUC for knn\n",
        "auc_knn = roc_auc_score(y_test_imdb, y_pred_knn[:, 1])\n",
        "\n",
        "# Plot configuration\n",
        "fig = plt.figure()\n",
        "\n",
        "# plot the roc curve for the Logistic Regression and KNN models\n",
        "plt.plot(fpr_logreg[:-1:160], tpr_logreg[:-1:160], marker='.', linestyle=\"--\", lw=0.5, color='red', label=\"Logisitc Regression\")\n",
        "plt.plot(fpr_knn, tpr_knn, marker='.', linestyle=\"--\", lw=0.5, color='blue', label=\"KNN\")\n",
        "\n",
        "plt.text(0.7, 0.3, 'Logisitc AUC: '+str(round(auc_logreg,3)))\n",
        "plt.text(0.7, 0.2, 'KNN AUC: '+str(round(auc_knn,3)))\n",
        "\n",
        "plt.title(\"ROC of KNN and Logistic Regression Classifiers\")\n",
        "plt.xlabel(\"False Positive Rate\")\n",
        "plt.ylabel(\"True Positive Rate\")\n",
        "plt.legend(loc='upper center', bbox_to_anchor=(0.75, 0.6))\n",
        "plt.show()"
      ]
    },
    {
      "cell_type": "markdown",
      "metadata": {
        "id": "wgLCVsTtI5Zp"
      },
      "source": [
        "We can see that the ROCAUC of Logistic Regression is `93.8%` while the ROCAUC of KNN is `79.5%`. Our Logistic Regression model outperforms KNN on the classification task on the IMDB dataset by approximately `10%` based on the AUROC result.\n",
        "\n",
        "Note that sklearn function `roc_curve` returns us unique values for the false positive and true positive rates and we end up with 5120 unique values for the logistic regression and only 24 for the KNN. This is why the red curve appears bolder than the blue one. In order to produce a visually better plot, we will only plot every 160th (FPR, TPR) value for the logistic regression."
      ]
    },
    {
      "cell_type": "markdown",
      "metadata": {
        "id": "p8hNVs-8hI4l"
      },
      "source": [
        "### 4.5.1 Accuracy comparison between KNN and Logistic Regression\n",
        "\n",
        "Here we will compare the training and testing accuracies of sklearn's KNN and logistic regression models. Note that we will not have a validation accuracy comparison since we are already instantiating the two models with the optimal hyperparameters. "
      ]
    },
    {
      "cell_type": "code",
      "execution_count": null,
      "metadata": {
        "colab": {
          "base_uri": "https://localhost:8080/"
        },
        "id": "QqvMUrk_hI4l",
        "outputId": "66c2da3c-8bba-4623-ca78-ca98e8117167"
      },
      "outputs": [
        {
          "output_type": "stream",
          "name": "stdout",
          "text": [
            "The training accuracy of KNN on IMDB data is 75.3%.\n",
            "The testing accuracy of KNN on IMDB data is 71.1%.\n",
            "The training accuracy of Logistic Regression on IMDB data is 87.5%.\n",
            "The testing accuracy of Logistic Regression on IMDB data is 86.7%.\n"
          ]
        }
      ],
      "source": [
        "# KNN accuracies\n",
        "print(f'The training accuracy of KNN on IMDB data is {round(accuracy_score(knn_y_train_imdb, knn_imdb_train_pred), 3) * 100}%.')\n",
        "print(f'The testing accuracy of KNN on IMDB data is {round(accuracy_score(y_test_imdb, knn_imdb_test_pred), 3) * 100}%.')\n",
        "\n",
        "# Compute the training predictions of Logistic Regression\n",
        "y_pred_train_logreg = fit.predict(X_train_imdb)\n",
        "\n",
        "# Compute Logistic Regression accuracy\n",
        "print(f'The training accuracy of Logistic Regression on IMDB data is {round(accuracy_binary(y_train_imdb, y_pred_train_logreg), 3) * 100}%.')\n",
        "print(f'The testing accuracy of Logistic Regression on IMDB data is {round(accuracy_binary(y_test_imdb, y_pred_logreg), 3) * 100}%.')"
      ]
    },
    {
      "cell_type": "markdown",
      "metadata": {
        "id": "0Yj8qNSiGvtm"
      },
      "source": [
        "We can summarize the accuracies as follows:\n",
        "* Training accuracy: `75.3%` for KNN and `87.5%` for Logistic regression\n",
        "* Testing accuracy: `71.1%` for KNN and `86.7%` for Logistic regression\n",
        "\n",
        "We can see that our model outperforms sklearn's KNN on binary classification task by approximately `10%` based on the testing accuracy, similarly to the AUROC result."
      ]
    },
    {
      "cell_type": "markdown",
      "metadata": {
        "id": "-SuE_--VhI4m"
      },
      "source": [
        "## 4.6 Analyze and compare multiclass regression to KNN on 20-news-group-dataset"
      ]
    },
    {
      "cell_type": "markdown",
      "metadata": {
        "id": "AcVNtgxihI4m"
      },
      "source": [
        "In this section, we will compare the Multiclass Regression and the multiclass KNN classifiers. We will use the best hyperparameters found in the previous sections and compare the testing and training accuracies of the two models. Moreover, we will compute the true positive and false positive rates by visualizing the ROC curves for each predicted class. This way, we will be able to see which class is predicted better or worse."
      ]
    },
    {
      "cell_type": "markdown",
      "metadata": {
        "id": "Ev5YBfgVN2LB"
      },
      "source": [
        "### 4.6.1 ROC of classification on 20-news-groups data for each class"
      ]
    },
    {
      "cell_type": "markdown",
      "metadata": {
        "id": "QXtQi8L4T_3U"
      },
      "source": [
        "We will illustrate the ROC curves of KNN multiclass classifier, with the best hyperparameter `k=1`. "
      ]
    },
    {
      "cell_type": "code",
      "execution_count": null,
      "metadata": {
        "colab": {
          "base_uri": "https://localhost:8080/",
          "height": 893
        },
        "id": "qbweC6r-PP0X",
        "outputId": "de82d5af-5992-4530-e65e-a082b352638b"
      },
      "outputs": [
        {
          "output_type": "display_data",
          "data": {
            "text/plain": [
              "<Figure size 1440x1080 with 4 Axes>"
            ],
            "image/png": "[encoded data removed]"
          },
          "metadata": {
            "needs_background": "light"
          }
        }
      ],
      "source": [
        "# Instantiate the Multiclass Regression model\n",
        "multireg = Multinomial_logistic(verbose=False)\n",
        "\n",
        "# Fit multiclass regression model using best hyperparameters \n",
        "fit, _, _, _ = multireg.fit(X_train_twenty, \n",
        "                            y_train_twenty, \n",
        "                            X_validate_twenty, \n",
        "                            y_validate_twenty, \n",
        "                            learning_rate=0.005, \n",
        "                            epsilon=0.003, \n",
        "                            max_iter=2000, \n",
        "                            batch_size=100, \n",
        "                            lambda_=0.05,\n",
        "                            compute_ce = False)\n",
        "\n",
        "\n",
        "# Predict using test dataset\n",
        "y_pred_multireg = fit.predict(X_test_twenty)\n",
        "\n",
        "# Get false positive and true positive rates and auc for multiclass regression \n",
        "\n",
        "# Class 0\n",
        "fpr_multireg_0, tpr_multireg_0, _ = roc_curve(y_test_twenty[:, 0], y_pred_multireg[:, 0])\n",
        "auc_multireg_0 = roc_auc_score(y_test_twenty[:, 0], y_pred_multireg[:, 0])\n",
        "\n",
        "# Class 1\n",
        "fpr_multireg_1, tpr_multireg_1, _ = roc_curve(y_test_twenty[:, 1], y_pred_multireg[:, 1])\n",
        "auc_multireg_1 = roc_auc_score(y_test_twenty[:, 1], y_pred_multireg[:, 1])\n",
        "\n",
        "# Class 2\n",
        "fpr_multireg_2, tpr_multireg_2, _ = roc_curve(y_test_twenty[:, 2], y_pred_multireg[:, 2])\n",
        "auc_multireg_2 = roc_auc_score(y_test_twenty[:, 2], y_pred_multireg[:, 2])\n",
        "\n",
        "# Class 3\n",
        "fpr_multireg_3, tpr_multireg_3, _ = roc_curve(y_test_twenty[:, 3], y_pred_multireg[:, 3])\n",
        "auc_multireg_3 = roc_auc_score(y_test_twenty[:, 3], y_pred_multireg[:, 3])\n",
        "\n",
        "\n",
        "# Instanciate KNN for multiclass classification\n",
        "knn_twenty = KNeighborsClassifier(n_neighbors=1, weights='uniform')\n",
        "knn_twenty_fit = knn_twenty.fit(knn_X_train_twenty, knn_y_train_twenty)\n",
        "\n",
        "# Compute the hard training predictions\n",
        "y_pred_knn_twenty = knn_twenty_fit.predict_proba(X_test_twenty)\n",
        "\n",
        "# Get false positive and true positive rates and auc for KNN\n",
        "\n",
        "# Class 0\n",
        "fpr_knn_0, tpr_knn_0, _ = roc_curve(y_test_twenty[:, 0], y_pred_knn_twenty[0][:, 1])\n",
        "auc_knn_0 = roc_auc_score(y_test_twenty[:, 0], y_pred_knn_twenty[0][:, 1])\n",
        "\n",
        "# Class 1\n",
        "fpr_knn_1, tpr_knn_1, _ = roc_curve(y_test_twenty[:, 1], y_pred_knn_twenty[1][:, 1])\n",
        "auc_knn_1 = roc_auc_score(y_test_twenty[:, 1], y_pred_knn_twenty[1][:, 1])\n",
        "\n",
        "\n",
        "# Class 2\n",
        "fpr_knn_2, tpr_knn_2, _ = roc_curve(y_test_twenty[:, 2], y_pred_knn_twenty[2][:, 1])\n",
        "auc_knn_2 = roc_auc_score(y_test_twenty[:, 2], y_pred_knn_twenty[2][:, 1])\n",
        "\n",
        "\n",
        "# Class 3\n",
        "fpr_knn_3, tpr_knn_3, _ = roc_curve(y_test_twenty[:, 3], y_pred_knn_twenty[3][:, 1])\n",
        "auc_knn_3 = roc_auc_score(y_test_twenty[:, 3], y_pred_knn_twenty[3][:, 1])\n",
        "\n",
        "\n",
        "# Plot configuration\n",
        "plt.figure(figsize=(20, 15))\n",
        "\n",
        "# plot the roc curve for the Multiclass Regression and KNN models\n",
        "\n",
        "# Class 0\n",
        "plt.subplot(2, 2, 1)\n",
        "plt.plot(fpr_multireg_0, tpr_multireg_0, marker='.', linestyle=\"--\", lw=0.5, color='red', label=\"Logisitc Regression\")\n",
        "plt.plot(fpr_knn_0, tpr_knn_0, marker='.', linestyle=\"--\", lw=0.5, color='blue', label=\"KNN\")\n",
        "\n",
        "plt.text(0.7, 0.3, 'Logisitc AUC: {:.3f}.'.format(round(auc_multireg_0,3)))\n",
        "plt.text(0.7, 0.2, 'KNN AUC: {:.3f}.'.format(round(auc_knn_0,3)))\n",
        "plt.title(\"ROC of KNN and Multiclass Regression for Class \\\"Graphics\\\"\")\n",
        "plt.xlabel(\"False Positive Rate\")\n",
        "plt.ylabel(\"True Positive Rate\")\n",
        "plt.legend(loc='upper center', bbox_to_anchor=(0.75, 0.6))\n",
        "\n",
        "\n",
        "# Class 1\n",
        "plt.subplot(2, 2, 2)\n",
        "plt.plot(fpr_multireg_1, tpr_multireg_1, marker='.', linestyle=\"--\", lw=0.5, color='red', label=\"Logisitc Regression\")\n",
        "plt.plot(fpr_knn_1, tpr_knn_1, marker='.', linestyle=\"--\", lw=0.5, color='blue', label=\"KNN\")\n",
        "\n",
        "plt.text(0.7, 0.3, 'Logisitc AUC: {:.3f}.'.format(round(auc_multireg_1,3)))\n",
        "plt.text(0.7, 0.2, 'KNN AUC: {:.3f}.'.format(round(auc_knn_1,3)))\n",
        "plt.title(\"ROC of KNN and Multiclass Regression for Class \\\"Hockey\\\"\")\n",
        "plt.xlabel(\"False Positive Rate\")\n",
        "plt.ylabel(\"True Positive Rate\")\n",
        "plt.legend(loc='upper center', bbox_to_anchor=(0.75, 0.6))\n",
        "\n",
        "\n",
        "# Class 2\n",
        "plt.subplot(2, 2, 3)\n",
        "plt.plot(fpr_multireg_2, tpr_multireg_2, marker='.', linestyle=\"--\", lw=0.5, color='red', label=\"Logisitc Regression\")\n",
        "plt.plot(fpr_knn_2, tpr_knn_2, marker='.', linestyle=\"--\", lw=0.5, color='blue', label=\"KNN\")\n",
        "\n",
        "plt.text(0.7, 0.3, 'Logisitc AUC: {:3f}.'.format(round(auc_multireg_2,3)))\n",
        "plt.text(0.7, 0.2, 'KNN AUC: {:.3f}.'.format(round(auc_knn_2,3)))\n",
        "plt.title(\"ROC of KNN and Multiclass Regression for Class \\\"Med\\\"\")\n",
        "plt.xlabel(\"False Positive Rate\")\n",
        "plt.ylabel(\"True Positive Rate\")\n",
        "plt.legend(loc='upper center', bbox_to_anchor=(0.75, 0.6))\n",
        "\n",
        "\n",
        "# Class 3\n",
        "plt.subplot(2, 2, 4)\n",
        "plt.plot(fpr_multireg_3, tpr_multireg_3, marker='.', linestyle=\"--\", lw=0.5, color='red', label=\"Logisitc Regression\")\n",
        "plt.plot(fpr_knn_3, tpr_knn_3, marker='.', linestyle=\"--\", lw=0.5, color='blue', label=\"KNN\")\n",
        "\n",
        "plt.text(0.7, 0.3, 'Logisitc AUC: {:.3f}.'.format(round(auc_multireg_3,3)))\n",
        "plt.text(0.7, 0.2, 'KNN AUC: {:.3f}.'.format(round(auc_knn_3,3)))\n",
        "plt.title(\"ROC of KNN and Multiclass Regression for Class \\\"Christian\\\"\")\n",
        "plt.xlabel(\"False Positive Rate\")\n",
        "plt.ylabel(\"True Positive Rate\")\n",
        "plt.legend(loc='upper center', bbox_to_anchor=(0.75, 0.6))\n",
        "\n",
        "\n",
        "plt.show()"
      ]
    },
    {
      "cell_type": "markdown",
      "metadata": {
        "id": "LgrwlH0ifPV6"
      },
      "source": [
        "We can see that for each class, our Multiclass Classification model predicts approximately 10% to 20% higher AUROC scores than sklearn KNN model on multiclass classification task on 20-news-group dataset. Therefore, our model outperforms KNN."
      ]
    },
    {
      "cell_type": "markdown",
      "metadata": {
        "id": "7qjhTLgpN8sY"
      },
      "source": [
        "### 4.6.2 Accuracy comparison between KNN and Multiclass Regression"
      ]
    },
    {
      "cell_type": "markdown",
      "metadata": {
        "id": "WGrry4EwaFzL"
      },
      "source": [
        "We will compare accuracies using hard predictions and the optimal hyperparameters for the KNN (i.e. `k=1`) and Multiclass Regression models. "
      ]
    },
    {
      "cell_type": "code",
      "execution_count": null,
      "metadata": {
        "colab": {
          "base_uri": "https://localhost:8080/"
        },
        "id": "aqC4bNBbOEnS",
        "outputId": "cfd95b92-2e49-405b-bb9b-9e6787ab1023"
      },
      "outputs": [
        {
          "output_type": "stream",
          "name": "stdout",
          "text": [
            "The training accuracy of KNN on 20 news groups data is 97.6%.\n",
            "The testing accuracy of KNN on 20 news groups data is 65.0%.\n",
            "The training accuracy of Multiclass Regression on 20 news groups data is 89.0%.\n",
            "The testing accuracy of Multiclass Regression on 20 news groups data is 82.4%.\n"
          ]
        }
      ],
      "source": [
        "# Compute the accuracy of the multiclass KNN \n",
        "print(f'The training accuracy of KNN on 20 news groups data is {round(accuracy_score(knn_y_train_twenty, knn_twenty_train_pred), 3) * 100}%.')\n",
        "print(f'The testing accuracy of KNN on 20 news groups data is {round(accuracy_score(y_test_twenty, knn_twenty_test_pred), 3) * 100}%.')\n",
        "\n",
        "# Compute the training predictions of Multiclass Regression\n",
        "y_pred_train_multireg = fit.predict(X_train_twenty)\n",
        "\n",
        "# Compute Logistic Regression accuracy\n",
        "print(f'The training accuracy of Multiclass Regression on 20 news groups data is {round(accuracy_multiclass(y_train_twenty, y_pred_train_multireg), 3) * 100}%.')\n",
        "print('The testing accuracy of Multiclass Regression on 20 news groups data is {:.1f}%.'.format(round(accuracy_multiclass(y_test_twenty, y_pred_multireg), 3) * 100))"
      ]
    },
    {
      "cell_type": "markdown",
      "metadata": {
        "id": "ASoiQqXdg2di"
      },
      "source": [
        "We can summarize the accuracies as follows:\n",
        "* Training accuracy: `97.6%` for KNN and `89.0%` for Multiclass regression\n",
        "* Testing accuracy: `65.0%` for KNN and `82.4%` for Multiclass regression\n",
        "\n",
        "As mentioned previously, since `GridSearchCV` yielded `k=1` for the optimal number of neighbors, the training accuracty for the KNN model is very high at `97.6%`. This is because it is predicting the class based on the label of a single nearest neighbor. However, the testing accuracy of the KNN is very low at `65.0%`. In contrast, our Multiclass Regression model has both training and testing accuracies at `89.0%` and `82.4%` respectively. We can therefore conclude that our Multiclass Regression model outperforms sklearn KNN for multiclass classification task by approximately `15%` based on the testing accuracy.  "
      ]
    },
    {
      "cell_type": "markdown",
      "metadata": {
        "id": "qMNdUehhIScX"
      },
      "source": [
        "\n",
        "## 4.7 Analyzing model accuracy as a function of training dataset size"
      ]
    },
    {
      "cell_type": "markdown",
      "metadata": {
        "id": "1c0RBC8OElxQ"
      },
      "source": [
        "We now compare the accuracy of the two models as a function of the size\n",
        "of dataset (by controlling the training size). We will randomly select 20%,\n",
        "40%, 60% and 80% of the available training data and train both models on these distinct subsets. We will then evaluate the trained models by plotting the accuracies depending on the size for training, validation and test sets.\n",
        "\n",
        "We create an array to store the different sizes of the training dataset."
      ]
    },
    {
      "cell_type": "code",
      "execution_count": null,
      "metadata": {
        "id": "XWxfGIriCFAS"
      },
      "outputs": [],
      "source": [
        "# Array storing the different sizes of the training dataset to compare accuracies\n",
        "training_sizes = [0.2, 0.4, 0.6, 0.8, 1]"
      ]
    },
    {
      "cell_type": "markdown",
      "metadata": {
        "id": "EQK1iaH2Bt0O"
      },
      "source": [
        "### 4.7.1 Logistic regression"
      ]
    },
    {
      "cell_type": "markdown",
      "metadata": {
        "id": "MWvtIqpWEGkp"
      },
      "source": [
        "We will evaluate how the accuracy of logistic regression & KNN varies if we change the size of the training data. We will start by training with different sizes using the optimal hyperparameters from section 3."
      ]
    },
    {
      "cell_type": "code",
      "execution_count": null,
      "metadata": {
        "id": "68YHvPVU6umh"
      },
      "outputs": [],
      "source": [
        "# Since we validated already, we restore the full training set\n",
        "X_train_full = np.vstack((X_train_imdb, X_validate_imdb))\n",
        "y_train_full = np.concatenate((y_train_imdb, y_validate_imdb))\n",
        "\n",
        "# To hold the accuracies corresponding to each size\n",
        "training_accuracies_logistic = test_accuracies_logistic = np.empty(0)\n",
        "training_accuracies_knn = test_accuracies_knn = np.empty(0)\n",
        "\n",
        "# To hold the AUROCs corresponding to each size\n",
        "AUROCs_logistic = np.empty(0)\n",
        "AUROCs_knn = np.empty(0)\n",
        "\n",
        "# Loop over each possible training size\n",
        "for i in training_sizes:\n",
        "  \n",
        "  # Split the training data we obtain after the pre-processing using the sizes stored in the array: 20%, 40%, 60% and 80%\n",
        "  if i != 1: _, X_train, _, y_train = train_test_split(X_train_full, y_train_full, test_size = i, random_state=5, shuffle = True)\n",
        "  else: X_train, y_train = X_train_full, y_train_full\n",
        "  \n",
        "  # Fit the model with the optimal hyperparameters found before\n",
        "  model, _, _, _ = LogisticRegression(verbose=False).fit(X_train,\n",
        "                                                         y_train,\n",
        "                                                         np.empty(0), \n",
        "                                                         np.empty(0), \n",
        "                                                         learning_rate=0.005,\n",
        "                                                         max_iter=3000,\n",
        "                                                         batch_size=100,\n",
        "                                                         lambda_=0.05,\n",
        "                                                         epsilon=0.003,\n",
        "                                                         compute_ce = False\n",
        "                                                        ) \n",
        "  \n",
        "  # Fit KNN with the optimal hyperparameter found before\n",
        "  knn_fit = KNeighborsClassifier(n_neighbors=22, weights = \"uniform\").fit(X_train, y_train)\n",
        "\n",
        "  # Predict the AUROCs of the positive class using KNN (For AUROC later)\n",
        "  AUROCs_logistic = np.append(AUROCs_logistic, roc_auc_score(y_test_imdb, model.predict(X_test_imdb)))\n",
        "  AUROCs_knn = np.append(AUROCs_knn, roc_auc_score(y_test_imdb, knn_fit.predict_proba(X_test_imdb)[:, 1]))\n",
        "\n",
        "  # Evaluate the accuracy on training and testing datasets and append the results to the corresponding arrays\n",
        "  training_accuracies_logistic = np.append(training_accuracies_logistic, accuracy_binary(y_train, model.predict(X_train)))\n",
        "  test_accuracies_logistic = np.append(test_accuracies_logistic, accuracy_binary(y_test_imdb, model.predict(X_test_imdb)))\n",
        "  training_accuracies_knn = np.append(training_accuracies_knn, accuracy_score(y_train, knn_fit.predict(X_train)))\n",
        "  test_accuracies_knn= np.append(test_accuracies_knn, accuracy_score(y_test_imdb, knn_fit.predict(X_test_imdb)))"
      ]
    },
    {
      "cell_type": "markdown",
      "metadata": {
        "id": "McwDXQ6QQmrB"
      },
      "source": [
        "We will now proceed to plot the results as a line plot."
      ]
    },
    {
      "cell_type": "code",
      "execution_count": null,
      "metadata": {
        "colab": {
          "base_uri": "https://localhost:8080/",
          "height": 312
        },
        "id": "WNc1K9OyqBfV",
        "outputId": "79fbf1ba-a9f2-4973-fe83-4d74384776bb"
      },
      "outputs": [
        {
          "output_type": "execute_result",
          "data": {
            "text/plain": [
              "Text(0.5, 1.0, 'Accuracy depending on the training size')"
            ]
          },
          "metadata": {},
          "execution_count": 86
        },
        {
          "output_type": "display_data",
          "data": {
            "text/plain": [
              "<Figure size 432x288 with 1 Axes>"
            ],
            "image/png": "[encoded data removed]"
          },
          "metadata": {
            "needs_background": "light"
          }
        }
      ],
      "source": [
        "# Plot the training accuracies depending on the training data size\n",
        "plt.plot(training_sizes, training_accuracies_logistic, linewidth=2.0, label=\"Training accuracy for Logistic Regression\")\n",
        "plt.plot(training_sizes, training_accuracies_knn, linewidth=2.0, label=\"Training accuracy for KNN\")\n",
        "\n",
        "# Plot the testing accuracies depending on the training data size\n",
        "plt.plot(training_sizes, test_accuracies_logistic, linewidth=2.0, label=\"Testing accuracy for Logistic Regression\")\n",
        "plt.plot(training_sizes, test_accuracies_knn, linewidth=2.0, label=\"Testing accuracy for KNN\")\n",
        "\n",
        "# Label the graph\n",
        "plt.xlabel('Training size')\n",
        "plt.ylabel('Accuracy')\n",
        "plt.legend(loc=\"best\")\n",
        "plt.title(\"Accuracy depending on the training size\")"
      ]
    },
    {
      "cell_type": "markdown",
      "metadata": {
        "id": "Cq7T0jNpTtpX"
      },
      "source": [
        "Plotting those same results as a bar plot, we get:"
      ]
    },
    {
      "cell_type": "code",
      "execution_count": null,
      "metadata": {
        "colab": {
          "base_uri": "https://localhost:8080/",
          "height": 312
        },
        "id": "fDVSS0jQTi7f",
        "outputId": "675c6fbb-1840-4c51-a09a-c428397f6a54"
      },
      "outputs": [
        {
          "output_type": "execute_result",
          "data": {
            "text/plain": [
              "Text(0.5, 1.0, 'Accuracy depending on the training size')"
            ]
          },
          "metadata": {},
          "execution_count": 87
        },
        {
          "output_type": "display_data",
          "data": {
            "text/plain": [
              "<Figure size 432x288 with 1 Axes>"
            ],
            "image/png": "[encoded data removed]"
          },
          "metadata": {
            "needs_background": "light"
          }
        }
      ],
      "source": [
        "# To plot the different bars\n",
        "ind = np.arange(5)\n",
        "\n",
        "# Plot the training accuracies depending on the training data size\n",
        "plt.bar(ind-0.2, training_accuracies_logistic, width=0.1, label=\"Logistic Regression Training Accuracy\")\n",
        "plt.bar(ind-0.1, training_accuracies_knn, width=0.1, label=\"KNN Training Accuracy\")\n",
        "\n",
        "# Plot the testing accuracies depending on the training data size\n",
        "plt.bar(ind, test_accuracies_logistic, width=0.1, label=\"Logistic Regression Testing Accuracy\")\n",
        "plt.bar(ind+0.1, test_accuracies_knn, width=0.1, label=\"KNN Testing Accuracy\")\n",
        "\n",
        "# Set the labels of the x-axis\n",
        "plt.xticks(ind-0.1, labels=training_sizes)\n",
        "\n",
        "# Label the graph\n",
        "plt.xlabel('Training size')\n",
        "plt.ylabel('Accuracy')\n",
        "plt.legend(loc=\"lower right\")\n",
        "plt.title(\"Accuracy depending on the training size\")"
      ]
    },
    {
      "cell_type": "markdown",
      "metadata": {
        "id": "bcnFPVMAFFiC"
      },
      "source": [
        "Using the above charts, we notice that for logistic regression training accuracy decreases as the training set size increases. While the testing accuracy increases as the training set size increases. Conversely, for KNN, both the training and testing accuracies increase as the training set size increases."
      ]
    },
    {
      "cell_type": "markdown",
      "metadata": {
        "id": "qpmXvFpZRxKW"
      },
      "source": [
        "Finally, we will plot the AUROC's of KNN and Logistic Regression as a function of the training set size, in bar plot form."
      ]
    },
    {
      "cell_type": "code",
      "execution_count": null,
      "metadata": {
        "colab": {
          "base_uri": "https://localhost:8080/",
          "height": 312
        },
        "id": "EkTWi_KnR2pt",
        "outputId": "9799baf6-900b-4daf-8edc-77e33f2c0b2b"
      },
      "outputs": [
        {
          "output_type": "execute_result",
          "data": {
            "text/plain": [
              "Text(0.5, 1.0, 'AUROCs depending on the training size')"
            ]
          },
          "metadata": {},
          "execution_count": 88
        },
        {
          "output_type": "display_data",
          "data": {
            "text/plain": [
              "<Figure size 432x288 with 1 Axes>"
            ],
            "image/png": "[encoded data removed]"
          },
          "metadata": {
            "needs_background": "light"
          }
        }
      ],
      "source": [
        "# To plot the different bars\n",
        "ind = np.arange(5)\n",
        "\n",
        "# Plot the Logistic Regression AUROCs depending on the training data size\n",
        "plt.bar(ind-0.1, AUROCs_logistic, width=0.1, label=\"Logistic Regression AUROC\")\n",
        "\n",
        "# Plot the KNN AUROCs depending on the training data size\n",
        "plt.bar(ind, AUROCs_knn, width=0.1, label=\"KNN AUROC\")\n",
        "# Set the labels of the x-axis\n",
        "plt.xticks(ind-0.05, labels=training_sizes)\n",
        "\n",
        "# Label the graph\n",
        "plt.xlabel('Training size')\n",
        "plt.ylabel('AUROC')\n",
        "plt.legend(loc=\"lower right\")\n",
        "plt.title(\"AUROCs depending on the training size\")"
      ]
    },
    {
      "cell_type": "markdown",
      "metadata": {
        "id": "LuZR3vudTdWj"
      },
      "source": [
        "Plotting them as line plots to better see the differences:"
      ]
    },
    {
      "cell_type": "code",
      "execution_count": null,
      "metadata": {
        "colab": {
          "base_uri": "https://localhost:8080/",
          "height": 312
        },
        "id": "LOjA0jZqTEGJ",
        "outputId": "e70a5c7c-6a23-4b46-9b2a-cd870801edb8"
      },
      "outputs": [
        {
          "output_type": "execute_result",
          "data": {
            "text/plain": [
              "Text(0.5, 1.0, 'AUROCs depending on the training size')"
            ]
          },
          "metadata": {},
          "execution_count": 89
        },
        {
          "output_type": "display_data",
          "data": {
            "text/plain": [
              "<Figure size 432x288 with 1 Axes>"
            ],
            "image/png": "[encoded data removed]"
          },
          "metadata": {
            "needs_background": "light"
          }
        }
      ],
      "source": [
        "# Plot the KNN AUROC depending on the training data size\n",
        "plt.plot(training_sizes, AUROCs_knn, linewidth=2.0, label=\"KNN AUROC\")\n",
        "\n",
        "# Plot the Logistic Regression AUROC depending on the training data size\n",
        "plt.plot(training_sizes, AUROCs_logistic, linewidth=2.0, label=\"Logistic Regression AUROC\")\n",
        "\n",
        "# Label the graph\n",
        "plt.xlabel('Training size')\n",
        "plt.ylabel('AUROC')\n",
        "plt.legend(loc=\"best\")\n",
        "plt.title(\"AUROCs depending on the training size\")\n"
      ]
    },
    {
      "cell_type": "markdown",
      "metadata": {
        "id": "Fdxx994tT0TB"
      },
      "source": [
        "We can see that both increase, as expected, since more data means better testing accuracy."
      ]
    },
    {
      "cell_type": "markdown",
      "metadata": {
        "id": "XyYf_xMKBzWF"
      },
      "source": [
        "### 4.7.2 Multiclass Regression"
      ]
    },
    {
      "cell_type": "markdown",
      "metadata": {
        "id": "kyk2FB_AV86S"
      },
      "source": [
        "We will now evaluate how the accuracy of multicass regression & KNN varies if we change the size of the training data. We will start by training with different sizes using the optimal hyperparameters from section 3."
      ]
    },
    {
      "cell_type": "code",
      "execution_count": null,
      "metadata": {
        "id": "qCw3jLytV86T"
      },
      "outputs": [],
      "source": [
        "# Since we validated already, we restore the full training set\n",
        "X_train_full = np.vstack((X_train_twenty, X_validate_twenty))\n",
        "y_train_full = np.concatenate((y_train_twenty, y_validate_twenty))\n",
        "\n",
        "# To hold the accuracies corresponding to each size\n",
        "training_accuracies_multiclass = test_accuracies_multiclass = np.empty(0)\n",
        "training_accuracies_knn = test_accuracies_knn = np.empty(0)\n",
        "\n",
        "# Loop over each possible training size\n",
        "for i in training_sizes:\n",
        "  \n",
        "  # Split the training data we obtain after the pre-processing using the sizes stored in the array: 20%, 40%, 60% and 80%\n",
        "  if i != 1: _, X_train, _, y_train = train_test_split(X_train_full, y_train_full, test_size = i, random_state=5, shuffle = True)\n",
        "  else: X_train, y_train = X_train_full, y_train_full\n",
        "  \n",
        "  # Fit the model with the optimal hyperparameters found before\n",
        "  model, _, _, _ = Multinomial_logistic(verbose=False).fit(X_train,\n",
        "                                                         y_train,\n",
        "                                                         np.empty(0), \n",
        "                                                         np.empty(0), \n",
        "                                                         learning_rate=0.005,\n",
        "                                                         max_iter=2000,\n",
        "                                                         batch_size=100,\n",
        "                                                         lambda_=0.05,\n",
        "                                                         epsilon=0.003,\n",
        "                                                         compute_ce = False\n",
        "                                                        ) \n",
        "  \n",
        "  # Fit KNN with the optimal hyperparameter found before\n",
        "  knn_fit = KNeighborsClassifier(n_neighbors=1, weights = \"uniform\").fit(X_train, y_train)\n",
        "\n",
        "  # Evaluate the accuracy on training and testing datasets and append the results to the corresponding arrays\n",
        "  training_accuracies_multiclass = np.append(training_accuracies_multiclass, accuracy_multiclass(y_train, model.predict(X_train)))\n",
        "  test_accuracies_multiclass = np.append(test_accuracies_multiclass, accuracy_multiclass(y_test_twenty, model.predict(X_test_twenty)))\n",
        "  training_accuracies_knn = np.append(training_accuracies_knn, accuracy_score(y_train, knn_fit.predict(X_train)))\n",
        "  test_accuracies_knn= np.append(test_accuracies_knn, accuracy_score(y_test_twenty, knn_fit.predict(X_test_twenty)))"
      ]
    },
    {
      "cell_type": "markdown",
      "metadata": {
        "id": "CQrUmeo3V86V"
      },
      "source": [
        "We will now proceed to plot the results as a line plot."
      ]
    },
    {
      "cell_type": "code",
      "execution_count": null,
      "metadata": {
        "colab": {
          "base_uri": "https://localhost:8080/",
          "height": 312
        },
        "id": "jrchfqIRV86V",
        "outputId": "aa33c4e1-59b5-4e26-9d87-64f07264ecfc"
      },
      "outputs": [
        {
          "output_type": "execute_result",
          "data": {
            "text/plain": [
              "Text(0.5, 1.0, 'Accuracy depending on the training size')"
            ]
          },
          "metadata": {},
          "execution_count": 91
        },
        {
          "output_type": "display_data",
          "data": {
            "text/plain": [
              "<Figure size 432x288 with 1 Axes>"
            ],
            "image/png": "[encoded data removed]"
          },
          "metadata": {
            "needs_background": "light"
          }
        }
      ],
      "source": [
        "# Plot the training accuracies depending on the training data size\n",
        "plt.plot(training_sizes, training_accuracies_multiclass, linewidth=2.0, label=\"Training accuracy for Multiclass Regression\")\n",
        "plt.plot(training_sizes, training_accuracies_knn, linewidth=2.0, label=\"Training accuracy for KNN\")\n",
        "\n",
        "# Plot the testing accuracies depending on the training data size\n",
        "plt.plot(training_sizes, test_accuracies_multiclass, linewidth=2.0, label=\"Testing accuracy for Multiclass Regression\")\n",
        "plt.plot(training_sizes, test_accuracies_knn, linewidth=2.0, label=\"Testing accuracy for KNN\")\n",
        "\n",
        "# Label the graph\n",
        "plt.xlabel('Training size')\n",
        "plt.ylabel('Accuracy')\n",
        "plt.legend(loc=\"best\")\n",
        "plt.title(\"Accuracy depending on the training size\")"
      ]
    },
    {
      "cell_type": "markdown",
      "metadata": {
        "id": "xEXIHAY8V86V"
      },
      "source": [
        "Plotting those same results as a bar plot, we get:"
      ]
    },
    {
      "cell_type": "code",
      "execution_count": null,
      "metadata": {
        "colab": {
          "base_uri": "https://localhost:8080/",
          "height": 312
        },
        "id": "f4BUX74GV86W",
        "outputId": "2463f4ca-9daa-4e07-c099-aba62086f264"
      },
      "outputs": [
        {
          "output_type": "execute_result",
          "data": {
            "text/plain": [
              "Text(0.5, 1.0, 'Accuracy depending on the training size')"
            ]
          },
          "metadata": {},
          "execution_count": 92
        },
        {
          "output_type": "display_data",
          "data": {
            "text/plain": [
              "<Figure size 432x288 with 1 Axes>"
            ],
            "image/png": "[encoded data removed]"
          },
          "metadata": {
            "needs_background": "light"
          }
        }
      ],
      "source": [
        "# To plot the different bars\n",
        "ind = np.arange(5)\n",
        "\n",
        "# Plot the training accuracies depending on the training data size\n",
        "plt.bar(ind-0.2, training_accuracies_multiclass, width=0.1, label=\"Multiclass Regression Training Accuracy\")\n",
        "plt.bar(ind-0.1, training_accuracies_knn, width=0.1, label=\"KNN Training Accuracy\")\n",
        "\n",
        "# Plot the testing accuracies depending on the training data size\n",
        "plt.bar(ind, test_accuracies_multiclass, width=0.1, label=\"Multiclass Regression Testing Accuracy\")\n",
        "plt.bar(ind+0.1, test_accuracies_knn, width=0.1, label=\"KNN Testing Accuracy\")\n",
        "\n",
        "# Set the labels of the x-axis\n",
        "plt.xticks(ind-0.1, labels=training_sizes)\n",
        "\n",
        "# Label the graph\n",
        "plt.xlabel('Training size')\n",
        "plt.ylabel('Accuracy')\n",
        "plt.legend(loc=\"lower right\")\n",
        "plt.title(\"Accuracy depending on the training size\")"
      ]
    },
    {
      "cell_type": "markdown",
      "metadata": {
        "id": "IpjSQMgDV86X"
      },
      "source": [
        "Using the above charts, we conclude that, similarly, training accuracy for Multiclass regression decreases as the training set size increases, while testing accuracy increases. Conversely, for KNN, training accuracy stays very high as training set size increases, while testing accuracy seems to increase. This is once again, due to the best `k` hyperparameter yielded by `GridSearchCV` being equal to 1. \n"
      ]
    },
    {
      "cell_type": "markdown",
      "metadata": {
        "id": "5CHMIIamOKCz"
      },
      "source": [
        "From the above experiments, we can conclude that increasing the training set size increases both the training and testing accuracies of KNN, while it increases the testing accuracies of the linear predictors and decreases their training accuracies."
      ]
    },
    {
      "cell_type": "markdown",
      "metadata": {
        "id": "f1y-KaBVcT0y"
      },
      "source": [
        "## 4.8 Heatmap showing the top 5 features of multiclass classification from the 20-news-groups dataset"
      ]
    },
    {
      "cell_type": "markdown",
      "metadata": {
        "id": "u4NK6dwybP7H"
      },
      "source": [
        "We now plot a heatmap showing the top 5 most positive features as rows and 4 chosen classes from the 20-news-groups dataset as columns in the multi-class classification. \n",
        "\n",
        "We use the learned weights in `W` from the multiclass regression model. The W matrix is of the size $D \\times 4$ (i.e. number of features by 4) because we only kept 4 news categories. Then, for each of the 4 classes, we seek out the top 5 values in `W` with the highest weights. The heatmap will then be of $20 \\times 4$ dimension showing the top 5 most positive features for each of the 4 classes."
      ]
    },
    {
      "cell_type": "code",
      "execution_count": null,
      "metadata": {
        "colab": {
          "base_uri": "https://localhost:8080/",
          "height": 609
        },
        "id": "NHMgoFtscsR9",
        "outputId": "f42a664f-6aa3-40c5-dfcf-e65782bd4a55"
      },
      "outputs": [
        {
          "output_type": "stream",
          "name": "stdout",
          "text": [
            "(297, 4)\n"
          ]
        },
        {
          "output_type": "display_data",
          "data": {
            "text/plain": [
              "<Figure size 720x720 with 2 Axes>"
            ],
            "image/png": "[encoded data removed]"
          },
          "metadata": {
            "needs_background": "light"
          }
        }
      ],
      "source": [
        "import seaborn as sns # Heatmaps\n",
        "\n",
        "# Fit the model with the optimal hyperparameters found before\n",
        "model, _, _, _ = Multinomial_logistic(verbose=False).fit(X_train_twenty,\n",
        "                                                      y_train_twenty,\n",
        "                                                      X_validate_twenty,\n",
        "                                                      y_validate_twenty,\n",
        "                                                      learning_rate=0.005,\n",
        "                                                      max_iter=2000,\n",
        "                                                      batch_size=100,\n",
        "                                                      lambda_=0.05,\n",
        "                                                      epsilon=0.003,\n",
        "                                                      compute_ce = False\n",
        "                                                      )\n",
        "\n",
        "learned_weigths = model.W\n",
        "\n",
        "# Remove the bias column\n",
        "learned_weigths = learned_weigths[1:]\n",
        "\n",
        "# Chekc the size of the learned_weigths array (should be (297,4))\n",
        "print(learned_weigths.shape)\n",
        "\n",
        "\n",
        "\n",
        "most_positive_features_matrix = np.empty((20, 4))\n",
        "y_label_map = np.empty(0)\n",
        "\n",
        "i = 0\n",
        "\n",
        "# Iterate over each column of the learned weights matrix\n",
        "for column in learned_weigths.T:\n",
        "  # get 5 highest values in the column\n",
        "  ind = np.argpartition(column, -5)[-5:]\n",
        "\n",
        "  for index in ind:\n",
        "    most_positive_features_matrix[i] = learned_weigths[index]\n",
        "    y_label_map = np.append(y_label_map, feature_names_twenty[index])\n",
        "    i +=1\n",
        "\n",
        "plt.figure(figsize=(10,10))\n",
        "sns.heatmap(most_positive_features_matrix, xticklabels = categories_twenty, yticklabels = y_label_map, cmap=\"Greens\", annot=True) # Draw the heatmap with the mask using the sns library\n",
        "plt.show()"
      ]
    },
    {
      "cell_type": "markdown",
      "metadata": {
        "id": "fR1w3ddrggMR"
      },
      "source": [
        "The 5 most positive features for class Graphics are: file, image, graphics, files and computer. For class Hockey they are: season, nhl, game, hockey, team. For class Med they are: health, msg, doctor, my, disease. Finally for class Christian they are: bible, christian, jesus, god and church. The most important feature of the whole model is \"god\" with weight 4.2. \n",
        "We also notice that categories have very distinct because none of them have the same top positive features."
      ]
    },
    {
      "cell_type": "markdown",
      "metadata": {
        "id": "e3AmK0-ZTJ31"
      },
      "source": [
        "We will also plot the top 5 most negative features per category on a same heatmap."
      ]
    },
    {
      "cell_type": "code",
      "execution_count": null,
      "metadata": {
        "colab": {
          "base_uri": "https://localhost:8080/",
          "height": 592
        },
        "id": "aW5iqs-CkOOH",
        "outputId": "7241b46e-dfa7-45f0-b81e-5c7153f254cb"
      },
      "outputs": [
        {
          "output_type": "display_data",
          "data": {
            "text/plain": [
              "<Figure size 720x720 with 2 Axes>"
            ],
            "image/png": "[encoded data removed]"
          },
          "metadata": {
            "needs_background": "light"
          }
        }
      ],
      "source": [
        "most_negative_features_matrix = np.empty((20, 4))\n",
        "y_label_map = np.empty(0)\n",
        "\n",
        "i = 0\n",
        "\n",
        "# Iterate over each column of the learned weights matrix\n",
        "for column in learned_weigths.T:\n",
        "  # get 5 lowest values in the column\n",
        "  ind = np.argpartition(column, 5)[:5]\n",
        "\n",
        "  for index in ind:\n",
        "    most_negative_features_matrix[i] = learned_weigths[index]\n",
        "    y_label_map = np.append(y_label_map, feature_names_twenty[index])\n",
        "    i +=1\n",
        "\n",
        "plt.figure(figsize=(10,10))\n",
        "sns.heatmap(most_negative_features_matrix, xticklabels = categories_twenty, yticklabels = y_label_map, cmap=\"Greens\", annot=True) # Draw the heatmap with the mask using the sns library\n",
        "plt.show()"
      ]
    },
    {
      "cell_type": "markdown",
      "metadata": {
        "id": "A_doDyS2rxj7"
      },
      "source": [
        "To conclude, the 5 most negative features for class Graphics are: he, his, people, who, they. For class Hockey they are: god, are, graphics, about, there. For class Med they are: god, graphics, church, game, hockey. Finally for class Christian they are: graphics, game, team, hockey and using. Indeed, these words do not hold any semantic relationship with their respective classes.\n"
      ]
    },
    {
      "cell_type": "markdown",
      "metadata": {
        "id": "gkM-De8Fn6ri"
      },
      "source": [
        "# References"
      ]
    },
    {
      "cell_type": "markdown",
      "metadata": {
        "id": "61OJ1mwiNHd3"
      },
      "source": [
        "* [1] https://ai.stanford.edu/~amaas/data/sentiment/\n",
        "\n",
        "* [2] https://stackoverflow.com/questions/66315038/add-1-to-numpy-array-from-a-list-of-indices\n",
        "\n",
        "* [3] https://stackoverflow.com/questions/54413874/zero-several-columns-in-csr-matrix\n",
        "\n",
        "* [4] https://scikit-learn.org/stable/tutorial/text_analytics/working_with_text_data.html\n",
        "\n",
        "* [5] https://towardsdatascience.com/basics-of-countvectorizer-e26677900f9c \n",
        "\n",
        "* [6] https://towardsdatascience.com/tf-idf-explained-and-python-sklearn-implementation-b020c5e83275 \n",
        "\n",
        "* [7] https://towardsdatascience.com/select-features-for-machine-learning-model-with-mutual-information-534fe387d5c8\n",
        "\n",
        "* [8] https://docs.scipy.org/doc/scipy/reference/generated/scipy.sparse.csr_matrix.html\n",
        "\n",
        "* [9] https://arxiv.org/abs/1412.6980\n",
        "\n",
        "* [10] https://www.geeksforgeeks.org/ml-mini-batch-gradient-descent-with-python/\n",
        "\n",
        "* [11] https://towardsdatascience.com/batch-mini-batch-stochastic-gradient-descent-7a62ecba642a\n",
        "\n",
        "* [12] https://madalinabuzau.github.io/2016/11/29/gradient-descent-on-a-softmax-cross-entropy-cost-function.html\n",
        "\n",
        "* [13] https://realpython.com/knn-python/\n",
        "\n"
      ]
    }
  ],
  "metadata": {
    "colab": {
      "provenance": [],
      "collapsed_sections": [
        "A3J-WdCYG1b6",
        "jcJp-fHdGn_N",
        "44eIGGdUG1_f",
        "GTFohxX3HDs_",
        "bKahFPaeHLh1",
        "Hw3eTOpQuifs",
        "C5foTJvlSKjx",
        "_YQvAR4RvSQX",
        "4A14xNK-xY4v",
        "vu4vXeTC-IzN",
        "hRsFPGmCHfab",
        "6caCsZmvdRgv",
        "eib_iTpthI4j",
        "LoIdFLhyhI4k",
        "p8hNVs-8hI4l",
        "-SuE_--VhI4m",
        "Ev5YBfgVN2LB",
        "7qjhTLgpN8sY",
        "EQK1iaH2Bt0O",
        "f1y-KaBVcT0y"
      ],
      "toc_visible": true,
      "include_colab_link": true
    },
    "kernelspec": {
      "display_name": "Python 3",
      "name": "python3"
    },
    "language_info": {
      "name": "python"
    }
  },
  "nbformat": 4,
  "nbformat_minor": 0
}